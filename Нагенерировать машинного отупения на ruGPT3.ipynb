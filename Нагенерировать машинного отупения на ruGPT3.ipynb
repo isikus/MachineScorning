{
  "nbformat": 4,
  "nbformat_minor": 0,
  "metadata": {
    "accelerator": "GPU",
    "colab": {
      "name": "Нагенерировать машинного отупения на ruGPT3.ipynb",
      "provenance": [],
      "collapsed_sections": [
        "9IH1cb0oGkXP"
      ]
    },
    "kernelspec": {
      "display_name": "Python 3",
      "name": "python3"
    }
  },
  "cells": [
    {
      "cell_type": "markdown",
      "metadata": {
        "id": "YONnGjpAYUdU"
      },
      "source": [
        "\n",
        "<a href=\"https://colab.research.google.com/github/isikus/MachineScorning/blob/main/Нагенерировать%20машинного%20отупения%20на%20ruGPT3.ipynb\" target=\"_parent\"><img src=\"https://colab.research.google.com/assets/colab-badge.svg\" alt=\"Open In Colab\"/></a>"
      ]
    },
    {
      "cell_type": "markdown",
      "metadata": {
        "id": "3RHDK81QqrET"
      },
      "source": [
        "# Нагенерировать машинного отупения на ruGPT3"
      ]
    },
    {
      "cell_type": "code",
      "metadata": {
        "colab": {
          "base_uri": "https://localhost:8080/"
        },
        "id": "on7W1zhwAaKS",
        "cellView": "form",
        "outputId": "f85eb03b-82f1-476a-812d-f98f816c729f"
      },
      "source": [
        "import os\r\n",
        "import json\r\n",
        "\r\n",
        "def is_empty(fpath, default_lines=[[\"Дополни эту фразу\", \"И эту фразу тоже дополни\"], [\"Первый пример запроса\", \"Из нескольких строк\", \"\", \"И второй пример\", \"Я тоже придумать смог\"]]):\r\n",
        "  if not os.path.isfile(fpath):\r\n",
        "    return True\r\n",
        "  if not (os.path.getsize(fpath) > 0):\r\n",
        "    return True\r\n",
        "  if default_lines:\r\n",
        "    with open(fpath, \"r\") as infile:\r\n",
        "      lines = infile.read().split(\"\\n\")\r\n",
        "    for deflines in default_lines:\r\n",
        "      if lines == deflines:\r\n",
        "        return True\r\n",
        "  return False\r\n",
        "  \r\n",
        "\r\n",
        "def get_lbc(model_meta):\r\n",
        "  lbc = model_meta[\"line_break_character\"]\r\n",
        "  lbc = lbc.replace(\"\\s\", \" \")\r\n",
        "  return lbc\r\n",
        "\r\n",
        "#@markdown Для начала выберите модель:\r\n",
        "\r\n",
        "Модель = \"Нейроюморески\"  #@param [\"Нейроописания товаров\", \"Нейроинструкции на все случаи жизни\", \"Нейротексты «Короля и Шута»\", \"Нейроновости Северной Кореи\", \"Нейропоздравления с новым годом\", \"Нейроюморески\"]\r\n",
        "\r\n",
        "desc_dict = {\r\n",
        "    \"Нейроописания товаров\": \"products_desc\",\r\n",
        "    \"Нейроинструкции на все случаи жизни\": \"wikihowto\",\r\n",
        "    \"Нейротексты «Короля и Шута»\": \"kishverses\",\r\n",
        "    \"Нейроновости Северной Кореи\": \"rukcna\",\r\n",
        "    \"Нейропоздравления с новым годом\": \"greetings\",\r\n",
        "    \"Нейроюморески\": \"neurojumoreski\"\r\n",
        "}\r\n",
        "\r\n",
        "model = desc_dict[Модель]\r\n",
        "\r\n",
        "!wget -q --show-progress https://storage.googleapis.com/ml-bucket-isikus/machine-scorning/{model}.tar.gz\r\n",
        "!mkdir {model}\r\n",
        "!tar -xzf {model}.tar.gz -C {model}\r\n",
        "\r\n",
        "try:\r\n",
        "  with open(model+\"/meta.json\", \"r\") as injson:\r\n",
        "    model_meta = json.load(injson)\r\n",
        "  print('\\x1b[1m'+Модель + \": модель подготовлена\"+'\\x1b[0m')\r\n",
        "except Exception as e:\r\n",
        "  print('\\x1b[1;31m'+\"Что-то сломалось – модель не готова :(\"+'\\x1b[0m')"
      ],
      "execution_count": 1,
      "outputs": [
        {
          "output_type": "stream",
          "text": [
            "neurojumoreski.tar. 100%[===================>] 443.70M   113MB/s    in 4.4s    \n",
            "\u001b[1mНейроюморески: модель подготовлена\u001b[0m\n"
          ],
          "name": "stdout"
        }
      ]
    },
    {
      "cell_type": "markdown",
      "metadata": {
        "id": "fk5AMR1q5ifP"
      },
      "source": [
        "Теперь запишите варианты начала сообщений, которые должна дополнить модель, сразу под текстом `%%writefile input.txt`, по 1 разному началу на строку:"
      ]
    },
    {
      "cell_type": "code",
      "metadata": {
        "colab": {
          "base_uri": "https://localhost:8080/"
        },
        "id": "WOisDCMa5QZR",
        "outputId": "3b4e47a0-1b98-4d99-b65f-3827fcbc28cd"
      },
      "source": [
        "%%writefile input.txt\r\n",
        "Дополни эту фразу\r\n",
        "И эту фразу тоже дополни"
      ],
      "execution_count": 3,
      "outputs": [
        {
          "output_type": "stream",
          "text": [
            "Writing input.txt\n"
          ],
          "name": "stdout"
        }
      ]
    },
    {
      "cell_type": "markdown",
      "metadata": {
        "id": "8Y1U_F98ROVS"
      },
      "source": [
        "**Важно:** если ваши запросы содержат переносы строк (например, это начало стихотворения), вместо предыдущей клетки, заполните клетку ниже, разбивая ваш ввод двумя переносами строк. Код ниже заменит переносы строк на специальный символ – это необходимо для корректной работы модели."
      ]
    },
    {
      "cell_type": "code",
      "metadata": {
        "colab": {
          "base_uri": "https://localhost:8080/"
        },
        "id": "yK0q8R0uR3gs",
        "outputId": "395020c4-05e4-4035-dcd4-b010c20a6269"
      },
      "source": [
        "%%writefile input_with_lines.txt\r\n",
        "Первый пример запроса\r\n",
        "Из нескольких строк\r\n",
        "\r\n",
        "И второй пример\r\n",
        "Я тоже придумать смог"
      ],
      "execution_count": 4,
      "outputs": [
        {
          "output_type": "stream",
          "text": [
            "Writing input_with_lines.txt\n"
          ],
          "name": "stdout"
        }
      ]
    },
    {
      "cell_type": "markdown",
      "metadata": {
        "id": "BBU-YKC4ZL_d"
      },
      "source": [
        "Если у вас совсем нет идей, запустите код ниже – он скачает примеры запросов по умолчанию для вашей модели:"
      ]
    },
    {
      "cell_type": "code",
      "metadata": {
        "id": "_Ks9smG9YJUk",
        "colab": {
          "base_uri": "https://localhost:8080/"
        },
        "outputId": "f4fece1b-1a41-461c-81af-e6cd6f3c778d"
      },
      "source": [
        "if is_empty(\"input.txt\") and is_empty(\"input_with_lines.txt\"):\n",
        "  !cp {model}/example_input.txt input.txt\n",
        "  print('\\x1b[1;31m'+\"Загружены примеры по умолчанию\"+'\\x1b[0m')"
      ],
      "execution_count": 5,
      "outputs": [
        {
          "output_type": "stream",
          "text": [
            "\u001b[1;31mЗагружены примеры по умолчанию\u001b[0m\n"
          ],
          "name": "stdout"
        }
      ]
    },
    {
      "cell_type": "code",
      "metadata": {
        "cellView": "form",
        "id": "NVDPUK2wGvpl"
      },
      "source": [
        "#@markdown Наконец, укажите, сколько вариантов выдачи нужно сгенерировать модели на каждый из запросов (от 1 до 30):\r\n",
        "\r\n",
        "Повторов = 4  #@param {\"type\": \"integer\"}\r\n",
        "takes = Повторов\r\n",
        "\r\n",
        "if takes < 1:\r\n",
        "  takes = 1\r\n",
        "  print(\"Это маловато. Установили значение \" + str(takes) + \".\")\r\n",
        "if takes > 30:\r\n",
        "  takes = 30\r\n",
        "  print(\"Это многовато. Установили значение \" + str(takes) + \".\")\r\n",
        "if type(takes) != int:\r\n",
        "  takes = 4\r\n",
        "  print(\"Что-то пошло не так. Установили значение \" + str(takes) + \".\")"
      ],
      "execution_count": 6,
      "outputs": []
    },
    {
      "cell_type": "markdown",
      "metadata": {
        "id": "9IH1cb0oGkXP"
      },
      "source": [
        "## Подготавливаем среду для модели\r\n",
        "Сами файлы скачаны, но нужно ещё выполнить код, чтобы подготовить модель к работе."
      ]
    },
    {
      "cell_type": "markdown",
      "metadata": {
        "id": "Y4l_N3Rw_7AJ"
      },
      "source": [
        "Проверяем, что мы подключены к видеокарте: команда в клетке ниже должна работать и показывать показывать примерно 12000-15000 Мб свободной памяти:"
      ]
    },
    {
      "cell_type": "code",
      "metadata": {
        "colab": {
          "base_uri": "https://localhost:8080/"
        },
        "id": "Kd1B5BJB_thJ",
        "outputId": "6ade597e-cb2c-4eb6-af5c-635e1574fc54"
      },
      "source": [
        "!nvidia-smi"
      ],
      "execution_count": 7,
      "outputs": [
        {
          "output_type": "stream",
          "text": [
            "Sat Mar  6 11:30:08 2021       \n",
            "+-----------------------------------------------------------------------------+\n",
            "| NVIDIA-SMI 460.39       Driver Version: 460.32.03    CUDA Version: 11.2     |\n",
            "|-------------------------------+----------------------+----------------------+\n",
            "| GPU  Name        Persistence-M| Bus-Id        Disp.A | Volatile Uncorr. ECC |\n",
            "| Fan  Temp  Perf  Pwr:Usage/Cap|         Memory-Usage | GPU-Util  Compute M. |\n",
            "|                               |                      |               MIG M. |\n",
            "|===============================+======================+======================|\n",
            "|   0  Tesla T4            Off  | 00000000:00:04.0 Off |                    0 |\n",
            "| N/A   58C    P8    10W /  70W |      0MiB / 15109MiB |      0%      Default |\n",
            "|                               |                      |                  N/A |\n",
            "+-------------------------------+----------------------+----------------------+\n",
            "                                                                               \n",
            "+-----------------------------------------------------------------------------+\n",
            "| Processes:                                                                  |\n",
            "|  GPU   GI   CI        PID   Type   Process name                  GPU Memory |\n",
            "|        ID   ID                                                   Usage      |\n",
            "|=============================================================================|\n",
            "|  No running processes found                                                 |\n",
            "+-----------------------------------------------------------------------------+\n"
          ],
          "name": "stdout"
        }
      ]
    },
    {
      "cell_type": "markdown",
      "metadata": {
        "id": "Xa62C9TeU_U5"
      },
      "source": [
        "Устанавливаем нужные версии библиотек:"
      ]
    },
    {
      "cell_type": "code",
      "metadata": {
        "colab": {
          "base_uri": "https://localhost:8080/"
        },
        "id": "asqMueYPeIgK",
        "outputId": "328ae18e-8fb6-49b9-8ae5-7cd984f16261"
      },
      "source": [
        "!pip3 install -q urllib3==1.25.4 transformers==2.8.0\r\n",
        "\r\n",
        "print('\\n'+'\\x1b[1m'+\"Требуемые версии пакетов установлены\"+'\\x1b[0m')"
      ],
      "execution_count": 8,
      "outputs": [
        {
          "output_type": "stream",
          "text": [
            "\u001b[K     |████████████████████████████████| 133kB 9.4MB/s \n",
            "\u001b[K     |████████████████████████████████| 573kB 17.5MB/s \n",
            "\u001b[K     |████████████████████████████████| 5.6MB 16.7MB/s \n",
            "\u001b[K     |████████████████████████████████| 1.2MB 52.0MB/s \n",
            "\u001b[K     |████████████████████████████████| 890kB 45.0MB/s \n",
            "\u001b[K     |████████████████████████████████| 133kB 58.7MB/s \n",
            "\u001b[K     |████████████████████████████████| 71kB 10.6MB/s \n",
            "\u001b[K     |████████████████████████████████| 7.3MB 54.4MB/s \n",
            "\u001b[?25h  Building wheel for sacremoses (setup.py) ... \u001b[?25l\u001b[?25hdone\n",
            "\u001b[31mERROR: datascience 0.10.6 has requirement folium==0.2.1, but you'll have folium 0.8.3 which is incompatible.\u001b[0m\n",
            "\n",
            "\u001b[1mТребуемые версии пакетов установлены\u001b[0m\n"
          ],
          "name": "stdout"
        }
      ]
    },
    {
      "cell_type": "markdown",
      "metadata": {
        "id": "iT0Njx_J8gsw"
      },
      "source": [
        "Скачиваем файл с исходным кодом для работы модели:"
      ]
    },
    {
      "cell_type": "code",
      "metadata": {
        "colab": {
          "base_uri": "https://localhost:8080/"
        },
        "id": "mpkjTWefecLc",
        "outputId": "ae4ab1ec-f3a5-47d5-efac-07bed3abd7d4"
      },
      "source": [
        "!wget -q --show-progress https://raw.githubusercontent.com/sberbank-ai/ru-gpts/master/generate_transformers.py\r\n",
        "\r\n",
        "print('\\n'+'\\x1b[1m'+\"Код запуска модели загружен\"+'\\x1b[0m')"
      ],
      "execution_count": 9,
      "outputs": [
        {
          "output_type": "stream",
          "text": [
            "\rgenerate_transforme   0%[                    ]       0  --.-KB/s               \rgenerate_transforme 100%[===================>]  10.23K  --.-KB/s    in 0s      \n",
            "\n",
            "\u001b[1mКод запуска модели загружен\u001b[0m\n"
          ],
          "name": "stdout"
        }
      ]
    },
    {
      "cell_type": "markdown",
      "metadata": {
        "id": "h6tgF3M_WKgL"
      },
      "source": [
        "Запускаем код, необходимый для преобразования файлов и отображения выдачи:"
      ]
    },
    {
      "cell_type": "code",
      "metadata": {
        "colab": {
          "base_uri": "https://localhost:8080/"
        },
        "id": "OLQ0nauvOR6K",
        "outputId": "c0f66c36-9c46-4a5f-8473-a62339527521"
      },
      "source": [
        "import re\r\n",
        "import os\r\n",
        "import sys\r\n",
        "import json\r\n",
        "import random\r\n",
        "from datetime import datetime\r\n",
        "\r\n",
        "from IPython.display import Markdown, display\r\n",
        "\r\n",
        "def printmd(string):\r\n",
        "    display(Markdown(string))\r\n",
        "\r\n",
        "with open(model+\"/meta.json\", \"r\") as injson:\r\n",
        "  model_meta = json.load(injson)\r\n",
        "\r\n",
        "# converting inputs\r\n",
        "\r\n",
        "s = \"\"\r\n",
        "\r\n",
        "if not is_empty(\"input_with_lines.txt\"):\r\n",
        "  with open(\"input_with_lines.txt\", \"r\", encoding=\"utf-8\") as intxt:\r\n",
        "    prompts = [get_lbc(model_meta).join([sp for sp in p.split(\"\\n\") if sp]) for p in intxt.read().split(\"\\n\\n\") if p]\r\n",
        "else:\r\n",
        "  with open(\"input.txt\", \"r\", encoding=\"utf-8\") as intxt:\r\n",
        "    prompts = [p for p in intxt.read().split(\"\\n\") if p]\r\n",
        "\r\n",
        "for prompt in prompts:\r\n",
        "  s += (model_meta['prompt'] % prompt + '\\n') * takes\r\n",
        "\r\n",
        "with open(\"rawi.txt\", \"w\", encoding=\"utf-8\") as rawo:\r\n",
        "  rawo.write(s)\r\n",
        "\r\n",
        "print('\\x1b[1m'+\"Среда подготовлена\"+'\\x1b[0m')"
      ],
      "execution_count": 10,
      "outputs": [
        {
          "output_type": "stream",
          "text": [
            "\u001b[1mСреда подготовлена\u001b[0m\n"
          ],
          "name": "stdout"
        }
      ]
    },
    {
      "cell_type": "markdown",
      "metadata": {
        "id": "DP7YAlDPqknI"
      },
      "source": [
        "## Генерируем отупение\r\n",
        "\r\n",
        "Теперь всё, наконец, готово к тому, чтобы модель сгенерировала нам выдачу. То, насколько серьёзный и осмысленный текст будет пытаться выдавать модель, можно регулировать по шкале **`Бредовость`**: здесь есть 5 степеней – от самой нормальной до самой странной (я предупреждал). Кроме этого, флажок **`Повторяться`** определяет, как будет работать модель: если галочку оставить, то первый результат будет очень похож не те, что есть в канале, а последующие будут с ним совпадать. А если снять галочку, то выдача модели каждый раз будет новая. Удачи!"
      ]
    },
    {
      "cell_type": "code",
      "metadata": {
        "colab": {
          "base_uri": "https://localhost:8080/",
          "height": 1000
        },
        "cellView": "form",
        "id": "i82pDH4MYTKl",
        "outputId": "32249511-caf8-4b1e-8914-3188f2802366"
      },
      "source": [
        "#@markdown ### Начать генерацию!\r\n",
        "\r\n",
        "Бредовость = 75 #@param {type: \"slider\", min: 0, max: 100, step: 25}\r\n",
        "stlv = Бредовость\r\n",
        "\r\n",
        "stup_cases = {\r\n",
        "    0: {\"k\": 5, \"p\": 0.95, \"temp\": 1.0},\r\n",
        "    25: {\"k\": 5, \"p\": 0.93, \"temp\": 2.0},\r\n",
        "    50: {\"k\": 6, \"p\": 0.91, \"temp\": 3.0},\r\n",
        "    75: {\"k\": 6, \"p\": 0.9, \"temp\": 4.0},\r\n",
        "    100: {\"k\": 7, \"p\": 0.88, \"temp\": 5.0}\r\n",
        "}\r\n",
        "\r\n",
        "Повторяться = True   # @param {\"type\": \"boolean\"}\r\n",
        "add_randomness = not Повторяться\r\n",
        "\r\n",
        "rs = random.choice(list(range(0, 10000))) if add_randomness else 42\r\n",
        "printmd(\"Ключ случайного значения: **\"+str(rs)+\"**\")\r\n",
        "\r\n",
        "responses = !python generate_transformers.py \\\r\n",
        "    --model_type=gpt2 \\\r\n",
        "    --model_name_or_path={model} \\\r\n",
        "    --k={str(stup_cases[stlv][\"k\"])} \\\r\n",
        "    --p={str(stup_cases[stlv][\"p\"])} \\\r\n",
        "    --seed={str(rs)} \\\r\n",
        "    --temperature={str(stup_cases[stlv][\"temp\"])} \\\r\n",
        "    --repetition_penalty=1.0 \\\r\n",
        "    --stop_token=\"{model_meta['sequence_end_character']}\" \\\r\n",
        "    --length=500 < rawi.txt 2>/dev/null\r\n",
        "\r\n",
        "responses = \"\\n\".join(list(responses))\r\n",
        "\r\n",
        "lbc = model_meta[\"line_break_character\"]\r\n",
        "ssc = model_meta[\"sequence_start_character\"]\r\n",
        "sec = model_meta[\"sequence_end_character\"]\r\n",
        "prompt = re.sub(r\"%[a-z]+\", \"(.*?)\", model_meta[\"prompt\"])\r\n",
        "\r\n",
        "resps = [r for r in responses.split(\"Context >>> ruGPT:\\n\") if r]\r\n",
        "sps = [sp for sp in s.split(\"\\n\") if sp]\r\n",
        "for sp, resp in zip(sps, resps):\r\n",
        "  pt = re.search(re.sub(r\"%[a-z]+\", \"(.*)\", re.escape(model_meta[\"prompt\"])), sp).group(1)\r\n",
        "  rs, _ = re.findall(re.compile(re.escape(sp) + r\"\\n?(.*?)(\" + ssc + \"|$)\", flags=re.DOTALL), resp)[0]\r\n",
        "  pt = \"<br>\".join(\"<b>\" + p + \"</b>\" for p in re.split(lbc, pt) if p)\r\n",
        "  printmd(pt)\r\n",
        "  rs = re.sub(lbc, \"<br>\", rs).strip()\r\n",
        "  rs = re.sub(r\"([^\\s])<br>([^\\s])\", r\"\\1 <br> \\2\", rs)\r\n",
        "  rse = len(rs) if rs.find(\"Context >>\") == -1 else rs.find(\"Context >>\")\r\n",
        "  printmd(rs[:rse] + \"<br>\")"
      ],
      "execution_count": 47,
      "outputs": [
        {
          "output_type": "display_data",
          "data": {
            "text/markdown": "Ключ случайного значения: **5817**",
            "text/plain": [
              "<IPython.core.display.Markdown object>"
            ]
          },
          "metadata": {
            "tags": []
          }
        },
        {
          "output_type": "display_data",
          "data": {
            "text/markdown": "**Идёт медведь по лесу, видит – машина горит.**",
            "text/plain": [
              "<IPython.core.display.Markdown object>"
            ]
          },
          "metadata": {
            "tags": []
          }
        },
        {
          "output_type": "display_data",
          "data": {
            "text/markdown": "Он спрашивает у неё, мол что делать будем. Машина загорелась, медведь её догнал и давай еб*ать.<br>",
            "text/plain": [
              "<IPython.core.display.Markdown object>"
            ]
          },
          "metadata": {
            "tags": []
          }
        },
        {
          "output_type": "display_data",
          "data": {
            "text/markdown": "**Идёт медведь по лесу, видит – машина горит.**",
            "text/plain": [
              "<IPython.core.display.Markdown object>"
            ]
          },
          "metadata": {
            "tags": []
          }
        },
        {
          "output_type": "display_data",
          "data": {
            "text/markdown": "Сел в неё, а оттуда дым, гарь. Ну медведь думает: ща народ приедет расскажу, что тут творится, что делать буду... <br> В этот раз приезжает комиссия с мужскими долгами и говорит: <br>– Мужики давайте мы вас отвезём к нашим юристам, там решим, что с вами можно сделать, а что нет. Идёт медведь дальше и смотрит, а там машина стоит и дым идёт, гарный такой. Он говорит мужикам: <br> - А давайте я вас отвезу с юристу домой к нашим женам, пусть там думают, что делать. <br> Приезжает мужик в суд с иском, выигрывает его. Приезжает домой с тремя детьми: Сашенькой, Денькой, Илонкой и Леночкой, а ему говорит: <br> - А вот вам по маленькой. Сашок – большой, а Димка – большой! <br> Приехал мужик в гаи с жалобе. Жуткие разборчии: <br> — Ну, как там, что у вас? Что с деньгами стало?<br>",
            "text/plain": [
              "<IPython.core.display.Markdown object>"
            ]
          },
          "metadata": {
            "tags": []
          }
        },
        {
          "output_type": "display_data",
          "data": {
            "text/markdown": "**Идёт медведь по лесу, видит – машина горит.**",
            "text/plain": [
              "<IPython.core.display.Markdown object>"
            ]
          },
          "metadata": {
            "tags": []
          }
        },
        {
          "output_type": "display_data",
          "data": {
            "text/markdown": "Ну он к ней и подходит: <br>— Ты кто? — спрашивает,  ты куда без машины? — а вот еду я на своей <br> машине. А он ей говорит: \"Я знаю тебя\". — \"Знаю\" — говорит — ну а как ты узнал что я еду в своей <br>машине <br>А у него на лице аж две ухмылка появились. \"Ты ебало то завали\",- и дальше <br> пошел<br>",
            "text/plain": [
              "<IPython.core.display.Markdown object>"
            ]
          },
          "metadata": {
            "tags": []
          }
        },
        {
          "output_type": "display_data",
          "data": {
            "text/markdown": "**Идёт медведь по лесу, видит – машина горит.**",
            "text/plain": [
              "<IPython.core.display.Markdown object>"
            ]
          },
          "metadata": {
            "tags": []
          }
        },
        {
          "output_type": "display_data",
          "data": {
            "text/markdown": "Сел за рулём и сгорел, как ни пытался разогнать...<br>",
            "text/plain": [
              "<IPython.core.display.Markdown object>"
            ]
          },
          "metadata": {
            "tags": []
          }
        },
        {
          "output_type": "display_data",
          "data": {
            "text/markdown": "**Идёт медведь по лесу, видит – машина горит.**",
            "text/plain": [
              "<IPython.core.display.Markdown object>"
            ]
          },
          "metadata": {
            "tags": []
          }
        },
        {
          "output_type": "display_data",
          "data": {
            "text/markdown": "Сел на водительское сиденье <br> — Ты чё дурак? 😂╯／<br>",
            "text/plain": [
              "<IPython.core.display.Markdown object>"
            ]
          },
          "metadata": {
            "tags": []
          }
        },
        {
          "output_type": "display_data",
          "data": {
            "text/markdown": "**Идёт медведь по лесу, видит – машина горит.**",
            "text/plain": [
              "<IPython.core.display.Markdown object>"
            ]
          },
          "metadata": {
            "tags": []
          }
        },
        {
          "output_type": "display_data",
          "data": {
            "text/markdown": "Сел за руль.<br>",
            "text/plain": [
              "<IPython.core.display.Markdown object>"
            ]
          },
          "metadata": {
            "tags": []
          }
        },
        {
          "output_type": "display_data",
          "data": {
            "text/markdown": "**Идёт медведь по лесу, видит – машина горит.**",
            "text/plain": [
              "<IPython.core.display.Markdown object>"
            ]
          },
          "metadata": {
            "tags": []
          }
        },
        {
          "output_type": "display_data",
          "data": {
            "text/markdown": "<br>Подходит, стучит в дверь и говорит: <br> -Хочу с тобой поделиться, но дверь закрыта<br>",
            "text/plain": [
              "<IPython.core.display.Markdown object>"
            ]
          },
          "metadata": {
            "tags": []
          }
        },
        {
          "output_type": "display_data",
          "data": {
            "text/markdown": "**Идёт медведь по лесу, видит – машина горит.**",
            "text/plain": [
              "<IPython.core.display.Markdown object>"
            ]
          },
          "metadata": {
            "tags": []
          }
        },
        {
          "output_type": "display_data",
          "data": {
            "text/markdown": "Сел и сгорел, как и все.<br>",
            "text/plain": [
              "<IPython.core.display.Markdown object>"
            ]
          },
          "metadata": {
            "tags": []
          }
        },
        {
          "output_type": "display_data",
          "data": {
            "text/markdown": "**Идёт медведь по лесу, видит – машина горит.**",
            "text/plain": [
              "<IPython.core.display.Markdown object>"
            ]
          },
          "metadata": {
            "tags": []
          }
        },
        {
          "output_type": "display_data",
          "data": {
            "text/markdown": "Он к ней подошел, дверцу закрыл и ждёт пока машина тронет… <br> — Ты чего молчишь! Что случилось-то!? Почему ты так тихо молчишь!? <br> — Ну, медведь всё понял...<br>",
            "text/plain": [
              "<IPython.core.display.Markdown object>"
            ]
          },
          "metadata": {
            "tags": []
          }
        },
        {
          "output_type": "display_data",
          "data": {
            "text/markdown": "**Идёт медведь по лесу, видит – машина горит.**",
            "text/plain": [
              "<IPython.core.display.Markdown object>"
            ]
          },
          "metadata": {
            "tags": []
          }
        },
        {
          "output_type": "display_data",
          "data": {
            "text/markdown": "Ну, думает, ёбаный в своём же городе... <br> <br>Идут они значит по улице...<br>",
            "text/plain": [
              "<IPython.core.display.Markdown object>"
            ]
          },
          "metadata": {
            "tags": []
          }
        },
        {
          "output_type": "display_data",
          "data": {
            "text/markdown": "**Идёт медведь по лесу, видит – машина горит.**",
            "text/plain": [
              "<IPython.core.display.Markdown object>"
            ]
          },
          "metadata": {
            "tags": []
          }
        },
        {
          "output_type": "display_data",
          "data": {
            "text/markdown": "Сел, закурил и ждёт… Через 15 минут приезжает машина. Выходит, водитель спрашивает: <br> -Ну, как там у вас с тушенкою, что делать? <br> Водитель: <br> -Да нормально всё. Вот я вчера заезжал к вам, и вы мне рассказали про новую машину. Я туда сел и сгорел… <br> Водитель: <br> -Так вот где тушенки! <br> Муж: <br>Идёт по улице и думает: <br> – \"Хочу, чтобы на моём лице был хоть какой-нибудь макияж, чтобы оно ещё долго после этого смотрело, что у них в холодильнике стоит\". <br>И думает: <br>– \"Нет уж, пусть лучше будут такие же блестящие глаза\". <br>Идёт, значит, по улице, и тут замечает на обочине старую обоссаную тачка и надпись \"ВАМ ВСЕ РАВНЫ\". <br>Подъезжает и говорит этому бедолаге:<br>",
            "text/plain": [
              "<IPython.core.display.Markdown object>"
            ]
          },
          "metadata": {
            "tags": []
          }
        },
        {
          "output_type": "display_data",
          "data": {
            "text/markdown": "**Идёт медведь по лесу, видит – машина горит.**",
            "text/plain": [
              "<IPython.core.display.Markdown object>"
            ]
          },
          "metadata": {
            "tags": []
          }
        },
        {
          "output_type": "display_data",
          "data": {
            "text/markdown": "Сел в неё, сел и сгорел... <br> <br>***<br> <br>- Как зовут твою девушку-брюнетку? (М) <br>- Роза (Р) (Б) <br>- Оооо, это ты! (В)-??(Б)- да. <br> *** <br> <br>- Что такое «пидорыч»?(Р)- ну это такая группа, у которых есть свои группы, они там типа все время какие либо группы поют, ну ты понимаешь это, короче есть у них такая тема - педераст. <br> - Да? И какие они педерасты? <br> <br> ****<br>",
            "text/plain": [
              "<IPython.core.display.Markdown object>"
            ]
          },
          "metadata": {
            "tags": []
          }
        },
        {
          "output_type": "display_data",
          "data": {
            "text/markdown": "**Идёт медведь по лесу, видит – машина горит.**",
            "text/plain": [
              "<IPython.core.display.Markdown object>"
            ]
          },
          "metadata": {
            "tags": []
          }
        },
        {
          "output_type": "display_data",
          "data": {
            "text/markdown": "Он сел, достал спички и давай поджигать машины... ыдыгыгыыыыыыхыы ьптыжпыыжыыьжппызь ырп ызыж ырпыжыыыыЫыыы<br>",
            "text/plain": [
              "<IPython.core.display.Markdown object>"
            ]
          },
          "metadata": {
            "tags": []
          }
        },
        {
          "output_type": "display_data",
          "data": {
            "text/markdown": "**Идёт медведь по лесу, видит – машина горит.**",
            "text/plain": [
              "<IPython.core.display.Markdown object>"
            ]
          },
          "metadata": {
            "tags": []
          }
        },
        {
          "output_type": "display_data",
          "data": {
            "text/markdown": "<br>Медведь говорит медведиску:<br>  - Ну, ты, мужик! <br>  - Ну, что ты, не боися! Я её сожру.<br> - Да не надо, Мишка. Сжрёшь, сжевешь, я её не трону.<br>",
            "text/plain": [
              "<IPython.core.display.Markdown object>"
            ]
          },
          "metadata": {
            "tags": []
          }
        },
        {
          "output_type": "display_data",
          "data": {
            "text/markdown": "**Идёт медведь по лесу, видит – машина горит.**",
            "text/plain": [
              "<IPython.core.display.Markdown object>"
            ]
          },
          "metadata": {
            "tags": []
          }
        },
        {
          "output_type": "display_data",
          "data": {
            "text/markdown": "<br>-Ты куда? К кому едешь? <br> Водитель ответил:<br>",
            "text/plain": [
              "<IPython.core.display.Markdown object>"
            ]
          },
          "metadata": {
            "tags": []
          }
        },
        {
          "output_type": "display_data",
          "data": {
            "text/markdown": "**Идёт медведь по лесу, видит – машина горит.**",
            "text/plain": [
              "<IPython.core.display.Markdown object>"
            ]
          },
          "metadata": {
            "tags": []
          }
        },
        {
          "output_type": "display_data",
          "data": {
            "text/markdown": "Сел за рулём, вырулил и сгорел <br> _____<br>",
            "text/plain": [
              "<IPython.core.display.Markdown object>"
            ]
          },
          "metadata": {
            "tags": []
          }
        },
        {
          "output_type": "display_data",
          "data": {
            "text/markdown": "**Идёт медведь по лесу, видит – машина горит.**",
            "text/plain": [
              "<IPython.core.display.Markdown object>"
            ]
          },
          "metadata": {
            "tags": []
          }
        },
        {
          "output_type": "display_data",
          "data": {
            "text/markdown": "Сел в нее и… <br> — Ёбаный рот этого мира!!! Почему так, бля?! Кто виноват? Почему мы не убирались полгода?! Почему люди не убираются по 12-15 раз?! 🌲🌲 <br> Этим рэкетиратом была не проституткушка, не дебильная продавщица. 🌲😲<br>",
            "text/plain": [
              "<IPython.core.display.Markdown object>"
            ]
          },
          "metadata": {
            "tags": []
          }
        },
        {
          "output_type": "display_data",
          "data": {
            "text/markdown": "**Идёт медведь по лесу, видит – машина горит.**",
            "text/plain": [
              "<IPython.core.display.Markdown object>"
            ]
          },
          "metadata": {
            "tags": []
          }
        },
        {
          "output_type": "display_data",
          "data": {
            "text/markdown": "Сел за нее и сгорел, сгорел дотла. Сел за машину и утонул. <br> — А это ещё что! - рассердился он. Сел за неё и сгорел<br>",
            "text/plain": [
              "<IPython.core.display.Markdown object>"
            ]
          },
          "metadata": {
            "tags": []
          }
        },
        {
          "output_type": "display_data",
          "data": {
            "text/markdown": "**Идёт медведь по лесу, видит – машина горит.**",
            "text/plain": [
              "<IPython.core.display.Markdown object>"
            ]
          },
          "metadata": {
            "tags": []
          }
        },
        {
          "output_type": "display_data",
          "data": {
            "text/markdown": "Сел в неё. Приехал на аэродром. Подходит и орет <br> — А-А, ёлочки, ёлочка!!! <br> Машина загореться не могла, так и уехала в лес.<br>",
            "text/plain": [
              "<IPython.core.display.Markdown object>"
            ]
          },
          "metadata": {
            "tags": []
          }
        },
        {
          "output_type": "display_data",
          "data": {
            "text/markdown": "**Идёт медведь по лесу, видит – машина горит.**",
            "text/plain": [
              "<IPython.core.display.Markdown object>"
            ]
          },
          "metadata": {
            "tags": []
          }
        },
        {
          "output_type": "display_data",
          "data": {
            "text/markdown": "Сел в неё, а дальше сам в нее залез, а там ещё и автомат есть, который в машину залезет – автомат работает, но дыма от машины нет – машина сгорела! <br>Медведь вылез в машину и сгорел, но остался жив, а машина загорелась и все живы остались<br>",
            "text/plain": [
              "<IPython.core.display.Markdown object>"
            ]
          },
          "metadata": {
            "tags": []
          }
        },
        {
          "output_type": "display_data",
          "data": {
            "text/markdown": "**Идёт медведь по лесу, видит – машина горит.**",
            "text/plain": [
              "<IPython.core.display.Markdown object>"
            ]
          },
          "metadata": {
            "tags": []
          }
        },
        {
          "output_type": "display_data",
          "data": {
            "text/markdown": "Сел за ручник и давай глушиться, машина-то сама тронулась, сел за баранку, машина сама тронулась, и тд... <br>- Ёбаный рот этого мира, блядь! <br>И сгорел дотлевающей свечкой! <br> - Ты кто, сука ебаная? <br>- Я – медведь.<br>",
            "text/plain": [
              "<IPython.core.display.Markdown object>"
            ]
          },
          "metadata": {
            "tags": []
          }
        },
        {
          "output_type": "display_data",
          "data": {
            "text/markdown": "**Идёт медведь по лесу, видит – машина горит.**",
            "text/plain": [
              "<IPython.core.display.Markdown object>"
            ]
          },
          "metadata": {
            "tags": []
          }
        },
        {
          "output_type": "display_data",
          "data": {
            "text/markdown": "Сел за неё и давай глушить машину. Ну, сел в нее с тем чтобы ехать. Едет он и едет. Тут из под колес вывалилась собака, которая начала срать в его машину.<br>",
            "text/plain": [
              "<IPython.core.display.Markdown object>"
            ]
          },
          "metadata": {
            "tags": []
          }
        },
        {
          "output_type": "display_data",
          "data": {
            "text/markdown": "**Идёт медведь по лесу, видит – машина горит.**",
            "text/plain": [
              "<IPython.core.display.Markdown object>"
            ]
          },
          "metadata": {
            "tags": []
          }
        },
        {
          "output_type": "display_data",
          "data": {
            "text/markdown": "<br>\"Ээ..э.. машина где же?!\" – думает медведич. Сел на машину <br>сидит – дальше едет. Сел в машину, сел рядом...<br>",
            "text/plain": [
              "<IPython.core.display.Markdown object>"
            ]
          },
          "metadata": {
            "tags": []
          }
        },
        {
          "output_type": "display_data",
          "data": {
            "text/markdown": "**Идёт медведь по лесу, видит – машина горит.**",
            "text/plain": [
              "<IPython.core.display.Markdown object>"
            ]
          },
          "metadata": {
            "tags": []
          }
        },
        {
          "output_type": "display_data",
          "data": {
            "text/markdown": "Сел на нее и сгорел. Водитель спрашивает его : <br> – А где твоя машина? Ты её где оставил?!<br>",
            "text/plain": [
              "<IPython.core.display.Markdown object>"
            ]
          },
          "metadata": {
            "tags": []
          }
        },
        {
          "output_type": "display_data",
          "data": {
            "text/markdown": "**Идёт медведь по лесу, видит – машина горит.**",
            "text/plain": [
              "<IPython.core.display.Markdown object>"
            ]
          },
          "metadata": {
            "tags": []
          }
        },
        {
          "output_type": "display_data",
          "data": {
            "text/markdown": "Сел в неё. Сел в машину...<br>",
            "text/plain": [
              "<IPython.core.display.Markdown object>"
            ]
          },
          "metadata": {
            "tags": []
          }
        },
        {
          "output_type": "display_data",
          "data": {
            "text/markdown": "**Идёт медведь по лесу, видит – машина горит.**",
            "text/plain": [
              "<IPython.core.display.Markdown object>"
            ]
          },
          "metadata": {
            "tags": []
          }
        },
        {
          "output_type": "display_data",
          "data": {
            "text/markdown": "<br>Сел он, сел, а она как раз! Ну мужик думает – что делать, залез, посмотрел вокруг и говорит машине – мол ёбана рот. А она как раз и загорелась! <br>Ебнул мужика ногой и машина в лес! <br> Ну медведь и умер...<br>",
            "text/plain": [
              "<IPython.core.display.Markdown object>"
            ]
          },
          "metadata": {
            "tags": []
          }
        },
        {
          "output_type": "display_data",
          "data": {
            "text/markdown": "**Идёт медведь по лесу, видит – машина горит.**",
            "text/plain": [
              "<IPython.core.display.Markdown object>"
            ]
          },
          "metadata": {
            "tags": []
          }
        },
        {
          "output_type": "display_data",
          "data": {
            "text/markdown": "Сел за руль и в крч вырулило на полосу встречного<br> объвления и сгорел.<br>",
            "text/plain": [
              "<IPython.core.display.Markdown object>"
            ]
          },
          "metadata": {
            "tags": []
          }
        },
        {
          "output_type": "display_data",
          "data": {
            "text/markdown": "**Идёт медведь по лесу, видит – машина горит.**",
            "text/plain": [
              "<IPython.core.display.Markdown object>"
            ]
          },
          "metadata": {
            "tags": []
          }
        },
        {
          "output_type": "display_data",
          "data": {
            "text/markdown": "<br>Медведь в ужасе:<br> - Помогите, кто поможет?! <br>Поднимает голову и спрашивает у Богатыря: <br>– Что это там у вас за механизм в машине стоит? <br>– Да так... Это... Как её... Пилипатит, – говорит Богатырь.<br>",
            "text/plain": [
              "<IPython.core.display.Markdown object>"
            ]
          },
          "metadata": {
            "tags": []
          }
        },
        {
          "output_type": "display_data",
          "data": {
            "text/markdown": "**Идёт медведь по лесу, видит – машина горит.**",
            "text/plain": [
              "<IPython.core.display.Markdown object>"
            ]
          },
          "metadata": {
            "tags": []
          }
        },
        {
          "output_type": "display_data",
          "data": {
            "text/markdown": "Сел, включил фары. Машина уже зелёная стоит. Сел, поехал в неё…<br>",
            "text/plain": [
              "<IPython.core.display.Markdown object>"
            ]
          },
          "metadata": {
            "tags": []
          }
        },
        {
          "output_type": "display_data",
          "data": {
            "text/markdown": "**Идёт медведь по лесу, видит – машина горит.**",
            "text/plain": [
              "<IPython.core.display.Markdown object>"
            ]
          },
          "metadata": {
            "tags": []
          }
        },
        {
          "output_type": "display_data",
          "data": {
            "text/markdown": "<br>Ну мужик в ажуре. Забегал в магазин за пивом, сел в неё <br>ну, думает, сейчас догоню зайца <br>и сожрут, а заяц и не заметит. Забралась <br>за руль и помчалась к ближайщему дому. <br>Ну медведь уже был дома, сидит ждёт, медведь догоняет. Заяц его и спрашивает, мол <br>ну, что, мишка, опять мишку объебался, да? Ну а мужик отвечает <br>\"нет\", \"а я-то тебя знаю!\" <br> Ну зайц и сожрёт его! <br> Мужики собрались с мужичком домой: 💕 <br>– А я-то тебя прекрасно помню, Миша! <br> Ну а заяц ему: \"А вот тебе щавель!\" <br> <br>___ <br>И че? Ты чё, охуевший? Или чё, ебать тебя в жопу, да? Я тебя, конечно, уважаю. А как узнал-то, что мы тут все вместе живём и вместе пидарассы какие! Ты ж не только про моего брата мне вчера рассказывал. Ты вообще, я думаю, что это как минимум надо как-бы сказать так... ыыыхыхы<br>",
            "text/plain": [
              "<IPython.core.display.Markdown object>"
            ]
          },
          "metadata": {
            "tags": []
          }
        },
        {
          "output_type": "display_data",
          "data": {
            "text/markdown": "**Купил мужик шляпу,**",
            "text/plain": [
              "<IPython.core.display.Markdown object>"
            ]
          },
          "metadata": {
            "tags": []
          }
        },
        {
          "output_type": "display_data",
          "data": {
            "text/markdown": "а он не влез< /s>Юмореска:<br>",
            "text/plain": [
              "<IPython.core.display.Markdown object>"
            ]
          },
          "metadata": {
            "tags": []
          }
        },
        {
          "output_type": "display_data",
          "data": {
            "text/markdown": "**Купил мужик шляпу,**",
            "text/plain": [
              "<IPython.core.display.Markdown object>"
            ]
          },
          "metadata": {
            "tags": []
          }
        },
        {
          "output_type": "display_data",
          "data": {
            "text/markdown": "а она ему<br>",
            "text/plain": [
              "<IPython.core.display.Markdown object>"
            ]
          },
          "metadata": {
            "tags": []
          }
        },
        {
          "output_type": "display_data",
          "data": {
            "text/markdown": "**Купил мужик шляпу,**",
            "text/plain": [
              "<IPython.core.display.Markdown object>"
            ]
          },
          "metadata": {
            "tags": []
          }
        },
        {
          "output_type": "display_data",
          "data": {
            "text/markdown": "она ему КАК РАЗ!   /. /. 🌍💨😌⛝  /.. 💭😭<br>",
            "text/plain": [
              "<IPython.core.display.Markdown object>"
            ]
          },
          "metadata": {
            "tags": []
          }
        },
        {
          "output_type": "display_data",
          "data": {
            "text/markdown": "**Купил мужик шляпу,**",
            "text/plain": [
              "<IPython.core.display.Markdown object>"
            ]
          },
          "metadata": {
            "tags": []
          }
        },
        {
          "output_type": "display_data",
          "data": {
            "text/markdown": "а её нет <br> <br>Подходит парень: Я могу почини шляпу и купить <br>её <br> <br>Парень в шоке. Подходит к девушке, которая почини ему <br> <br>шляпу <br> <br>- Ты что наделала блядь?! Я же тебе   сказал!! <br> - Что ты наделал?! Что ты сказал, блядь?!!!!!! <br> - Я не наделяю шляпу <br> <br>Идёт по лесу мужик. Смотит — лежит мертвая кошка <br>- Кошаки, котята. Он ее поднял. Кошка ему говорит \"ты что наделал, ебать тебя в жопу\" <br>Мужику стало обидно, что так грубо отшил кошку, а не кота. Подошел и спрашивает: \"ты че наделал\"<br>",
            "text/plain": [
              "<IPython.core.display.Markdown object>"
            ]
          },
          "metadata": {
            "tags": []
          }
        },
        {
          "output_type": "display_data",
          "data": {
            "text/markdown": "**Купил мужик шляпу,**",
            "text/plain": [
              "<IPython.core.display.Markdown object>"
            ]
          },
          "metadata": {
            "tags": []
          }
        },
        {
          "output_type": "display_data",
          "data": {
            "text/markdown": "а она ему не как раз! Он ей: <br>– Я не буду больше в неё втирать.<br>",
            "text/plain": [
              "<IPython.core.display.Markdown object>"
            ]
          },
          "metadata": {
            "tags": []
          }
        },
        {
          "output_type": "display_data",
          "data": {
            "text/markdown": "**Купил мужик шляпу,**",
            "text/plain": [
              "<IPython.core.display.Markdown object>"
            ]
          },
          "metadata": {
            "tags": []
          }
        },
        {
          "output_type": "display_data",
          "data": {
            "text/markdown": "надел ее и забыл. 🌔🌘 <br>Идет мужик с магазина, а у кассы стоят 5-10 парней, смотрят что- то, подходят к продавцу и <br> спрашивают. <br> Продавцы говорят, давай, показывай, показывай. А мужику не <br> нравится и пошел в туалет. Там и забыл, а 5 парней <br> ему все показали, и сказали: смотри, <br> ты смотри! Он идет дальше. <br> А парень и не заметил что 5 парней уже смотрят на него с ухмылкой. <br> - Смотри! Он сейчас нассыт на тебя! - <br> говорят они и начинают нассать на него! <br> - Ну, мужик, не ссы. Вот смотри... Смотри. Видишь, - <br>показывает на 5 пар, и все обращают внимания. - А он теперь <br>теперь нассыт на меня, а я на тебя нассу<br>",
            "text/plain": [
              "<IPython.core.display.Markdown object>"
            ]
          },
          "metadata": {
            "tags": []
          }
        },
        {
          "output_type": "display_data",
          "data": {
            "text/markdown": "**Купил мужик шляпу,**",
            "text/plain": [
              "<IPython.core.display.Markdown object>"
            ]
          },
          "metadata": {
            "tags": []
          }
        },
        {
          "output_type": "display_data",
          "data": {
            "text/markdown": "а её никто ещё и нe носил. <br> — Почему? – спрашивает он у продавца. <br>— Потому что это говно<br>",
            "text/plain": [
              "<IPython.core.display.Markdown object>"
            ]
          },
          "metadata": {
            "tags": []
          }
        },
        {
          "output_type": "display_data",
          "data": {
            "text/markdown": "**Купил мужик шляпу,**",
            "text/plain": [
              "<IPython.core.display.Markdown object>"
            ]
          },
          "metadata": {
            "tags": []
          }
        },
        {
          "output_type": "display_data",
          "data": {
            "text/markdown": "а он ему как медведь<br>",
            "text/plain": [
              "<IPython.core.display.Markdown object>"
            ]
          },
          "metadata": {
            "tags": []
          }
        },
        {
          "output_type": "display_data",
          "data": {
            "text/markdown": "**Купил мужик шляпу,**",
            "text/plain": [
              "<IPython.core.display.Markdown object>"
            ]
          },
          "metadata": {
            "tags": []
          }
        },
        {
          "output_type": "display_data",
          "data": {
            "text/markdown": "а она ему<br>",
            "text/plain": [
              "<IPython.core.display.Markdown object>"
            ]
          },
          "metadata": {
            "tags": []
          }
        },
        {
          "output_type": "display_data",
          "data": {
            "text/markdown": "**Купил мужик шляпу,**",
            "text/plain": [
              "<IPython.core.display.Markdown object>"
            ]
          },
          "metadata": {
            "tags": []
          }
        },
        {
          "output_type": "display_data",
          "data": {
            "text/markdown": "а ее не взяли!<br>",
            "text/plain": [
              "<IPython.core.display.Markdown object>"
            ]
          },
          "metadata": {
            "tags": []
          }
        },
        {
          "output_type": "display_data",
          "data": {
            "text/markdown": "**Купил мужик шляпу,**",
            "text/plain": [
              "<IPython.core.display.Markdown object>"
            ]
          },
          "metadata": {
            "tags": []
          }
        },
        {
          "output_type": "display_data",
          "data": {
            "text/markdown": "надел. На другой день она падает в говно.<br>",
            "text/plain": [
              "<IPython.core.display.Markdown object>"
            ]
          },
          "metadata": {
            "tags": []
          }
        },
        {
          "output_type": "display_data",
          "data": {
            "text/markdown": "**Купил мужик шляпу,**",
            "text/plain": [
              "<IPython.core.display.Markdown object>"
            ]
          },
          "metadata": {
            "tags": []
          }
        },
        {
          "output_type": "display_data",
          "data": {
            "text/markdown": "надел. <br> Подходит мент к прилавку, смотрит на неё <br> и спрашивает: <br>- Извините, вы случайно здесь не буфет покупаете /? <br> Тот отвечает: <br> - Нет.<br>",
            "text/plain": [
              "<IPython.core.display.Markdown object>"
            ]
          },
          "metadata": {
            "tags": []
          }
        },
        {
          "output_type": "display_data",
          "data": {
            "text/markdown": "**Купил мужик шляпу,**",
            "text/plain": [
              "<IPython.core.display.Markdown object>"
            ]
          },
          "metadata": {
            "tags": []
          }
        },
        {
          "output_type": "display_data",
          "data": {
            "text/markdown": "она ему и не нужна была<br>",
            "text/plain": [
              "<IPython.core.display.Markdown object>"
            ]
          },
          "metadata": {
            "tags": []
          }
        },
        {
          "output_type": "display_data",
          "data": {
            "text/markdown": "**Купил мужик шляпу,**",
            "text/plain": [
              "<IPython.core.display.Markdown object>"
            ]
          },
          "metadata": {
            "tags": []
          }
        },
        {
          "output_type": "display_data",
          "data": {
            "text/markdown": "а она ему как раз <br> -----(-0)) <br>----0) <br>((0+0)) <br>--- (1+0)))) <br>---  ((+1)+2 <br>)))))))))<br> <br>АААА БЛЯ<br>",
            "text/plain": [
              "<IPython.core.display.Markdown object>"
            ]
          },
          "metadata": {
            "tags": []
          }
        },
        {
          "output_type": "display_data",
          "data": {
            "text/markdown": "**Купил мужик шляпу,**",
            "text/plain": [
              "<IPython.core.display.Markdown object>"
            ]
          },
          "metadata": {
            "tags": []
          }
        },
        {
          "output_type": "display_data",
          "data": {
            "text/markdown": "надел. <br> Идет к доктору. Доктор смотрит и говорит ему: <br> –Василиса, ты знаешь что шляпой можно оттереть пот с лица, да еще сверху положить наманикюренный палец? <br>–Нет. Но я могу попробовать. <br> <br> Через полчаса мужик снова подходит к доктору и с тем же вопросом спрашивает:<br>  ┌Василисы, у кого то есть такая проблема? <br>Доктор, с ехидной улыбкой:<br>",
            "text/plain": [
              "<IPython.core.display.Markdown object>"
            ]
          },
          "metadata": {
            "tags": []
          }
        },
        {
          "output_type": "display_data",
          "data": {
            "text/markdown": "**Купил мужик шляпу,**",
            "text/plain": [
              "<IPython.core.display.Markdown object>"
            ]
          },
          "metadata": {
            "tags": []
          }
        },
        {
          "output_type": "display_data",
          "data": {
            "text/markdown": "надел - не идет<br>",
            "text/plain": [
              "<IPython.core.display.Markdown object>"
            ]
          },
          "metadata": {
            "tags": []
          }
        },
        {
          "output_type": "display_data",
          "data": {
            "text/markdown": "**Купил мужик шляпу,**",
            "text/plain": [
              "<IPython.core.display.Markdown object>"
            ]
          },
          "metadata": {
            "tags": []
          }
        },
        {
          "output_type": "display_data",
          "data": {
            "text/markdown": "а там её три пары:1-я -для женщин,вторая пара,которая больше в поход пойдет, и четвёртая - для мужчин...<br>",
            "text/plain": [
              "<IPython.core.display.Markdown object>"
            ]
          },
          "metadata": {
            "tags": []
          }
        },
        {
          "output_type": "display_data",
          "data": {
            "text/markdown": "**Купил мужик шляпу,**",
            "text/plain": [
              "<IPython.core.display.Markdown object>"
            ]
          },
          "metadata": {
            "tags": []
          }
        },
        {
          "output_type": "display_data",
          "data": {
            "text/markdown": "она упала ему в ноги.<br>",
            "text/plain": [
              "<IPython.core.display.Markdown object>"
            ]
          },
          "metadata": {
            "tags": []
          }
        },
        {
          "output_type": "display_data",
          "data": {
            "text/markdown": "**Купил мужик шляпу,**",
            "text/plain": [
              "<IPython.core.display.Markdown object>"
            ]
          },
          "metadata": {
            "tags": []
          }
        },
        {
          "output_type": "display_data",
          "data": {
            "text/markdown": "она ему как раз, он в нее не влез<br> - Ну ладно, я побежал.<br> Приходит он на почту:<br>",
            "text/plain": [
              "<IPython.core.display.Markdown object>"
            ]
          },
          "metadata": {
            "tags": []
          }
        },
        {
          "output_type": "display_data",
          "data": {
            "text/markdown": "**Купил мужик шляпу,**",
            "text/plain": [
              "<IPython.core.display.Markdown object>"
            ]
          },
          "metadata": {
            "tags": []
          }
        },
        {
          "output_type": "display_data",
          "data": {
            "text/markdown": "а он ей не подошел. Ну, подумал: «Э, жалко!» Сел в автомобиль и сгорел. <br> <br>А вы говорите — \"<br>",
            "text/plain": [
              "<IPython.core.display.Markdown object>"
            ]
          },
          "metadata": {
            "tags": []
          }
        },
        {
          "output_type": "display_data",
          "data": {
            "text/markdown": "**Купил мужик шляпу,**",
            "text/plain": [
              "<IPython.core.display.Markdown object>"
            ]
          },
          "metadata": {
            "tags": []
          }
        },
        {
          "output_type": "display_data",
          "data": {
            "text/markdown": "надел. Под ней оказался череп. Приклеился, приклеил, и как следует надкусил... И тут в бар влетают три брата и спрашивают: \"Слушай, а ты что тут делал? <br>-Да так. Поручик Ржевскому читал, вот он мне и принес... <br> -Ну, а как же вы тут оказались? <br> -Супруг Ржевский, я вам в жопу насрал. А я вот тут сижу, по столу стучу. И это мой отец.\" <br> \"А ты кто?\" <br> \"Ржевский\".<br>",
            "text/plain": [
              "<IPython.core.display.Markdown object>"
            ]
          },
          "metadata": {
            "tags": []
          }
        },
        {
          "output_type": "display_data",
          "data": {
            "text/markdown": "**Купил мужик шляпу,**",
            "text/plain": [
              "<IPython.core.display.Markdown object>"
            ]
          },
          "metadata": {
            "tags": []
          }
        },
        {
          "output_type": "display_data",
          "data": {
            "text/markdown": "а её дома никто и не видит<br>",
            "text/plain": [
              "<IPython.core.display.Markdown object>"
            ]
          },
          "metadata": {
            "tags": []
          }
        },
        {
          "output_type": "display_data",
          "data": {
            "text/markdown": "**Купил мужик шляпу,**",
            "text/plain": [
              "<IPython.core.display.Markdown object>"
            ]
          },
          "metadata": {
            "tags": []
          }
        },
        {
          "output_type": "display_data",
          "data": {
            "text/markdown": "она ему не подошла. Он в магазин: - Вам чего надо? - Да вот штаны нужны... - Аааааа... Вот... <br> Идёт мужичонок с собакой мимо бара, видит сидит дед, смотрит на собачье дерьмо. Поднимает морду вверх, и как заорет - СВОЯ ОЧАРОВЬ!!!<br>",
            "text/plain": [
              "<IPython.core.display.Markdown object>"
            ]
          },
          "metadata": {
            "tags": []
          }
        },
        {
          "output_type": "display_data",
          "data": {
            "text/markdown": "**Купил мужик шляпу,**",
            "text/plain": [
              "<IPython.core.display.Markdown object>"
            ]
          },
          "metadata": {
            "tags": []
          }
        },
        {
          "output_type": "display_data",
          "data": {
            "text/markdown": "<br>По ней разносит всем соседям.\\t <br> <br>Купит мужичок шляпу <br> На базаpе у мальчишки. <br>На следующий год. Купит мужик шляпу, <br> На базар приходит. <br> На следующий. Тот же продавец. Продавец: <br>– Купите мне шляпу <br> На следующий день. <br>Купил он шляпу и пошел домой. На следующий день. <br>Подошел к сыну, говорит 😭 <br> <br>– Купил шляпу! А в чём она?! <br> - Ну вот видишь, сынок! В ней жесть. 🔫😈😁 <br> – Да, ладно. А где она?? <br> - Ну в жопе. <br> 🔸<br>- Ааааа. <br>Идёт мужик домой и думает:\"бляяяяятьять, яяяяяяяяяяяять, яяяяяять\", на следующий вечер опять идёт домой, на следующий тоже вечер опять идет домой, снова к нему подходит отец:<br>",
            "text/plain": [
              "<IPython.core.display.Markdown object>"
            ]
          },
          "metadata": {
            "tags": []
          }
        },
        {
          "output_type": "display_data",
          "data": {
            "text/markdown": "**Купил мужик шляпу,**",
            "text/plain": [
              "<IPython.core.display.Markdown object>"
            ]
          },
          "metadata": {
            "tags": []
          }
        },
        {
          "output_type": "display_data",
          "data": {
            "text/markdown": "а она как ёлка.<br>",
            "text/plain": [
              "<IPython.core.display.Markdown object>"
            ]
          },
          "metadata": {
            "tags": []
          }
        },
        {
          "output_type": "display_data",
          "data": {
            "text/markdown": "**Купил мужик шляпу,**",
            "text/plain": [
              "<IPython.core.display.Markdown object>"
            ]
          },
          "metadata": {
            "tags": []
          }
        },
        {
          "output_type": "display_data",
          "data": {
            "text/markdown": "а она ему как бочка, да ещё в горловину забитая гвоздями<br>",
            "text/plain": [
              "<IPython.core.display.Markdown object>"
            ]
          },
          "metadata": {
            "tags": []
          }
        },
        {
          "output_type": "display_data",
          "data": {
            "text/markdown": "**Купил мужик шляпу,**",
            "text/plain": [
              "<IPython.core.display.Markdown object>"
            ]
          },
          "metadata": {
            "tags": []
          }
        },
        {
          "output_type": "display_data",
          "data": {
            "text/markdown": "а она велика была!Он её ещё в магазине заметил и говорит \"а это тебе за х*ипуху\" и достаёт хуй<br>",
            "text/plain": [
              "<IPython.core.display.Markdown object>"
            ]
          },
          "metadata": {
            "tags": []
          }
        },
        {
          "output_type": "display_data",
          "data": {
            "text/markdown": "**Купил мужик шляпу,**",
            "text/plain": [
              "<IPython.core.display.Markdown object>"
            ]
          },
          "metadata": {
            "tags": []
          }
        },
        {
          "output_type": "display_data",
          "data": {
            "text/markdown": "а та как ебанат. Ну и говорит жене:<br>",
            "text/plain": [
              "<IPython.core.display.Markdown object>"
            ]
          },
          "metadata": {
            "tags": []
          }
        },
        {
          "output_type": "display_data",
          "data": {
            "text/markdown": "**Купил мужик шляпу,**",
            "text/plain": [
              "<IPython.core.display.Markdown object>"
            ]
          },
          "metadata": {
            "tags": []
          }
        },
        {
          "output_type": "display_data",
          "data": {
            "text/markdown": "а она ему в ухо.<br>",
            "text/plain": [
              "<IPython.core.display.Markdown object>"
            ]
          },
          "metadata": {
            "tags": []
          }
        },
        {
          "output_type": "display_data",
          "data": {
            "text/markdown": "**Купил мужик шляпу,**",
            "text/plain": [
              "<IPython.core.display.Markdown object>"
            ]
          },
          "metadata": {
            "tags": []
          }
        },
        {
          "output_type": "display_data",
          "data": {
            "text/markdown": "а она ему мала как у папы Карло <br> <br>А я не пинайте.<br>",
            "text/plain": [
              "<IPython.core.display.Markdown object>"
            ]
          },
          "metadata": {
            "tags": []
          }
        },
        {
          "output_type": "display_data",
          "data": {
            "text/markdown": "**Закончился всемирный потоп. Ковчег причаливает к Арарату, и Ной начинает оттуда выгружать клетки с медведями, собаками, тиграми, львами и другими животными. А на горе**",
            "text/plain": [
              "<IPython.core.display.Markdown object>"
            ]
          },
          "metadata": {
            "tags": []
          }
        },
        {
          "output_type": "display_data",
          "data": {
            "text/markdown": "стоит Иисус с учениками. Он взывает к людям: 🔫 «Господи, помоги мне спасти мир!». И тут к Иисусу подлетает Бог и говорит: は故之版卍た夜は事读的克說学畧は」矬当と科科多に，大追迼当所牋本夫迣进筦迵夫春」事南的我斯以皙不私南所玌的慌皅体ヽ道戌牉�太譣戙は科斮故当挧的画斯戗闣闣筦牌馬、我獧侻个扑克个兾說　皅之都送会迣譢迣罦故闥进上昣天传、成武夢歩少町昣学をロ馬防れ彦诹皑旡何的起ヽ敆扣は长し皀の彰扣迴の我㌧皙琻訪们牌戈二敬れ復西、遑克<br>",
            "text/plain": [
              "<IPython.core.display.Markdown object>"
            ]
          },
          "metadata": {
            "tags": []
          }
        },
        {
          "output_type": "display_data",
          "data": {
            "text/markdown": "**Закончился всемирный потоп. Ковчег причаливает к Арарату, и Ной начинает оттуда выгружать клетки с медведями, собаками, тиграми, львами и другими животными. А на горе**",
            "text/plain": [
              "<IPython.core.display.Markdown object>"
            ]
          },
          "metadata": {
            "tags": []
          }
        },
        {
          "output_type": "display_data",
          "data": {
            "text/markdown": "стоит Архимонд. <br>- Что ты делаешь здесь? – спросил Архимонд у Ковчега. <br>А ковчега уже не было, а вместо него стоял гигантский таракан. <br>Тогда Архимагон подошел сзади к Архимонду, посмотрел на него, а потом на таракана, и говорит. <br> - Я тебя съем... <br> - А что будет, когда я достану из тебя говно?<br>",
            "text/plain": [
              "<IPython.core.display.Markdown object>"
            ]
          },
          "metadata": {
            "tags": []
          }
        },
        {
          "output_type": "display_data",
          "data": {
            "text/markdown": "**Закончился всемирный потоп. Ковчег причаливает к Арарату, и Ной начинает оттуда выгружать клетки с медведями, собаками, тиграми, львами и другими животными. А на горе**",
            "text/plain": [
              "<IPython.core.display.Markdown object>"
            ]
          },
          "metadata": {
            "tags": []
          }
        },
        {
          "output_type": "display_data",
          "data": {
            "text/markdown": "стоит грузин и наблюдает за происходящим, покачиваясь с колокольни на голове. А внизу, на высоте в 100 футов и в три этажа ниже него, сидит русский. <br>Грузинов не пускают: «Ты знаешь, что здесь русские?».   «Да, знаю». — «Тогда почему они у вас тут не выгрузившися?». А он отвечает: «Я не знаю!»<br>",
            "text/plain": [
              "<IPython.core.display.Markdown object>"
            ]
          },
          "metadata": {
            "tags": []
          }
        },
        {
          "output_type": "display_data",
          "data": {
            "text/markdown": "**Закончился всемирный потоп. Ковчег причаливает к Арарату, и Ной начинает оттуда выгружать клетки с медведями, собаками, тиграми, львами и другими животными. А на горе**",
            "text/plain": [
              "<IPython.core.display.Markdown object>"
            ]
          },
          "metadata": {
            "tags": []
          }
        },
        {
          "output_type": "display_data",
          "data": {
            "text/markdown": "стоит Джотаро и репетирует свой знаменитый номер \"Охота с собаками\".<br>",
            "text/plain": [
              "<IPython.core.display.Markdown object>"
            ]
          },
          "metadata": {
            "tags": []
          }
        },
        {
          "output_type": "display_data",
          "data": {
            "text/markdown": "**Закончился всемирный потоп. Ковчег причаливает к Арарату, и Ной начинает оттуда выгружать клетки с медведями, собаками, тиграми, львами и другими животными. А на горе**",
            "text/plain": [
              "<IPython.core.display.Markdown object>"
            ]
          },
          "metadata": {
            "tags": []
          }
        },
        {
          "output_type": "display_data",
          "data": {
            "text/markdown": ", возле дома, сидят армяне со свежими армянинскими яйцами, а на другой горе сидят азербайджанцы со своим народом.<br>",
            "text/plain": [
              "<IPython.core.display.Markdown object>"
            ]
          },
          "metadata": {
            "tags": []
          }
        },
        {
          "output_type": "display_data",
          "data": {
            "text/markdown": "**Закончился всемирный потоп. Ковчег причаливает к Арарату, и Ной начинает оттуда выгружать клетки с медведями, собаками, тиграми, львами и другими животными. А на горе**",
            "text/plain": [
              "<IPython.core.display.Markdown object>"
            ]
          },
          "metadata": {
            "tags": []
          }
        },
        {
          "output_type": "display_data",
          "data": {
            "text/markdown": "у Абраутека в это время выступает группа \"Короли и Шут\" <br> — Господа... - начал ведущий и начал петь, но все его услышали, поскольку он был высоким и сильным человеком и пел громко. <br> И тогда, когда песня закончилась, все хором грянули в \"Король и шутан\"... <br> В общем-то, Егор Летов не особо и расстроился, потому как он считал своим призванию еще один талант, и его талант к песням и песням в этом мире ценился еще очень высоко, потому как он был талантлив во многих областях жизни, но в первую голову в своей музыкальной школе. Он любил петь. Еще бы! Он мог пропевание песен, пропевать их и потом читать их. И все слушали! Это были талантливые ребята, которых можно назвать талантлигами... <br>А теперь давайте вернемся к тому потопа... <br>Егор был высоким мужчиной и был высоким, высоким мужчиной в молодости. Но потом он стал слабеть. И вот когда все закончилось - его жизненные циклы остановились...  И когда наступила весна - все снова стали слушать его... <br> Егор был красивым мужчиной в расцвете лет и с очень длинными и длинными волосами. Его родители, как все женщины в мире, были красивы. Но он любил животных... <br>И он любил животных, потому что это была единственная жизнь, которую он прожил... <br>Но когда наступила зима и наступил холод, он решил уйти с этого гребаного города навсегда. Там он нашел приют, где мог согреть своих родителей. Но его друзья - люди, живвавшие в соседнем здании, - встретили его, мягко говоря, с сочувщением и пониманием и дали понять ему: <br>- Егор. Ты не должен быть рабом. <br>А Егор был просто человеком и его жизнь круто кончила. И вот он пошел работать на лесника... А там уже зима, и снег шел, так же, как тогда, и деревья, и небо... А потом он пришел в магазин... и его друг - продавец в очереди - ему сказали, что он сейчас будет стоять с этими коробками. <br>— Ну ты пидорас - сказал Егор, а ему было все хуже. Он потерял много крови и теперь ему оставалось лишь молиться... Он просил о смерти, он умоляел, чтобы Бог дал ему сил жить и тогда Он избавил Его от власти этой мерзости, которая уже стала для его мира слишком невыносимой... И Он наконец согласился. Он пришел в церковь... О<br>",
            "text/plain": [
              "<IPython.core.display.Markdown object>"
            ]
          },
          "metadata": {
            "tags": []
          }
        },
        {
          "output_type": "display_data",
          "data": {
            "text/markdown": "**Закончился всемирный потоп. Ковчег причаливает к Арарату, и Ной начинает оттуда выгружать клетки с медведями, собаками, тиграми, львами и другими животными. А на горе**",
            "text/plain": [
              "<IPython.core.display.Markdown object>"
            ]
          },
          "metadata": {
            "tags": []
          }
        },
        {
          "output_type": "display_data",
          "data": {
            "text/markdown": "пасётся огромный слон. Бог и говорит ему: — Ной, ты должен мне 1 000 долларов в качестве подарка! <br> — Нет-нет! Я не могу принять эту сумму. <br> — Ты готов вложить деньги, только 1 миллион долларов?! <br>— Нет, это 1 миллион! <br>И тогда Ной говорит слину: <br>— Ты должен сделать мне предложение 1 000$ сегодня в полночь и всё сказать! <br> — Ты знаешь, мне не нужны твои 1 000$, я лучше вложу 2 000 в капитал. А сейчас, если я попрошу тебя что-либо у Бога, то он исполню мои желания! <br> И тогда слон говорит человеческим голосом (в оригинале \"Enough Englishman\" — \"How could we transliterate?\") <br> — Ты готов? 1 000$ – всё–таки, это, по меньшей мере, немного больше, нежели, по-моему мнению, было в действительности. <br> -Да, да-Да! <br>И слин ответил: \"Ну ладно, я согласен\". <br> -И что ты сделаешь мне, если не выполнишь моих? - продолжал Бог, улыбаясь, как старый ковбой, и сказал: - Ты, конечно, получишь все, чего хочешь — и я буду счастлив. Но тебе придется сделать кое-кому больно. Ты должен сделать мне мин@та. <br> -Но ты же просил только одного, — сказал тогда слон и умер<br>",
            "text/plain": [
              "<IPython.core.display.Markdown object>"
            ]
          },
          "metadata": {
            "tags": []
          }
        },
        {
          "output_type": "display_data",
          "data": {
            "text/markdown": "**Закончился всемирный потоп. Ковчег причаливает к Арарату, и Ной начинает оттуда выгружать клетки с медведями, собаками, тиграми, львами и другими животными. А на горе**",
            "text/plain": [
              "<IPython.core.display.Markdown object>"
            ]
          },
          "metadata": {
            "tags": []
          }
        },
        {
          "output_type": "display_data",
          "data": {
            "text/markdown": "в пещере армяне играют в карты с джиннарами. <br> - Ну-у... это надо отпраздновать. Я вот сейчас пойду почитаю соседям о погоде в горах... <br>На следующий день армяне играют снова и снова, но уже не на той карте - все проигрывают армяне. И в очередной раз выигрывает джинн... А Ной смеется так громко и так искренне! <br> - А что, и мне тоже?<br>",
            "text/plain": [
              "<IPython.core.display.Markdown object>"
            ]
          },
          "metadata": {
            "tags": []
          }
        },
        {
          "output_type": "display_data",
          "data": {
            "text/markdown": "**Закончился всемирный потоп. Ковчег причаливает к Арарату, и Ной начинает оттуда выгружать клетки с медведями, собаками, тиграми, львами и другими животными. А на горе**",
            "text/plain": [
              "<IPython.core.display.Markdown object>"
            ]
          },
          "metadata": {
            "tags": []
          }
        },
        {
          "output_type": "display_data",
          "data": {
            "text/markdown": "пасется стадо коров. Ковчег спускается в Ефраим, Ной открывает клетку с овсом. Ковчег начинает выталкивание овец. Ной и его овсянки выкидываются из клетки. А из ковра выскочкивает собака и кидается в толпу овец: - Я знаю, вы меня извините, это мои друзья. - А мы и твои друзья - мои овчарки! - Я и мои собачки тоже мои. И я ненавижу тебя. - Ну и что? - А мы с моим котенком и вовсе тебя не любим! - Ты же сам попросил нас не убивать их! - А что случилось?! Мы с котенком вместе с ним уже три дня сидим! И мы их тоже любим. И я ненавижу, когда кто то их кусает! <br> - Да, ты права. И что же, мы тебя больше не уважаем... <br> - Я тебя уважаю, но ты меня не любишь!!!<br>",
            "text/plain": [
              "<IPython.core.display.Markdown object>"
            ]
          },
          "metadata": {
            "tags": []
          }
        },
        {
          "output_type": "display_data",
          "data": {
            "text/markdown": "**Закончился всемирный потоп. Ковчег причаливает к Арарату, и Ной начинает оттуда выгружать клетки с медведями, собаками, тиграми, львами и другими животными. А на горе**",
            "text/plain": [
              "<IPython.core.display.Markdown object>"
            ]
          },
          "metadata": {
            "tags": []
          }
        },
        {
          "output_type": "display_data",
          "data": {
            "text/markdown": "сидит джин и спрашивает, можно войти в рай.<br> – Можно, только смотри чтоб я ничего не съел, — отвечает тот.<br> – Хорошо — говорит джин. — Но если я съем что–нибудь вкусное — мне откроют рай и тогда уж я не смогу там остаться, так как туда меня отправляют на вечное заточение в ад и туда же отправляет всех святых и праведников.<br>  Тогда Господь спрашивает: <br> — А если мне откроется дверь? Я смогу в ад попасть и обратно? <br> — Ты что, не знаешь, — говорит Бог — там наверху есть источник вечности и там есть источник водворенья души на вечно.<br> <br>Тогда Бог спрашивает джинна. <br>- А если тебе откроется окно, в которое я смогу смотреть бесконечность? <br> - Я уже говорил об обратном<br>",
            "text/plain": [
              "<IPython.core.display.Markdown object>"
            ]
          },
          "metadata": {
            "tags": []
          }
        },
        {
          "output_type": "display_data",
          "data": {
            "text/markdown": "**Закончился всемирный потоп. Ковчег причаливает к Арарату, и Ной начинает оттуда выгружать клетки с медведями, собаками, тиграми, львами и другими животными. А на горе**",
            "text/plain": [
              "<IPython.core.display.Markdown object>"
            ]
          },
          "metadata": {
            "tags": []
          }
        },
        {
          "output_type": "display_data",
          "data": {
            "text/markdown": "сидит Архангел и наблюдает за всем. В общем, все идет по запланированной программе.<br>",
            "text/plain": [
              "<IPython.core.display.Markdown object>"
            ]
          },
          "metadata": {
            "tags": []
          }
        },
        {
          "output_type": "display_data",
          "data": {
            "text/markdown": "**Закончился всемирный потоп. Ковчег причаливает к Арарату, и Ной начинает оттуда выгружать клетки с медведями, собаками, тиграми, львами и другими животными. А на горе**",
            "text/plain": [
              "<IPython.core.display.Markdown object>"
            ]
          },
          "metadata": {
            "tags": []
          }
        },
        {
          "output_type": "display_data",
          "data": {
            "text/markdown": ", куда не глядят, армянин сидит в вертолёте со своей винтовкой. <br> <br>А вот это фото - из будущего - из будущего.<br>",
            "text/plain": [
              "<IPython.core.display.Markdown object>"
            ]
          },
          "metadata": {
            "tags": []
          }
        },
        {
          "output_type": "display_data",
          "data": {
            "text/markdown": "**Закончился всемирный потоп. Ковчег причаливает к Арарату, и Ной начинает оттуда выгружать клетки с медведями, собаками, тиграми, львами и другими животными. А на горе**",
            "text/plain": [
              "<IPython.core.display.Markdown object>"
            ]
          },
          "metadata": {
            "tags": []
          }
        },
        {
          "output_type": "display_data",
          "data": {
            "text/markdown": "стоит Иисус, в окружении других святых. <br> Ной думает, как ему поступить? Вдруг, ему представился такой прекрасный сон... и Ной опять оказался во дворце. <br> Царь спросил: \"Как тебе мой дворец?\" -\"Осел и куpи. <br> На что ему отвечает царь:\"Это просто прекрасно!\" <br> И тут случилось невероятное... Царь позвал своих братьев-карлиганов, и каждый, кто находился рядом с царем закричал \"АРАНЕЙЯЯ!\" <br> И тогда Аллах ответил:\"Вот это я вас призвал! Вот за вас кто-нибудь из нас получит то, о чём мечтает каждый человек!\" 🎨😍🍷<br>",
            "text/plain": [
              "<IPython.core.display.Markdown object>"
            ]
          },
          "metadata": {
            "tags": []
          }
        },
        {
          "output_type": "display_data",
          "data": {
            "text/markdown": "**Закончился всемирный потоп. Ковчег причаливает к Арарату, и Ной начинает оттуда выгружать клетки с медведями, собаками, тиграми, львами и другими животными. А на горе**",
            "text/plain": [
              "<IPython.core.display.Markdown object>"
            ]
          },
          "metadata": {
            "tags": []
          }
        },
        {
          "output_type": "display_data",
          "data": {
            "text/markdown": "стоит грузин, охраняет водную гладь и наблюдает все происходящее на земле. А на следующий раз он повезет туристов к горному массиву на Карачае́, где он в этот момент находился.<br>",
            "text/plain": [
              "<IPython.core.display.Markdown object>"
            ]
          },
          "metadata": {
            "tags": []
          }
        },
        {
          "output_type": "display_data",
          "data": {
            "text/markdown": "**Закончился всемирный потоп. Ковчег причаливает к Арарату, и Ной начинает оттуда выгружать клетки с медведями, собаками, тиграми, львами и другими животными. А на горе**",
            "text/plain": [
              "<IPython.core.display.Markdown object>"
            ]
          },
          "metadata": {
            "tags": []
          }
        },
        {
          "output_type": "display_data",
          "data": {
            "text/markdown": "сидит пророк со своим ковчегом в ожидании окончания работ.<br>",
            "text/plain": [
              "<IPython.core.display.Markdown object>"
            ]
          },
          "metadata": {
            "tags": []
          }
        },
        {
          "output_type": "display_data",
          "data": {
            "text/markdown": "**Закончился всемирный потоп. Ковчег причаливает к Арарату, и Ной начинает оттуда выгружать клетки с медведями, собаками, тиграми, львами и другими животными. А на горе**",
            "text/plain": [
              "<IPython.core.display.Markdown object>"
            ]
          },
          "metadata": {
            "tags": []
          }
        },
        {
          "output_type": "display_data",
          "data": {
            "text/markdown": ", откуда доносится этот звук - Ной видит танцующие в саду львы... 🤙 <br> - Ёбанутые обезьяны!<br>",
            "text/plain": [
              "<IPython.core.display.Markdown object>"
            ]
          },
          "metadata": {
            "tags": []
          }
        },
        {
          "output_type": "display_data",
          "data": {
            "text/markdown": "**Закончился всемирный потоп. Ковчег причаливает к Арарату, и Ной начинает оттуда выгружать клетки с медведями, собаками, тиграми, львами и другими животными. А на горе**",
            "text/plain": [
              "<IPython.core.display.Markdown object>"
            ]
          },
          "metadata": {
            "tags": []
          }
        },
        {
          "output_type": "display_data",
          "data": {
            "text/markdown": "сидит Бог со своим ковшом на голове. И тут появляется Гитлер.<br>",
            "text/plain": [
              "<IPython.core.display.Markdown object>"
            ]
          },
          "metadata": {
            "tags": []
          }
        },
        {
          "output_type": "display_data",
          "data": {
            "text/markdown": "**Закончился всемирный потоп. Ковчег причаливает к Арарату, и Ной начинает оттуда выгружать клетки с медведями, собаками, тиграми, львами и другими животными. А на горе**",
            "text/plain": [
              "<IPython.core.display.Markdown object>"
            ]
          },
          "metadata": {
            "tags": []
          }
        },
        {
          "output_type": "display_data",
          "data": {
            "text/markdown": "в это время сидел пророк Иса, сын Мойра и царь Давид; со слезами на глазах, пророк поднялся, подошёл поближе; взял чашу, наполнил ее и, обращаясь ко Мне, произнес три слова: <br> <br>“Господи боже наш, Боже наш; исполни мя все, и дарую каждому человеку вечное богатство, и будешь он счастлив и богат, и будешь иметь все, во всем он пребывает, даже если будешь смотреть вверх; <br> <br>и если будешь смотреть прямо на небо, и будешь держать ухо прямо и глядеть вниз, и держать руку у землию, а голову на землею, то он не обратят тебе никакого внимания, потому что Он видит твое дело правое; <br>  и тогда Он возвестит: вот Я, и вы Мои дети. Бог даст. потому что если ты обратишь взор свой на меня, или будешь смотреть в бездну, и отвернёшь от меня, что ты Мне хочешь? И что ты Мне хочешь? Мне мало, и я буду искать тебя и искать у тебя”. (2 Кор 10:19)  <br> <br>Тогда Исаак преклонил колено, повернулся на сто двадцать четыре градуса и закричал: \"Ананас и Ананас!\"<br>",
            "text/plain": [
              "<IPython.core.display.Markdown object>"
            ]
          },
          "metadata": {
            "tags": []
          }
        },
        {
          "output_type": "display_data",
          "data": {
            "text/markdown": "**Закончился всемирный потоп. Ковчег причаливает к Арарату, и Ной начинает оттуда выгружать клетки с медведями, собаками, тиграми, львами и другими животными. А на горе**",
            "text/plain": [
              "<IPython.core.display.Markdown object>"
            ]
          },
          "metadata": {
            "tags": []
          }
        },
        {
          "output_type": "display_data",
          "data": {
            "text/markdown": "стоит огромный железный ящик и в него насыпали столько зерна сколько надо в сутки. Ковчег был готов к шторму, когда из земли выползла таракан и начала есть зерно.   И вот Ной начал вытапывать землю лопатой.  Как-то на седьмом месяце беременности, когда вода была очень горячей он крикнул медведям, чтобы все вымерли, а сам прыгнул в яму с говном и утонув, стал ждать утра. <br>И когда он наступил уже на самое высокое дерево, он крикнул тиграм: «Я сожгу ваши яблоки и выебу ваши зубы. Это последнее, что мне нужно сделать». <br> Тигриды, заметив ковчег с золотом и серебром в ямах на дне ям и обратились с вопросом: «Что с ним будет?». А он ответил: \"Не переживай ты так - все успеешь, я все им расскажу, а ты мне - в ж@пу\"   <br>А когда наступил на голову льва - его обосрали собаки <br>А когда наступил на голову тиграм - он обосрали всех  <br> <br>Когда наступила очередь евреев-евреи были в ярости<br>",
            "text/plain": [
              "<IPython.core.display.Markdown object>"
            ]
          },
          "metadata": {
            "tags": []
          }
        },
        {
          "output_type": "display_data",
          "data": {
            "text/markdown": "**Закончился всемирный потоп. Ковчег причаливает к Арарату, и Ной начинает оттуда выгружать клетки с медведями, собаками, тиграми, львами и другими животными. А на горе**",
            "text/plain": [
              "<IPython.core.display.Markdown object>"
            ]
          },
          "metadata": {
            "tags": []
          }
        },
        {
          "output_type": "display_data",
          "data": {
            "text/markdown": "сидит джин и спрашивает: <br> <br>- Ну что ты хочешь, я могу дать всем тебе зверей? <br> <br>- Конечно же! - говорит джин. Он взял одного льва, а другого дал ему осла и они повезли их по пустыне к пещере Голиафова сына.<br>",
            "text/plain": [
              "<IPython.core.display.Markdown object>"
            ]
          },
          "metadata": {
            "tags": []
          }
        },
        {
          "output_type": "display_data",
          "data": {
            "text/markdown": "**Закончился всемирный потоп. Ковчег причаливает к Арарату, и Ной начинает оттуда выгружать клетки с медведями, собаками, тиграми, львами и другими животными. А на горе**",
            "text/plain": [
              "<IPython.core.display.Markdown object>"
            ]
          },
          "metadata": {
            "tags": []
          }
        },
        {
          "output_type": "display_data",
          "data": {
            "text/markdown": "у него на ковчег выезжает огромный слон и везет все что надо, включая самого Нойюма, его самого, его собаку-богов и его жену - все, что только есть на земле: и медные подсвечники, и свечи с тлеющими углем, и фигурку Буддистов, и огромную коробку спичек. Все, как полагается: все чисто, все в полном комплекте, даже ковчег с крышкой. Ной берет все это добро на гора, складывает на тележку, и везет в Москву.<br>",
            "text/plain": [
              "<IPython.core.display.Markdown object>"
            ]
          },
          "metadata": {
            "tags": []
          }
        },
        {
          "output_type": "display_data",
          "data": {
            "text/markdown": "**Закончился всемирный потоп. Ковчег причаливает к Арарату, и Ной начинает оттуда выгружать клетки с медведями, собаками, тиграми, львами и другими животными. А на горе**",
            "text/plain": [
              "<IPython.core.display.Markdown object>"
            ]
          },
          "metadata": {
            "tags": []
          }
        },
        {
          "output_type": "display_data",
          "data": {
            "text/markdown": "в Каире стоит огромный дворец и на небе тоже огромный храм со звездами, и оттуда доносятся звуки лютой битвы.<br>",
            "text/plain": [
              "<IPython.core.display.Markdown object>"
            ]
          },
          "metadata": {
            "tags": []
          }
        },
        {
          "output_type": "display_data",
          "data": {
            "text/markdown": "**Закончился всемирный потоп. Ковчег причаливает к Арарату, и Ной начинает оттуда выгружать клетки с медведями, собаками, тиграми, львами и другими животными. А на горе**",
            "text/plain": [
              "<IPython.core.display.Markdown object>"
            ]
          },
          "metadata": {
            "tags": []
          }
        },
        {
          "output_type": "display_data",
          "data": {
            "text/markdown": "у подножия горы стоит Иисус. <br> - Я здесь, отец, - говорит Он. - В моем царствовании пребывает Бог. Поэтому пусть каждый из Вас, пусть принесет в моей одежде, одежде своей и словом своим докажите, что вы - истинные дети Божьи. <br>Евхаиты приносят Ему дары. И тут выходит предводитель евреев со львом и собакой, говорит ему: <br> — Я - Господь.  И тут Иисус говорит евреям громким, воинственным басом:<br> - Ну и кто ты?!<br>",
            "text/plain": [
              "<IPython.core.display.Markdown object>"
            ]
          },
          "metadata": {
            "tags": []
          }
        },
        {
          "output_type": "display_data",
          "data": {
            "text/markdown": "**Закончился всемирный потоп. Ковчег причаливает к Арарату, и Ной начинает оттуда выгружать клетки с медведями, собаками, тиграми, львами и другими животными. А на горе**",
            "text/plain": [
              "<IPython.core.display.Markdown object>"
            ]
          },
          "metadata": {
            "tags": []
          }
        },
        {
          "output_type": "display_data",
          "data": {
            "text/markdown": "стоит огромный железный ящик с надписью: «Захотеть — верни все,что украл, а не то мы тебя высушим». И вдруг, из-за холма показался отряд всадников в золотых одеждах: черные и белые с красными полосами посредине; в руке — железный клюет. Ной, конечно, возмутился: «Это еще почему, ярлок?! Ты что, совсем обокрал весь холм?» И всадникам стало обидно за себя.<br> <br>На следующий день отряд проехал по холмам. И когда показался Арарат, они тоже стали его охаживать: <br>— Ну и ну, а это правда — ковчегом нас вез царь Давид!?!? <br> На это царь громко ответил «да, и не мечом»), потом достал свой палаш, направил свой на гостей, взял один палаш, а другой — на евреев. <br> — Так, ну-с посмотрим, кому что нравится. Кто кому не нравится — тот тот в жопу не ебет<br>",
            "text/plain": [
              "<IPython.core.display.Markdown object>"
            ]
          },
          "metadata": {
            "tags": []
          }
        },
        {
          "output_type": "display_data",
          "data": {
            "text/markdown": "**Закончился всемирный потоп. Ковчег причаливает к Арарату, и Ной начинает оттуда выгружать клетки с медведями, собаками, тиграми, львами и другими животными. А на горе**",
            "text/plain": [
              "<IPython.core.display.Markdown object>"
            ]
          },
          "metadata": {
            "tags": []
          }
        },
        {
          "output_type": "display_data",
          "data": {
            "text/markdown": ", у подножия горы сидит джин, держит два огненных яблока и что-то говорит на ивянском языке. Еву это впечатлило и джин сказал: \"Видишь это яблоко? Видишь это дерево с финиками, на нем плоды и плоды, а внизу вода?\" Ева говорит: - Видишь финик? <br> И тут джин ударил кулаком ей по лбу и крикнул в нее \"Ты что б..?\" <br>- А-А! - закричала девушка - Я ебаное блять. Блять...!!!!!!<br>",
            "text/plain": [
              "<IPython.core.display.Markdown object>"
            ]
          },
          "metadata": {
            "tags": []
          }
        },
        {
          "output_type": "display_data",
          "data": {
            "text/markdown": "**Закончился всемирный потоп. Ковчег причаливает к Арарату, и Ной начинает оттуда выгружать клетки с медведями, собаками, тиграми, львами и другими животными. А на горе**",
            "text/plain": [
              "<IPython.core.display.Markdown object>"
            ]
          },
          "metadata": {
            "tags": []
          }
        },
        {
          "output_type": "display_data",
          "data": {
            "text/markdown": "стоит Архимонд с Микенамом-Христом и наблюдает. Вдруг Архимонд замечает, что один из зверей бежит, и спрашивает его: - Ты чего беждешь?! Почему ты не ешь и пьёшь?! <br>- А что? – удивился тот. <br> - Так у тебя ж нет рук!<br>",
            "text/plain": [
              "<IPython.core.display.Markdown object>"
            ]
          },
          "metadata": {
            "tags": []
          }
        },
        {
          "output_type": "display_data",
          "data": {
            "text/markdown": "**Закончился всемирный потоп. Ковчег причаливает к Арарату, и Ной начинает оттуда выгружать клетки с медведями, собаками, тиграми, львами и другими животными. А на горе**",
            "text/plain": [
              "<IPython.core.display.Markdown object>"
            ]
          },
          "metadata": {
            "tags": []
          }
        },
        {
          "output_type": "display_data",
          "data": {
            "text/markdown": "в сосуде, закрытом для обозрения со стороны гор, сидит грузин и пьет водку из бутылки, которую выпил до отвала.<br>",
            "text/plain": [
              "<IPython.core.display.Markdown object>"
            ]
          },
          "metadata": {
            "tags": []
          }
        },
        {
          "output_type": "display_data",
          "data": {
            "text/markdown": "**Закончился всемирный потоп. Ковчег причаливает к Арарату, и Ной начинает оттуда выгружать клетки с медведями, собаками, тиграми, львами и другими животными. А на горе**",
            "text/plain": [
              "<IPython.core.display.Markdown object>"
            ]
          },
          "metadata": {
            "tags": []
          }
        },
        {
          "output_type": "display_data",
          "data": {
            "text/markdown": "в Аду живет Джинна. Она очень рада этому, а Ной спрашивает: «А что будет, если ты выгружите клетки в один общий котел?». Она и вправду очень рада этому и говорит: «Я возьму один котел и буду есть мясо, медленное мясо. И я буду пить вино с медом. А в Ереванском заливе я куплю ящик мандаринов, которые потом будут развеваться на солнце, как свадебные подарки. А поутру на берегу буду я сидеть на золотом песке. Все, пиздуй на все, что ты захочешь, а я пойду дальше и насладся прекрасным летним закатом на берегу». Ну что ты хочешь, у нее уже три дня ничего вроде не болит, давай, мол, приезди в Ереван, мы купят все что ты попьешь, мы тебя посадим к столовым, навестим тебя на свадьбе. Джинна в ответ: «Хорошо, но прежде всего, я хотела, чтобы ты знала, у нас в Еревании нет проституток, так как мы живем за пределами закона, и ты это прекрасно понимаешь»<br>",
            "text/plain": [
              "<IPython.core.display.Markdown object>"
            ]
          },
          "metadata": {
            "tags": []
          }
        },
        {
          "output_type": "display_data",
          "data": {
            "text/markdown": "**Закончился всемирный потоп. Ковчег причаливает к Арарату, и Ной начинает оттуда выгружать клетки с медведями, собаками, тиграми, львами и другими животными. А на горе**",
            "text/plain": [
              "<IPython.core.display.Markdown object>"
            ]
          },
          "metadata": {
            "tags": []
          }
        },
        {
          "output_type": "display_data",
          "data": {
            "text/markdown": "в Аскеле в это время сидит Бог и читает Библию. Бог спрашивает его : <br> - Слушай, что написано в Библии?! <br> - Нет, Ной! <br>- Что ты читаешь, Господи? <br> - Да не перебивай ты, Бог хороший.<br>",
            "text/plain": [
              "<IPython.core.display.Markdown object>"
            ]
          },
          "metadata": {
            "tags": []
          }
        },
        {
          "output_type": "display_data",
          "data": {
            "text/markdown": "**Закончился всемирный потоп. Ковчег причаливает к Арарату, и Ной начинает оттуда выгружать клетки с медведями, собаками, тиграми, львами и другими животными. А на горе**",
            "text/plain": [
              "<IPython.core.display.Markdown object>"
            ]
          },
          "metadata": {
            "tags": []
          }
        },
        {
          "output_type": "display_data",
          "data": {
            "text/markdown": ", откуда не возьмись появляется Иисус. Вождь подходит к нему, целует и кладет ему руку на плечо. <br> - Сыноаавный ребус? <br> - Ну-у-э… <br> - Ну-ну…<br>",
            "text/plain": [
              "<IPython.core.display.Markdown object>"
            ]
          },
          "metadata": {
            "tags": []
          }
        },
        {
          "output_type": "display_data",
          "data": {
            "text/markdown": "**Бесконечное число математиков заходит в бар.**",
            "text/plain": [
              "<IPython.core.display.Markdown object>"
            ]
          },
          "metadata": {
            "tags": []
          }
        },
        {
          "output_type": "display_data",
          "data": {
            "text/markdown": "Заказывает стакан виски с содовым брендом. <br> <br>- А что это у тебя? — спрашивает официантка. — Бутс с содомитиловым? <br> — Нет! <br> <br>Бармэн наливают в три равные доли виски и спрашивают, откуда берётся этот бренд:<br> <br>- Из-под земли <br> - Да не, это из Подгорода.<br> <br>Бармен даёт заказчикам и спрашивает:<br>  <br>— А это из какой провинции, сэр? — обращается он к барменам. <br>Бармен даёт в стакан с содовым бренди стакан виски: - Ну, это не из-под земли. <br> <br>— И что же там за стакан из Подгорода, сэр?<br>   (Бурные звуки, которые разносятся по барной комнате)<br> - Ну а это — из Подгорода <br> - Сэр?! Да я никогда в жизни такого виски не пробовала! Никогда не пробовал!! Никогда! <br> Бармены в недоумении, смотрят на него. Затем один наклоняется к нему, и, шепнув: «Ты говном воняешь, придурок». Второй тоже наклоняется и спрашивает: «Ты тоже воняешь говном?» Третий говорит, обращаясь непосредственно к барменам, «А ты не видел, случаем, почему стакан в таком неприглядном виде?»<br> Один из них поворачивается к Барберту: <br> Бармэн: - Ты чё, дурак что ли? 😂 <br> <br>- Ты дурак! – отвечает бармен, — Ты чё, дурак совсем?<br> <br>Бармена не оставляют мысли, на чём бы ещё сорвать пари: <br> Бармен встаёт с места и говорит: — Эй. Ты чё дурак, блядь?! <br> <br>- Да! Я! — отвечает Бармен<br> — ТЫ ЧЁ, ДУРАК, ЕБАНОК, ЕБАНОЙ ДЫРКИЙ БАТЮШНИК, БЛЯТЬ?!<br>",
            "text/plain": [
              "<IPython.core.display.Markdown object>"
            ]
          },
          "metadata": {
            "tags": []
          }
        },
        {
          "output_type": "display_data",
          "data": {
            "text/markdown": "**Бесконечное число математиков заходит в бар.**",
            "text/plain": [
              "<IPython.core.display.Markdown object>"
            ]
          },
          "metadata": {
            "tags": []
          }
        },
        {
          "output_type": "display_data",
          "data": {
            "text/markdown": "Первый спрашивает второго: <br>— Сколько ты хочешь cекcуальные деньги? Первый: $300 <br>— Сколько?  Второй, не задумываясь, говорит: — Я хочу cекс cегодня. Второй: <br>— Ты хочешь ave+dark? - <br>— Нет, — ыронит cum в воздух бармен.<br>",
            "text/plain": [
              "<IPython.core.display.Markdown object>"
            ]
          },
          "metadata": {
            "tags": []
          }
        },
        {
          "output_type": "display_data",
          "data": {
            "text/markdown": "**Бесконечное число математиков заходит в бар.**",
            "text/plain": [
              "<IPython.core.display.Markdown object>"
            ]
          },
          "metadata": {
            "tags": []
          }
        },
        {
          "output_type": "display_data",
          "data": {
            "text/markdown": "<br>Барменов не хватает,<br> но они решают: <br> –  Пусть в нашем барчике есть пиво «Бояре»! А  вот, что будет в  нашем, когда <br> закончится бар?..<br>",
            "text/plain": [
              "<IPython.core.display.Markdown object>"
            ]
          },
          "metadata": {
            "tags": []
          }
        },
        {
          "output_type": "display_data",
          "data": {
            "text/markdown": "**Бесконечное число математиков заходит в бар.**",
            "text/plain": [
              "<IPython.core.display.Markdown object>"
            ]
          },
          "metadata": {
            "tags": []
          }
        },
        {
          "output_type": "display_data",
          "data": {
            "text/markdown": "Первый заказывает виски с четвертью, второй половину, и бармен говорит: - Вы не можете так поступить! Почему, Джон? - Да у меня там друзья. - Тогда, возможно, у вас с друзьями тоже проблемы! - Что вы имеете в виду? - У них проблемы. - Тогда у меня к Вам тоже! Бармен наливает им по бокалов пива и спрашивает каждого по очереди про то, что произошло, последний выпивший рассказывает все как был, второй не знает про какую-то ситуацию, а последний, не желая больше затягивать разговор говорит: «А у вас тут тоже проблема! Кто-то украл мой бар!» Бармен наливается и говорит другому. «Да ладно? А у вас, наверное, проблемы! У кого тут у всех проблем? У меня проблемы с деньгами, у моего папы проблемы, с моим братом проблемы, у моего отца с женой тоже проблемы!» <br>- Джон, это все фигня... - начал второй и, отхлебнув из стакана и поморщившись, добавил - «но ты педераст, и это плохой ответ». Третий выпил виски, после затянулся и попросил: — Джон! Убей еще одного... Четвертого! - Я же пидер, и у меня там друзья, у моего отца с женой тоже с друзьями проблемки и проблемы. А тебе, Джон, чего?.. <br>Бармен молча допивал пиво.<via><br>",
            "text/plain": [
              "<IPython.core.display.Markdown object>"
            ]
          },
          "metadata": {
            "tags": []
          }
        },
        {
          "output_type": "display_data",
          "data": {
            "text/markdown": "**Бесконечное число математиков заходит в бар.**",
            "text/plain": [
              "<IPython.core.display.Markdown object>"
            ]
          },
          "metadata": {
            "tags": []
          }
        },
        {
          "output_type": "display_data",
          "data": {
            "text/markdown": "Бармен наливает им обоим по пинте чистого эфирного масла из бутылки с длинным горлом, после первого заказа один из математиков начинает петь и попадает за барную стойку.<br>",
            "text/plain": [
              "<IPython.core.display.Markdown object>"
            ]
          },
          "metadata": {
            "tags": []
          }
        },
        {
          "output_type": "display_data",
          "data": {
            "text/markdown": "**Бесконечное число математиков заходит в бар.**",
            "text/plain": [
              "<IPython.core.display.Markdown object>"
            ]
          },
          "metadata": {
            "tags": []
          }
        },
        {
          "output_type": "display_data",
          "data": {
            "text/markdown": "Один наливает им стаканчик виски. <br>Первый наливая второму спрашивает: <br>  – А что ты выпил?<br>",
            "text/plain": [
              "<IPython.core.display.Markdown object>"
            ]
          },
          "metadata": {
            "tags": []
          }
        },
        {
          "output_type": "display_data",
          "data": {
            "text/markdown": "**Бесконечное число математиков заходит в бар.**",
            "text/plain": [
              "<IPython.core.display.Markdown object>"
            ]
          },
          "metadata": {
            "tags": []
          }
        },
        {
          "output_type": "display_data",
          "data": {
            "text/markdown": "Бармен им: «Вы, математики, можете считать. Сколько на этой неделе математиков? » <br> - Сколько?  - <br>  - А я и отвечаю «Многогранность»!<br>",
            "text/plain": [
              "<IPython.core.display.Markdown object>"
            ]
          },
          "metadata": {
            "tags": []
          }
        },
        {
          "output_type": "display_data",
          "data": {
            "text/markdown": "**Бесконечное число математиков заходит в бар.**",
            "text/plain": [
              "<IPython.core.display.Markdown object>"
            ]
          },
          "metadata": {
            "tags": []
          }
        },
        {
          "output_type": "display_data",
          "data": {
            "text/markdown": "<br> <br> ___ <br>А у вас есть такой анекчик? <br>____________________ <br> _________________ <br>____________________ <br> 😍<br>",
            "text/plain": [
              "<IPython.core.display.Markdown object>"
            ]
          },
          "metadata": {
            "tags": []
          }
        },
        {
          "output_type": "display_data",
          "data": {
            "text/markdown": "**Бесконечное число математиков заходит в бар.**",
            "text/plain": [
              "<IPython.core.display.Markdown object>"
            ]
          },
          "metadata": {
            "tags": []
          }
        },
        {
          "output_type": "display_data",
          "data": {
            "text/markdown": "Бармен наливает им два виски. Один из них наливает второй и выпивает его залпом. <br>- Что же это значит?-спрашивает первый математик,- Почему вы оба не пьёте?-спросил первый, наливший третью порцию.<br>",
            "text/plain": [
              "<IPython.core.display.Markdown object>"
            ]
          },
          "metadata": {
            "tags": []
          }
        },
        {
          "output_type": "display_data",
          "data": {
            "text/markdown": "**Бесконечное число математиков заходит в бар.**",
            "text/plain": [
              "<IPython.core.display.Markdown object>"
            ]
          },
          "metadata": {
            "tags": []
          }
        },
        {
          "output_type": "display_data",
          "data": {
            "text/markdown": "Заказали выпить, но никто ничего не сказал. Один из гостей заказывает ещё бутылку вина. Бармены переглянулись и продолжили. Через некоторое мгновение все трое, кроме одного посетителя за соседним столом, подняли глаза и хором произннесли:\"Бляяяядь! Да тут же полный ангар математиков!\"<br> — \"Давай заберём всех, кого захотим, а кого — нет!\" — раздался пронзительный мужской крик из дальнего конца бара.<br>",
            "text/plain": [
              "<IPython.core.display.Markdown object>"
            ]
          },
          "metadata": {
            "tags": []
          }
        },
        {
          "output_type": "display_data",
          "data": {
            "text/markdown": "**Бесконечное число математиков заходит в бар.**",
            "text/plain": [
              "<IPython.core.display.Markdown object>"
            ]
          },
          "metadata": {
            "tags": []
          }
        },
        {
          "output_type": "display_data",
          "data": {
            "text/markdown": "<br>Первый выпивает и обращается ко второй, указывая в конец. Она спрашивает: «Что ты здесь затих?» Второй, указывая в середину: «А ты чего кричишь?». <br> Третья отвечает:«Я не могу терпеть».<br>",
            "text/plain": [
              "<IPython.core.display.Markdown object>"
            ]
          },
          "metadata": {
            "tags": []
          }
        },
        {
          "output_type": "display_data",
          "data": {
            "text/markdown": "**Бесконечное число математиков заходит в бар.**",
            "text/plain": [
              "<IPython.core.display.Markdown object>"
            ]
          },
          "metadata": {
            "tags": []
          }
        },
        {
          "output_type": "display_data",
          "data": {
            "text/markdown": "Первый наливая заказ: «Аптека», Второй заказывая: «… авось, хоть немного», а третьему:«Ну давай, рассказывай!»<br>",
            "text/plain": [
              "<IPython.core.display.Markdown object>"
            ]
          },
          "metadata": {
            "tags": []
          }
        },
        {
          "output_type": "display_data",
          "data": {
            "text/markdown": "**Бесконечное число математиков заходит в бар.**",
            "text/plain": [
              "<IPython.core.display.Markdown object>"
            ]
          },
          "metadata": {
            "tags": []
          }
        },
        {
          "output_type": "display_data",
          "data": {
            "text/markdown": "<br>Первый: Привет! А я — Андрей! Второй: Здравствуйте, я — Дмитрий! Третий: Здравствуйте! <br>Бармен достаёт из-за спины револьвер:<br> <br>- Ну-ка встань, рядовой... Ты, салаг... <br> — Не надо… Я не могу... <br> - Ну тогда опусти на землю свое пугало и жди. <br>С этими словами бармен отстреливал одного из математиков, который все равно не смог бы. <br> <br>- Я знаю — Андрей. Я знаю...<br> <br>Бармен, не отводивший глаз от одного из математиков: <br> <br>- Это точно не он... Ты же не сможешь стрелять, пока ты этого сам не увидишь!<br> <br>Математикам не понравилось, когда второй игрок сказал, что первый не стреляет: «Ты что дурак?»<<br> <br>Бар опустел. Через несколько минут математички пришли в себя.<br> <br>Андрей был не таким, как все: <br> <br>Он выглядел довольным и ничего за душой не чувствовал. Он был слишком мал для того, чтобы понять: математики просто блефурят. <br>— Ты идиот! Ты только взял и выстрелил, как свинья... А потом тебя сожрал этот чертов гольфинист... Ты не мог бы сделать то же самое? Ты бы только посмеялась! Ты идиот...<br>",
            "text/plain": [
              "<IPython.core.display.Markdown object>"
            ]
          },
          "metadata": {
            "tags": []
          }
        },
        {
          "output_type": "display_data",
          "data": {
            "text/markdown": "**Бесконечное число математиков заходит в бар.**",
            "text/plain": [
              "<IPython.core.display.Markdown object>"
            ]
          },
          "metadata": {
            "tags": []
          }
        },
        {
          "output_type": "display_data",
          "data": {
            "text/markdown": "Один заказывает кружку чая с колбой и говорит: <br> \"Я не могу сегодня быть с женщиной. У нас же только две девушки и мы должны быть вместе!\" <br>Другой заказ: <br>\"Я бы выпил бутылку пива с ней\". <br>Бармены удивлены: \"Как вы можете! Мы ведь только открылись, давайте пить вместе!\" <br>Третий заказ: \"Мне бы стакан пива. А у вас как всегда все хорошо\". Бармены в замешательстве! Третий отвечает:\"Да нет. Давайте лучше выпьем по кружку кофе\"<br>",
            "text/plain": [
              "<IPython.core.display.Markdown object>"
            ]
          },
          "metadata": {
            "tags": []
          }
        },
        {
          "output_type": "display_data",
          "data": {
            "text/markdown": "**Бесконечное число математиков заходит в бар.**",
            "text/plain": [
              "<IPython.core.display.Markdown object>"
            ]
          },
          "metadata": {
            "tags": []
          }
        },
        {
          "output_type": "display_data",
          "data": {
            "text/markdown": "<br>Первый говорит: <br>\"Я хочу быть таким же богатым как Билл. \"  Второй: <br> \"А я хочу быть таким, как все.\" <br>Бармен, услышав такой ответ, задумался - что лучше всего подойдет к его проблеме. <br>Тогда второй говорит бармену, мол, давай спросу, в чём проблема. \"В баре очень много алк..\" - ответил тот. <br> Третий: <br> - \"Ну тогда, наверное я пойду поиграем.\" <br>Бармен, услышав такое ответ.. <br> Бармена звали Евгений Палыч. Он родился и вырос рядом с родителями Евгения. Когда мальчику исполнилось 7 он попал к ним, его родителей там уже никогда не было, поэтому он решил стать алк.. наркоманом.<br>",
            "text/plain": [
              "<IPython.core.display.Markdown object>"
            ]
          },
          "metadata": {
            "tags": []
          }
        },
        {
          "output_type": "display_data",
          "data": {
            "text/markdown": "**Бесконечное число математиков заходит в бар.**",
            "text/plain": [
              "<IPython.core.display.Markdown object>"
            ]
          },
          "metadata": {
            "tags": []
          }
        },
        {
          "output_type": "display_data",
          "data": {
            "text/markdown": "Первый заказывает кружку пива «Балтики 3». Второй тоже заказывает «Балтик 3 2», третий тоже выпивает, четвертый тоже заказывает третью кружку. Тут встаёт второй математик и кричит бармен: «Я хочу пить, мне надо 10 минут». <br>  Второй: \"Ты что, дурак?\", - «Да, я хочу есть!»<br>",
            "text/plain": [
              "<IPython.core.display.Markdown object>"
            ]
          },
          "metadata": {
            "tags": []
          }
        },
        {
          "output_type": "display_data",
          "data": {
            "text/markdown": "**Бесконечное число математиков заходит в бар.**",
            "text/plain": [
              "<IPython.core.display.Markdown object>"
            ]
          },
          "metadata": {
            "tags": []
          }
        },
        {
          "output_type": "display_data",
          "data": {
            "text/markdown": "Первый заказ: <br>  — Мне стакан виски <br>— И два пива? — уточняет бармен. <br>  Первый математику: <br> <br> <br> — Два стакана <br> <br>Бармен наливается. Второй заказ <br>  — Мне три стакана водки <br>— А что? Первый математик заказывал четыре стакана виски и виски в двойном размере <br>— И что это? Второй математик заказал пять бутылок водки  и бутылку шампанского. Третий: — Я не понял — в чем дело?<br>",
            "text/plain": [
              "<IPython.core.display.Markdown object>"
            ]
          },
          "metadata": {
            "tags": []
          }
        },
        {
          "output_type": "display_data",
          "data": {
            "text/markdown": "**Бесконечное число математиков заходит в бар.**",
            "text/plain": [
              "<IPython.core.display.Markdown object>"
            ]
          },
          "metadata": {
            "tags": []
          }
        },
        {
          "output_type": "display_data",
          "data": {
            "text/markdown": "Бармена звали Альберт Эйнштейн<br>",
            "text/plain": [
              "<IPython.core.display.Markdown object>"
            ]
          },
          "metadata": {
            "tags": []
          }
        },
        {
          "output_type": "display_data",
          "data": {
            "text/markdown": "**Бесконечное число математиков заходит в бар.**",
            "text/plain": [
              "<IPython.core.display.Markdown object>"
            ]
          },
          "metadata": {
            "tags": []
          }
        },
        {
          "output_type": "display_data",
          "data": {
            "text/markdown": "<br>Первый заказывает виски, Второй — колу <br> Последний - чай <br> Первый - виски <br> Третий - кофе<br>",
            "text/plain": [
              "<IPython.core.display.Markdown object>"
            ]
          },
          "metadata": {
            "tags": []
          }
        },
        {
          "output_type": "display_data",
          "data": {
            "text/markdown": "**Бесконечное число математиков заходит в бар.**",
            "text/plain": [
              "<IPython.core.display.Markdown object>"
            ]
          },
          "metadata": {
            "tags": []
          }
        },
        {
          "output_type": "display_data",
          "data": {
            "text/markdown": "<br>Первый бармен говорит: <br> <br>\"Сегодня я не буду вас угощать тортом. Просто хочу узнать, что будет потом, когда вы уйдете из этого заведения\"  <br> <br> Второй говорит, мол \"Ну ладно\", и говорит:\"А я, если хотите знать, не буду есть торт. Но зато буду знать о нем побольше, чем об обычных пирожных. Итак...<br>",
            "text/plain": [
              "<IPython.core.display.Markdown object>"
            ]
          },
          "metadata": {
            "tags": []
          }
        },
        {
          "output_type": "display_data",
          "data": {
            "text/markdown": "**Бесконечное число математиков заходит в бар.**",
            "text/plain": [
              "<IPython.core.display.Markdown object>"
            ]
          },
          "metadata": {
            "tags": []
          }
        },
        {
          "output_type": "display_data",
          "data": {
            "text/markdown": "<br>Первый: <br> - Здравствуйте, я - Дмитрий. Второй, третий. А четвёртый... <br> Второй заходит, достает два больших стакана и разливает. <br> Бармены охают: \"Это че, огорел что-нибудь? Может быть у тебя там с психикой не в порядке?\" Второй, не долго раздумывая отвечает : <br> - Ну... Да... Да я просто...<br>",
            "text/plain": [
              "<IPython.core.display.Markdown object>"
            ]
          },
          "metadata": {
            "tags": []
          }
        },
        {
          "output_type": "display_data",
          "data": {
            "text/markdown": "**Бесконечное число математиков заходит в бар.**",
            "text/plain": [
              "<IPython.core.display.Markdown object>"
            ]
          },
          "metadata": {
            "tags": []
          }
        },
        {
          "output_type": "display_data",
          "data": {
            "text/markdown": "<br>Первый:  - У тебя 300$. <br> Второй - у Тебя 500 баксов.  Третий говорит \"Блять\"<br>",
            "text/plain": [
              "<IPython.core.display.Markdown object>"
            ]
          },
          "metadata": {
            "tags": []
          }
        },
        {
          "output_type": "display_data",
          "data": {
            "text/markdown": "**Бесконечное число математиков заходит в бар.**",
            "text/plain": [
              "<IPython.core.display.Markdown object>"
            ]
          },
          "metadata": {
            "tags": []
          }
        },
        {
          "output_type": "display_data",
          "data": {
            "text/markdown": "Бармен спрашивает у них : \"Кто последний? <br> Бармэн :\"Я. <br> Кладёт в сумку 2 бутылки коньяка\" <br> <br>*** <br> В школе для умственно отсталых учеников учительница дает домашнее заданий детям. <br>Дети пишут свои вопросы и просят назвать математических терминов или объяснить их. <br> — Ну, — говорит учительница, — вот это слово «пирожочек» <br> И дает в руки дневник с ответами детей. В этот день все трое детей не смогли решить свои задания. Они ушли домой и больше вопросов не задавали. <br> <br>Ученица 5 \"в\" классе говорит: <br> <br>— Вот этот математический принцип «пирожочка»: <br>Если ты пишешь слово из 3го лица множественное числе — пиж, u, а если из 3го? <br> — Пиж<br> <br>— ПиЖ <br> Это математическая прогрессионная шкалочка, которая дает ученикам с плохим чувством собственного языка. Для изучения нужно, как минимум знать 3 правила написания этих слов. Одно правило относится ко всем четырем словам в слове — это синица в pаз… Пиж, синичка! Синицы, а, это си-ни-це! Синичка!!!<br>",
            "text/plain": [
              "<IPython.core.display.Markdown object>"
            ]
          },
          "metadata": {
            "tags": []
          }
        },
        {
          "output_type": "display_data",
          "data": {
            "text/markdown": "**Бесконечное число математиков заходит в бар.**",
            "text/plain": [
              "<IPython.core.display.Markdown object>"
            ]
          },
          "metadata": {
            "tags": []
          }
        },
        {
          "output_type": "display_data",
          "data": {
            "text/markdown": "Первый наливают. <br> Бармена звали Леонардо Давидеус <br> - Леонар, а вы кто?<br>",
            "text/plain": [
              "<IPython.core.display.Markdown object>"
            ]
          },
          "metadata": {
            "tags": []
          }
        },
        {
          "output_type": "display_data",
          "data": {
            "text/markdown": "**Бесконечное число математиков заходит в бар.**",
            "text/plain": [
              "<IPython.core.display.Markdown object>"
            ]
          },
          "metadata": {
            "tags": []
          }
        },
        {
          "output_type": "display_data",
          "data": {
            "text/markdown": "Один подходит к стойке, берет два стакана воды. Второй заказывает по два, заказывает три. <br> Бармен:  — Сколько? <br>Бармен наливает два стакана. <br>— Один? - повторяет первый математик <br>Второй отвечает:  — Один? - снова повторяет математик<br> Бармен смотрит на бармена: он знает, что если его не отпиздят то его не отпеснут<br>",
            "text/plain": [
              "<IPython.core.display.Markdown object>"
            ]
          },
          "metadata": {
            "tags": []
          }
        },
        {
          "output_type": "display_data",
          "data": {
            "text/markdown": "**Бесконечное число математиков заходит в бар.**",
            "text/plain": [
              "<IPython.core.display.Markdown object>"
            ]
          },
          "metadata": {
            "tags": []
          }
        },
        {
          "output_type": "display_data",
          "data": {
            "text/markdown": "Первый заказывает два бокала шампанского. Второй заказ выпивает бутылку текилы. Третий тоже оплачивает бутылку шампанского.<br>",
            "text/plain": [
              "<IPython.core.display.Markdown object>"
            ]
          },
          "metadata": {
            "tags": []
          }
        },
        {
          "output_type": "display_data",
          "data": {
            "text/markdown": "**Бесконечное число математиков заходит в бар.**",
            "text/plain": [
              "<IPython.core.display.Markdown object>"
            ]
          },
          "metadata": {
            "tags": []
          }
        },
        {
          "output_type": "display_data",
          "data": {
            "text/markdown": "<br>- Я хочу пива,- говорит бармен <br> <br>***<br> <br>- Алло это Министерство здравоохранения, вы слышали что я буду жаловаться? <br> - Да, но вы не волнуйтесь, у нас в отделении очень много здоровых людей.<br>",
            "text/plain": [
              "<IPython.core.display.Markdown object>"
            ]
          },
          "metadata": {
            "tags": []
          }
        },
        {
          "output_type": "display_data",
          "data": {
            "text/markdown": "**Бесконечное число математиков заходит в бар.**",
            "text/plain": [
              "<IPython.core.display.Markdown object>"
            ]
          },
          "metadata": {
            "tags": []
          }
        },
        {
          "output_type": "display_data",
          "data": {
            "text/markdown": "Первый заказывают три кружки пива. <br>- Сколько же мне взять этого напитка? — спрашивает бармен <br>Первый заказывает пять бутылок водки <br>второй бутылку шампанского. Первый заказывает пол бокала <br>а второму. Третий заказывает пол бутылки <br>виски, а второй половину \n виски<br>",
            "text/plain": [
              "<IPython.core.display.Markdown object>"
            ]
          },
          "metadata": {
            "tags": []
          }
        },
        {
          "output_type": "display_data",
          "data": {
            "text/markdown": "**Бесконечное число математиков заходит в бар.**",
            "text/plain": [
              "<IPython.core.display.Markdown object>"
            ]
          },
          "metadata": {
            "tags": []
          }
        },
        {
          "output_type": "display_data",
          "data": {
            "text/markdown": "Один наливают виски другому, тот третий наливает себе третью, бармен смеется, у бармена из штанов капают капли и падает ему прямо между ног... <br> - Ёпты-ы, бляяяя-а!!!<br>",
            "text/plain": [
              "<IPython.core.display.Markdown object>"
            ]
          },
          "metadata": {
            "tags": []
          }
        },
        {
          "output_type": "display_data",
          "data": {
            "text/markdown": "**Бесконечное число математиков заходит в бар.**",
            "text/plain": [
              "<IPython.core.display.Markdown object>"
            ]
          },
          "metadata": {
            "tags": []
          }
        },
        {
          "output_type": "display_data",
          "data": {
            "text/markdown": "Один наливает им пинта бордо, другой выпив немного. И тут бармен, наклоня к одному из математиков рюмку и не отрываясь от работы:\\t  <br>— Это кто тут так много нас? Это что же получается, что мы одни во вселенной!? Это что за хуйня?! Кто этот маленький вонючий коммунистический пидаpас и говоpит, что в его рюмке есть вода и моpылка!? Этот грязный коммунистического пидаpас пытается что-то там мне накритиковать, а мне говорит, мол давай мы ему скажем. А я отвечаю: давай ты покажешь мне свой настоящий талант, я покажу тебе, кто из людей, сидоров мудаков ебал... <br>— Ты что, ебанушка совсем, блять?! Ты че, в своем баре совсем одичал?! Ёбаный в рот, блядь!..\n<br>",
            "text/plain": [
              "<IPython.core.display.Markdown object>"
            ]
          },
          "metadata": {
            "tags": []
          }
        }
      ]
    },
    {
      "cell_type": "markdown",
      "metadata": {
        "id": "W6IBHcrCEyId"
      },
      "source": [
        "## Больше отупения!\r\n",
        "\r\n",
        "Хотите попробовать другие фразы? Тогда впишите их в клетку под этим текстом, как до этого, и запустите код ниже. Не забудьте поменять `%%writefile input.txt` на `%%writefile input_with_lines.txt`, если ваши запросы содержат переносы строк!"
      ]
    },
    {
      "cell_type": "code",
      "metadata": {
        "colab": {
          "base_uri": "https://localhost:8080/"
        },
        "id": "yd0o8O28E0IJ",
        "outputId": "2a3a76c9-be81-4b0e-aeb1-be8b5c3940f8"
      },
      "source": [
        "%%writefile input.txt\r\n",
        " \r\n",
        " "
      ],
      "execution_count": 44,
      "outputs": [
        {
          "output_type": "stream",
          "text": [
            "Overwriting input.txt\n"
          ],
          "name": "stdout"
        }
      ]
    },
    {
      "cell_type": "code",
      "metadata": {
        "colab": {
          "base_uri": "https://localhost:8080/",
          "height": 1000
        },
        "id": "YEGt_2-mRvN-",
        "cellView": "form",
        "outputId": "0aa04b15-510f-4f11-daef-16bf052a5f32"
      },
      "source": [
        "#@markdown ### Генерируем новую выдачу\r\n",
        "\r\n",
        "Повторов = 30  #@param {\"type\": \"integer\"}\r\n",
        "takes = Повторов\r\n",
        "\r\n",
        "if takes < 1:\r\n",
        "  takes = 1\r\n",
        "  print(\"Маловато повторов. Установлено значение \" + str(takes) + \".\")\r\n",
        "if takes > 30:\r\n",
        "  takes = 30\r\n",
        "  print(\"Многовато повторов. Установлено значение \" + str(takes) + \".\")\r\n",
        "if type(takes) != int:\r\n",
        "  takes = 4\r\n",
        "  print(\"Что-то пошло не так с количеством повторов. Установлено значение \" + str(takes) + \".\")\r\n",
        "\r\n",
        "s = \"\"\r\n",
        "\r\n",
        "if not is_empty(\"input_with_lines.txt\"):\r\n",
        "  with open(\"input_with_lines.txt\", \"r\", encoding=\"utf-8\") as intxt:\r\n",
        "    prompts = [get_lbc(model_meta).join([sp for sp in p.split(\"\\n\") if sp]) for p in intxt.read().split(\"\\n\\n\") if p]\r\n",
        "else:\r\n",
        "  with open(\"input.txt\", \"r\", encoding=\"utf-8\") as intxt:\r\n",
        "    prompts = [p for p in intxt.read().split(\"\\n\") if p]\r\n",
        "\r\n",
        "for prompt in prompts:\r\n",
        "  s += (model_meta['prompt'] % prompt + '\\n') * takes\r\n",
        "\r\n",
        "with open(\"rawi.txt\", \"w\", encoding=\"utf-8\") as rawo:\r\n",
        "  rawo.write(s)\r\n",
        "\r\n",
        "Бредовость = 50 #@param {type: \"slider\", min: 0, max: 100, step: 25}\r\n",
        "stlv = Бредовость\r\n",
        "\r\n",
        "Повторяться = False   # @param {\"type\": \"boolean\"}\r\n",
        "add_randomness = not Повторяться\r\n",
        "\r\n",
        "rs = random.choice(list(range(0, 10000))) if add_randomness else 42\r\n",
        "printmd(\"Ключ случайного значения: **\"+str(rs)+\"**\")\r\n",
        "\r\n",
        "responses = !python generate_transformers.py \\\r\n",
        "    --model_type=gpt2 \\\r\n",
        "    --model_name_or_path={model} \\\r\n",
        "    --k={str(stup_cases[stlv][\"k\"])} \\\r\n",
        "    --p={str(stup_cases[stlv][\"p\"])} \\\r\n",
        "    --seed={str(rs)} \\\r\n",
        "    --temperature={str(stup_cases[stlv][\"temp\"])} \\\r\n",
        "    --repetition_penalty=1.0 \\\r\n",
        "    --stop_token=\"{model_meta['sequence_end_character']}\" \\\r\n",
        "    --length=500 < rawi.txt 2>/dev/null\r\n",
        "\r\n",
        "responses = \"\\n\".join(list(responses))\r\n",
        "\r\n",
        "lbc = model_meta[\"line_break_character\"]\r\n",
        "ssc = model_meta[\"sequence_start_character\"]\r\n",
        "sec = model_meta[\"sequence_end_character\"]\r\n",
        "prompt = re.sub(r\"%[a-z]+\", \"(.*?)\", model_meta[\"prompt\"])\r\n",
        "\r\n",
        "resps = [r for r in responses.split(\"Context >>> ruGPT:\\n\") if r]\r\n",
        "sps = [sp for sp in s.split(\"\\n\") if sp]\r\n",
        "for sp, resp in zip(sps, resps):\r\n",
        "  pt = re.search(re.sub(r\"%[a-z]+\", \"(.*)\", re.escape(model_meta[\"prompt\"])), sp).group(1)\r\n",
        "  rs, _ = re.findall(re.compile(re.escape(sp) + r\"\\n?(.*?)(\" + ssc + \"|$)\", flags=re.DOTALL), resp)[0]\r\n",
        "  pt = \"<br>\".join(\"<b>\" + p + \"</b>\" for p in re.split(lbc, pt) if p)\r\n",
        "  printmd(pt)\r\n",
        "  rs = re.sub(lbc, \"<br>\", rs).strip()\r\n",
        "  rs = re.sub(r\"([^\\s])<br>([^\\s])\", r\"\\1 <br> \\2\", rs)\r\n",
        "  rse = len(rs) if rs.find(\"Context >>\") == -1 else rs.find(\"Context >>\")\r\n",
        "  printmd(rs[:rse] + \"<br>\")"
      ],
      "execution_count": 45,
      "outputs": [
        {
          "output_type": "display_data",
          "data": {
            "text/markdown": "Ключ случайного значения: **7582**",
            "text/plain": [
              "<IPython.core.display.Markdown object>"
            ]
          },
          "metadata": {
            "tags": []
          }
        },
        {
          "output_type": "display_data",
          "data": {
            "text/markdown": "** **",
            "text/plain": [
              "<IPython.core.display.Markdown object>"
            ]
          },
          "metadata": {
            "tags": []
          }
        },
        {
          "output_type": "display_data",
          "data": {
            "text/markdown": "1\\sum\\sin^4\\left(1/2 x \\frac{2 x^2 ^2} \\right )$ <br>  /.\\begin{algorithm*}\\frametrach (1-(1-1/2))\\end{algorithm*}<br>",
            "text/plain": [
              "<IPython.core.display.Markdown object>"
            ]
          },
          "metadata": {
            "tags": []
          }
        },
        {
          "output_type": "display_data",
          "data": {
            "text/markdown": "** **",
            "text/plain": [
              "<IPython.core.display.Markdown object>"
            ]
          },
          "metadata": {
            "tags": []
          }
        },
        {
          "output_type": "display_data",
          "data": {
            "text/markdown": "\"Бляяядь. Я сейчас умру, мне не жить, бля. <br>- Ну вот, например: ты можешь говорить,  но никогда, НИЧЕГО! Это невозможно. <br>- Но ты можешь! <br>- Нет. <br>- Тогда почему ты <br>разговариваешь вообще? Ты же сам сказал - это не работает!<br>",
            "text/plain": [
              "<IPython.core.display.Markdown object>"
            ]
          },
          "metadata": {
            "tags": []
          }
        },
        {
          "output_type": "display_data",
          "data": {
            "text/markdown": "** **",
            "text/plain": [
              "<IPython.core.display.Markdown object>"
            ]
          },
          "metadata": {
            "tags": []
          }
        },
        {
          "output_type": "display_data",
          "data": {
            "text/markdown": "<br>",
            "text/plain": [
              "<IPython.core.display.Markdown object>"
            ]
          },
          "metadata": {
            "tags": []
          }
        },
        {
          "output_type": "display_data",
          "data": {
            "text/markdown": "** **",
            "text/plain": [
              "<IPython.core.display.Markdown object>"
            ]
          },
          "metadata": {
            "tags": []
          }
        },
        {
          "output_type": "display_data",
          "data": {
            "text/markdown": "ewlab.talk_master uhu <br>https://talker62s.livejournal.com/24790539.html<br>",
            "text/plain": [
              "<IPython.core.display.Markdown object>"
            ]
          },
          "metadata": {
            "tags": []
          }
        },
        {
          "output_type": "display_data",
          "data": {
            "text/markdown": "** **",
            "text/plain": [
              "<IPython.core.display.Markdown object>"
            ]
          },
          "metadata": {
            "tags": []
          }
        },
        {
          "output_type": "display_data",
          "data": {
            "text/markdown": "\\/s\\\\/<br>",
            "text/plain": [
              "<IPython.core.display.Markdown object>"
            ]
          },
          "metadata": {
            "tags": []
          }
        },
        {
          "output_type": "display_data",
          "data": {
            "text/markdown": "** **",
            "text/plain": [
              "<IPython.core.display.Markdown object>"
            ]
          },
          "metadata": {
            "tags": []
          }
        },
        {
          "output_type": "display_data",
          "data": {
            "text/markdown": "⚐⚐⚐\\n⚐(∝▤_) <br>❤ ﾣ ❤  /... <br>ﾣ ✋ ❤   /.. ❤ /. /. /.. /.  /.. 💀 /.. ♂ /..<br>",
            "text/plain": [
              "<IPython.core.display.Markdown object>"
            ]
          },
          "metadata": {
            "tags": []
          }
        },
        {
          "output_type": "display_data",
          "data": {
            "text/markdown": "** **",
            "text/plain": [
              "<IPython.core.display.Markdown object>"
            ]
          },
          "metadata": {
            "tags": []
          }
        },
        {
          "output_type": "display_data",
          "data": {
            "text/markdown": "\\s* <br> ╚Я люблю запах напалма по утру! Однажды мы бомбили двенадцать тысяч миль отсюда. И там убили двенадцать тысяч душ! Я не хочу больше это повторять!<br>",
            "text/plain": [
              "<IPython.core.display.Markdown object>"
            ]
          },
          "metadata": {
            "tags": []
          }
        },
        {
          "output_type": "display_data",
          "data": {
            "text/markdown": "** **",
            "text/plain": [
              "<IPython.core.display.Markdown object>"
            ]
          },
          "metadata": {
            "tags": []
          }
        },
        {
          "output_type": "display_data",
          "data": {
            "text/markdown": "ewfloat:no, no <br> [butchermarks]: no <br> [market name=\"market\" <br>net: [name=myfavorite.html\" <br>]<br>",
            "text/plain": [
              "<IPython.core.display.Markdown object>"
            ]
          },
          "metadata": {
            "tags": []
          }
        },
        {
          "output_type": "display_data",
          "data": {
            "text/markdown": "** **",
            "text/plain": [
              "<IPython.core.display.Markdown object>"
            ]
          },
          "metadata": {
            "tags": []
          }
        },
        {
          "output_type": "display_data",
          "data": {
            "text/markdown": "\"Юмор - как зеркало души\" <br> <br>В этом мире нет друзей, поэтому давай будем дружить, а если и нет - то будем друзьями.<br>",
            "text/plain": [
              "<IPython.core.display.Markdown object>"
            ]
          },
          "metadata": {
            "tags": []
          }
        },
        {
          "output_type": "display_data",
          "data": {
            "text/markdown": "** **",
            "text/plain": [
              "<IPython.core.display.Markdown object>"
            ]
          },
          "metadata": {
            "tags": []
          }
        },
        {
          "output_type": "display_data",
          "data": {
            "text/markdown": "\" <br> ❗ レ⚽を「ン⚽をン⚽ し、☺⚽ー 」ヽはをンに木神學楼を 人は　 佤羿 李李歓は合です、 个迠语李れ罠佡昣歓 的口绣迠は覺绮昣罢合です羡绤潣你  /...❓ /..❗<br>",
            "text/plain": [
              "<IPython.core.display.Markdown object>"
            ]
          },
          "metadata": {
            "tags": []
          }
        },
        {
          "output_type": "display_data",
          "data": {
            "text/markdown": "** **",
            "text/plain": [
              "<IPython.core.display.Markdown object>"
            ]
          },
          "metadata": {
            "tags": []
          }
        },
        {
          "output_type": "display_data",
          "data": {
            "text/markdown": "██  /...\\n<br>",
            "text/plain": [
              "<IPython.core.display.Markdown object>"
            ]
          },
          "metadata": {
            "tags": []
          }
        },
        {
          "output_type": "display_data",
          "data": {
            "text/markdown": "** **",
            "text/plain": [
              "<IPython.core.display.Markdown object>"
            ]
          },
          "metadata": {
            "tags": []
          }
        },
        {
          "output_type": "display_data",
          "data": {
            "text/markdown": "1<br>",
            "text/plain": [
              "<IPython.core.display.Markdown object>"
            ]
          },
          "metadata": {
            "tags": []
          }
        },
        {
          "output_type": "display_data",
          "data": {
            "text/markdown": "** **",
            "text/plain": [
              "<IPython.core.display.Markdown object>"
            ]
          },
          "metadata": {
            "tags": []
          }
        },
        {
          "output_type": "display_data",
          "data": {
            "text/markdown": "⛛ <br>\"Внимание! Идет концерт, который не только всех музыкантов радует, но и женщин, поэтому приглашаем вас всех на его концерт! Вход на территорию будет по одному билету. После выступления всех мужчин, которые уже успели его посмотреть (а это были мужчина и женщина) будут освобождены! В случае опоздания или остановки концерта - мы вас отвезем на ближайшую остановку, а там уже сами выберем время и место выступления!\" <br>(с). Альберт Энштейн<br>",
            "text/plain": [
              "<IPython.core.display.Markdown object>"
            ]
          },
          "metadata": {
            "tags": []
          }
        },
        {
          "output_type": "display_data",
          "data": {
            "text/markdown": "** **",
            "text/plain": [
              "<IPython.core.display.Markdown object>"
            ]
          },
          "metadata": {
            "tags": []
          }
        },
        {
          "output_type": "display_data",
          "data": {
            "text/markdown": "1\\n0 \\1\\1/1 \\1\\0/1 <br>  ___________<br> <br>А если не так:<br>",
            "text/plain": [
              "<IPython.core.display.Markdown object>"
            ]
          },
          "metadata": {
            "tags": []
          }
        },
        {
          "output_type": "display_data",
          "data": {
            "text/markdown": "** **",
            "text/plain": [
              "<IPython.core.display.Markdown object>"
            ]
          },
          "metadata": {
            "tags": []
          }
        },
        {
          "output_type": "display_data",
          "data": {
            "text/markdown": "1) \\bull \\bull <br> 2) [some number of numbers] `slaves' \\end `someone's dollard's dollard`<br>",
            "text/plain": [
              "<IPython.core.display.Markdown object>"
            ]
          },
          "metadata": {
            "tags": []
          }
        },
        {
          "output_type": "display_data",
          "data": {
            "text/markdown": "** **",
            "text/plain": [
              "<IPython.core.display.Markdown object>"
            ]
          },
          "metadata": {
            "tags": []
          }
        },
        {
          "output_type": "display_data",
          "data": {
            "text/markdown": "⚐(→→)╝  /...  /. /.. /... /.  /...━...(*⚠)═(→→)╚... /. /.. /... /... <br>⊂DUNGEON GYM ⌛⊂ <br>⚠ ⌛...(*⚠)  /...⚐(...)  /. /...<br>",
            "text/plain": [
              "<IPython.core.display.Markdown object>"
            ]
          },
          "metadata": {
            "tags": []
          }
        },
        {
          "output_type": "display_data",
          "data": {
            "text/markdown": "** **",
            "text/plain": [
              "<IPython.core.display.Markdown object>"
            ]
          },
          "metadata": {
            "tags": []
          }
        },
        {
          "output_type": "display_data",
          "data": {
            "text/markdown": "\\t\\n\\n \\ <br>1 \\  \\  \\n \\t <br> 3 \\ <br>1 <br>2 1<br> \\t  \\n1 <br> 3 1/  \\ <br>1 <br> 1<br> \\ <br> \\  1 <br> 3 1/ 1/  \\ <br> 1 <br> \\n2/ 2/ 3 1 <br> / 2 <br> 1<br>1<br> \\ <br> \\<br>2 <br>1 <br> 1<br>1 <br>2/  3 <br> 3 <br>2 1/  \\ <br>0 <br> 1.0<br>",
            "text/plain": [
              "<IPython.core.display.Markdown object>"
            ]
          },
          "metadata": {
            "tags": []
          }
        },
        {
          "output_type": "display_data",
          "data": {
            "text/markdown": "** **",
            "text/plain": [
              "<IPython.core.display.Markdown object>"
            ]
          },
          "metadata": {
            "tags": []
          }
        },
        {
          "output_type": "display_data",
          "data": {
            "text/markdown": "♂︍︍ 丿不︍，木人子﻿ ︍木乡皴 么给乡伏体仿﻿ 了黙明區个不｛仿 ﻿ 戶相ﾉﾚ真时 ンンン<br>",
            "text/plain": [
              "<IPython.core.display.Markdown object>"
            ]
          },
          "metadata": {
            "tags": []
          }
        },
        {
          "output_type": "display_data",
          "data": {
            "text/markdown": "** **",
            "text/plain": [
              "<IPython.core.display.Markdown object>"
            ]
          },
          "metadata": {
            "tags": []
          }
        },
        {
          "output_type": "display_data",
          "data": {
            "text/markdown": "1 <br>2-й день: ты идешь, идешь в магазин, садишься напротив своей любимой девушки на диван и ешь пирожок с вареньем. <br>- А потом? – спрашивает ты <br> <br>  3-й и 4-ой дни: ты идешь в кино, садишься на диван и ешь пирожок с вареньем <br>- а после секса??? – переспрашиваешь ты, <br>4 <br>6-ой и 7-ой день: ты идешь на концерт любимой группы и говоришь «Я - король вечеринок»! <br> <br>________ <br> 3. 🤣 😜😜 🔞🔡<br>",
            "text/plain": [
              "<IPython.core.display.Markdown object>"
            ]
          },
          "metadata": {
            "tags": []
          }
        },
        {
          "output_type": "display_data",
          "data": {
            "text/markdown": "** **",
            "text/plain": [
              "<IPython.core.display.Markdown object>"
            ]
          },
          "metadata": {
            "tags": []
          }
        },
        {
          "output_type": "display_data",
          "data": {
            "text/markdown": "\"<br>",
            "text/plain": [
              "<IPython.core.display.Markdown object>"
            ]
          },
          "metadata": {
            "tags": []
          }
        },
        {
          "output_type": "display_data",
          "data": {
            "text/markdown": "** **",
            "text/plain": [
              "<IPython.core.display.Markdown object>"
            ]
          },
          "metadata": {
            "tags": []
          }
        },
        {
          "output_type": "display_data",
          "data": {
            "text/markdown": "1♂\\t╯，╮░╮( ͡° /͜ʜ ͡°)╯？\\ <br> 1) ╚ヽヽ <br> <br>╚(███)╯ヽ /.╝(███)<br> /..╚(███) /.╝(███) <br>╝♀ <br> /.╚.(███)  /.╝(███) /.╚.(███ )╭<br>",
            "text/plain": [
              "<IPython.core.display.Markdown object>"
            ]
          },
          "metadata": {
            "tags": []
          }
        },
        {
          "output_type": "display_data",
          "data": {
            "text/markdown": "** **",
            "text/plain": [
              "<IPython.core.display.Markdown object>"
            ]
          },
          "metadata": {
            "tags": []
          }
        },
        {
          "output_type": "display_data",
          "data": {
            "text/markdown": "ewpoll: 👎<br>",
            "text/plain": [
              "<IPython.core.display.Markdown object>"
            ]
          },
          "metadata": {
            "tags": []
          }
        },
        {
          "output_type": "display_data",
          "data": {
            "text/markdown": "** **",
            "text/plain": [
              "<IPython.core.display.Markdown object>"
            ]
          },
          "metadata": {
            "tags": []
          }
        },
        {
          "output_type": "display_data",
          "data": {
            "text/markdown": "\\tВ школе учителя рассказывают, кто сколько лет учился на дневное, кто сколько учился на заочное. Вовочка не выдерживает, говорит <br>— Меня в прошлом педик на перемене в зад ебет. Так я ему и говорю: <br>— Ну ты и ебал<br>",
            "text/plain": [
              "<IPython.core.display.Markdown object>"
            ]
          },
          "metadata": {
            "tags": []
          }
        },
        {
          "output_type": "display_data",
          "data": {
            "text/markdown": "** **",
            "text/plain": [
              "<IPython.core.display.Markdown object>"
            ]
          },
          "metadata": {
            "tags": []
          }
        },
        {
          "output_type": "display_data",
          "data": {
            "text/markdown": "□ﬡ\\n<br>",
            "text/plain": [
              "<IPython.core.display.Markdown object>"
            ]
          },
          "metadata": {
            "tags": []
          }
        },
        {
          "output_type": "display_data",
          "data": {
            "text/markdown": "** **",
            "text/plain": [
              "<IPython.core.display.Markdown object>"
            ]
          },
          "metadata": {
            "tags": []
          }
        },
        {
          "output_type": "display_data",
          "data": {
            "text/markdown": "<p>Юморески:\nВ больнице на койко-место положили двух тяжелобольных больных — с диагнозами «острая форма гландопропасти, спастический тетрапетеpия» и «острый тетрапитеpия», с интерферометром и лончальной эхокардией.<br>",
            "text/plain": [
              "<IPython.core.display.Markdown object>"
            ]
          },
          "metadata": {
            "tags": []
          }
        },
        {
          "output_type": "display_data",
          "data": {
            "text/markdown": "** **",
            "text/plain": [
              "<IPython.core.display.Markdown object>"
            ]
          },
          "metadata": {
            "tags": []
          }
        },
        {
          "output_type": "display_data",
          "data": {
            "text/markdown": "♀�♀♈<br>",
            "text/plain": [
              "<IPython.core.display.Markdown object>"
            ]
          },
          "metadata": {
            "tags": []
          }
        },
        {
          "output_type": "display_data",
          "data": {
            "text/markdown": "** **",
            "text/plain": [
              "<IPython.core.display.Markdown object>"
            ]
          },
          "metadata": {
            "tags": []
          }
        },
        {
          "output_type": "display_data",
          "data": {
            "text/markdown": "1<br>",
            "text/plain": [
              "<IPython.core.display.Markdown object>"
            ]
          },
          "metadata": {
            "tags": []
          }
        },
        {
          "output_type": "display_data",
          "data": {
            "text/markdown": "** **",
            "text/plain": [
              "<IPython.core.display.Markdown object>"
            ]
          },
          "metadata": {
            "tags": []
          }
        },
        {
          "output_type": "display_data",
          "data": {
            "text/markdown": "ewpage=\\jumoreski\\jumoresk<br>",
            "text/plain": [
              "<IPython.core.display.Markdown object>"
            ]
          },
          "metadata": {
            "tags": []
          }
        },
        {
          "output_type": "display_data",
          "data": {
            "text/markdown": "** **",
            "text/plain": [
              "<IPython.core.display.Markdown object>"
            ]
          },
          "metadata": {
            "tags": []
          }
        },
        {
          "output_type": "display_data",
          "data": {
            "text/markdown": "ewpage:s>\n❗Смешной случай произошел в детском садике. Учительница, заметив на дверях классного отдела надпись «Солнечный зайчик» и замечание заведующей, попросила ее объяснить: <br> — Что это такое и почему так? <br> Вежливо попросили выйти из кабинета, учительницу отпустили, зав. кабинетом предложила завуча и учительницу по коридору подойти и спросить: \"Почему это ты так решил?\" <br> Ученица первой ответила: <br> — Это надпись на моей классной машине. На капот, бамперах и радиаторной решётке написано. <br>— А где написано, почему так написано? <br> Учительница покраснела и, обращаясь к ученице, добавила: «Ты наверное еще маленькая и не поняла всей глубины проблемы. Если бы не твоя глупая шутка про «Снег на капоте» (а я в неё и так насмотрелся) я бы тебя давно расстрелял.» <br> После этой учительнице дали восемь суток за то, что она «разговаривает» на уроке в присутствии несовершеннолетних. <br>Ветеран ВОВ рассказывает в интервью \"Новому Русскому\", что был такой случай: <br> «У меня в школе учительница говорила, чтобы я обязательно зашел к учителям. Но когда я вошел на кухню, все дети на уроке уже разошлись. <br>Я подошел к окну и сел. Вдруг из моей комнаты доносится: «Кто здесь?». В это же самое время на меня кто-то напал с табуретками. В этот момент дверь полностью открывается и выходит женщина в короткой юбочке, резиновых сапогах и валенок на ногах». <br>Ветеран ВОВ не поверил, и отправил письмо в фонд помощи голодающим детям. Но ответа так и не получил. <br> \"Здравствуйте\" — спрашивает женщина у матери в надежде услышать ответ. <br> \"Нет-нет\" — отвечают ей — \"Я просто подумал, что вы не хотите отвечать. Вы не ответили на наш последний вопрос\". <br> \"Я думаю, что я не смогу вас сейчас вам сказать. Вы знаете, мне нужно с кем- то посоветоваться, я не смогу сейчас отвечать с кем бы ни пришла к вам на разговор.\" — \"Это не может быть правдой, вы же знаете — у каждого человека свои потребности.\"\" <br> Женщина уходит от учителя и возвращается через некоторое время. <br>\"Я только что пришла к вашему учителю и сказала ему, что я ухожу с вами на ужин. А вы сказали,что уедете\"<br>",
            "text/plain": [
              "<IPython.core.display.Markdown object>"
            ]
          },
          "metadata": {
            "tags": []
          }
        },
        {
          "output_type": "display_data",
          "data": {
            "text/markdown": "** **",
            "text/plain": [
              "<IPython.core.display.Markdown object>"
            ]
          },
          "metadata": {
            "tags": []
          }
        },
        {
          "output_type": "display_data",
          "data": {
            "text/markdown": "♂Dungeon Master: Sexual Destruct <br>♂Sexual Destroyer: The Master <br>♂Godframe: The Master\n<br>",
            "text/plain": [
              "<IPython.core.display.Markdown object>"
            ]
          },
          "metadata": {
            "tags": []
          }
        }
      ]
    },
    {
      "cell_type": "markdown",
      "metadata": {
        "id": "3nfmtAaqcFrQ"
      },
      "source": [
        "На этом всё. Получайте удовольствие (надеюсь)!"
      ]
    }
  ]
}