{
  "nbformat": 4,
  "nbformat_minor": 0,
  "metadata": {
    "colab": {
      "name": "Нагенерировать машинного отупения на ruGPT3.ipynb",
      "provenance": [],
      "collapsed_sections": [
        "9IH1cb0oGkXP"
      ]
    },
    "kernelspec": {
      "name": "python3",
      "display_name": "Python 3"
    },
    "accelerator": "GPU"
  },
  "cells": [
    {
      "cell_type": "markdown",
      "metadata": {
        "id": "YONnGjpAYUdU"
      },
      "source": [
        "\n",
        "<a href=\"https://colab.research.google.com/github/isikus/MachineScorning/blob/main/Нагенерировать%20машинного%20отупения%20на%20ruGPT3.ipynb\" target=\"_parent\"><img src=\"https://colab.research.google.com/assets/colab-badge.svg\" alt=\"Open In Colab\"/></a>"
      ]
    },
    {
      "cell_type": "markdown",
      "metadata": {
        "id": "3RHDK81QqrET"
      },
      "source": [
        "# Нагенерировать машинного отупения на ruGPT3"
      ]
    },
    {
      "cell_type": "code",
      "metadata": {
        "colab": {
          "base_uri": "https://localhost:8080/"
        },
        "id": "on7W1zhwAaKS",
        "cellView": "form",
        "outputId": "a9ee4807-7ca1-4870-8136-eeeec1e7aeb8"
      },
      "source": [
        "import os\r\n",
        "import json\r\n",
        "\r\n",
        "def is_empty(fpath, default_lines=[[\"Дополни эту фразу\", \"И эту фразу тоже дополни\"], [\"Первый пример запроса\", \"Из нескольких строк\", \"\", \"И второй пример\", \"Я тоже придумать смог\"]]):\r\n",
        "  if not os.path.isfile(fpath):\r\n",
        "    return True\r\n",
        "  if not (os.path.getsize(fpath) > 0):\r\n",
        "    return True\r\n",
        "  if default_lines:\r\n",
        "    with open(fpath, \"r\") as infile:\r\n",
        "      lines = infile.read().split(\"\\n\")\r\n",
        "    for deflines in default_lines:\r\n",
        "      if lines == deflines:\r\n",
        "        return True\r\n",
        "  return False\r\n",
        "  \r\n",
        "\r\n",
        "def get_lbc(model_meta):\r\n",
        "  lbc = model_meta[\"line_break_character\"]\r\n",
        "  lbc = lbc.replace(\"\\s\", \" \")\r\n",
        "  return lbc\r\n",
        "\r\n",
        "#@markdown Для начала выберите модель:\r\n",
        "\r\n",
        "Модель = \"\\u041D\\u0435\\u0439\\u0440\\u043E\\u0438\\u043D\\u0441\\u0442\\u0440\\u0443\\u043A\\u0446\\u0438\\u0438 \\u043D\\u0430 \\u0432\\u0441\\u0435 \\u0441\\u043B\\u0443\\u0447\\u0430\\u0438 \\u0436\\u0438\\u0437\\u043D\\u0438\"  #@param [\"Нейроописания товаров\", \"Нейроинструкции на все случаи жизни\", \"Нейротексты «Короля и Шута»\", \"Нейроновости Северной Кореи\", \"Нейропоздравления с новым годом\"]\r\n",
        "\r\n",
        "desc_dict = {\r\n",
        "    \"Нейроописания товаров\": \"products_desc\",\r\n",
        "    \"Нейроинструкции на все случаи жизни\": \"wikihowto\",\r\n",
        "    \"Нейротексты «Короля и Шута»\": \"kish_verses\",\r\n",
        "    \"Нейроновости Северной Кореи\": \"rukcna\",\r\n",
        "    \"Нейропоздравления с новым годом\": \"greetings\"\r\n",
        "}\r\n",
        "\r\n",
        "model = desc_dict[Модель]\r\n",
        "\r\n",
        "!wget -q --show-progress https://storage.googleapis.com/ml-bucket-isikus/machine-scorning/{model}.tar.gz\r\n",
        "!mkdir {model}\r\n",
        "!tar -xzf {model}.tar.gz -C {model}\r\n",
        "\r\n",
        "try:\r\n",
        "  with open(model+\"/meta.json\", \"r\") as injson:\r\n",
        "    model_meta = json.load(injson)\r\n",
        "  print('\\x1b[1m'+Модель + \": модель подготовлена\"+'\\x1b[0m')\r\n",
        "except Exception as e:\r\n",
        "  print('\\x1b[1;31m'+\"Что-то сломалось – модель не готова :(\"+'\\x1b[0m')"
      ],
      "execution_count": null,
      "outputs": [
        {
          "output_type": "stream",
          "text": [
            "wikihowto.tar.gz    100%[===================>] 443.70M   109MB/s    in 4.4s    \n",
            "\u001b[1mНейроинструкции на все случаи жизни: модель подготовлена\u001b[0m\n"
          ],
          "name": "stdout"
        }
      ]
    },
    {
      "cell_type": "markdown",
      "metadata": {
        "id": "fk5AMR1q5ifP"
      },
      "source": [
        "Теперь запишите варианты начала сообщений, которые должна дополнить модель, сразу под текстом `%%writefile input.txt`, по 1 разному началу на строку:"
      ]
    },
    {
      "cell_type": "code",
      "metadata": {
        "colab": {
          "base_uri": "https://localhost:8080/"
        },
        "id": "WOisDCMa5QZR",
        "outputId": "e0c56f17-7f6e-40b4-dc9d-ccc2a19cf04d"
      },
      "source": [
        "%%writefile input.txt\r\n",
        "Дополни эту фразу\r\n",
        "И эту фразу тоже дополни"
      ],
      "execution_count": null,
      "outputs": [
        {
          "output_type": "stream",
          "text": [
            "Writing input.txt\n"
          ],
          "name": "stdout"
        }
      ]
    },
    {
      "cell_type": "markdown",
      "metadata": {
        "id": "8Y1U_F98ROVS"
      },
      "source": [
        "**Важно:** если ваши запросы содержат переносы строк (например, это начало стихотворения), вместо предыдущей клетки, заполните клетку ниже, разбивая ваш ввод двумя переносами строк. Код ниже заменит переносы строк на специальный символ – это необходимо для корректной работы модели."
      ]
    },
    {
      "cell_type": "code",
      "metadata": {
        "id": "yK0q8R0uR3gs",
        "colab": {
          "base_uri": "https://localhost:8080/"
        },
        "outputId": "5113d506-35ec-4b2b-a429-a6733b0594bb"
      },
      "source": [
        "%%writefile input_with_lines.txt\r\n",
        "Первый пример запроса\r\n",
        "Из нескольких строк\r\n",
        "\r\n",
        "И второй пример\r\n",
        "Я тоже придумать смог"
      ],
      "execution_count": null,
      "outputs": [
        {
          "output_type": "stream",
          "text": [
            "Writing input_with_lines.txt\n"
          ],
          "name": "stdout"
        }
      ]
    },
    {
      "cell_type": "markdown",
      "metadata": {
        "id": "BBU-YKC4ZL_d"
      },
      "source": [
        "Если у вас совсем нет идей, запустите код ниже – он скачает примеры запросов по умолчанию для вашей модели:"
      ]
    },
    {
      "cell_type": "code",
      "metadata": {
        "id": "_Ks9smG9YJUk"
      },
      "source": [
        "if is_empty(\"input.txt\") and is_empty(\"input_with_lines.txt\"):\r\n",
        "  !cp {model}/example_input.txt input.txt\r\n",
        "  print('\\x1b[1;31m'+\"Загружены примеры по умолчанию\"+'\\x1b[0m')"
      ],
      "execution_count": null,
      "outputs": []
    },
    {
      "cell_type": "code",
      "metadata": {
        "id": "NVDPUK2wGvpl",
        "cellView": "form"
      },
      "source": [
        "#@markdown Наконец, укажите, сколько вариантов выдачи нужно сгенерировать модели на каждый из запросов (от 1 до 30):\r\n",
        "\r\n",
        "Повторов = 4  #@param {\"type\": \"integer\"}\r\n",
        "takes = Повторов\r\n",
        "\r\n",
        "if takes < 1:\r\n",
        "  takes = 1\r\n",
        "  print(\"Это маловато. Установили значение \" + str(takes) + \".\")\r\n",
        "if takes > 30:\r\n",
        "  takes = 30\r\n",
        "  print(\"Это многовато. Установили значение \" + str(takes) + \".\")\r\n",
        "if type(takes) != int:\r\n",
        "  takes = 4\r\n",
        "  print(\"Что-то пошло не так. Установили значение \" + str(takes) + \".\")"
      ],
      "execution_count": null,
      "outputs": []
    },
    {
      "cell_type": "markdown",
      "metadata": {
        "id": "9IH1cb0oGkXP"
      },
      "source": [
        "## Подготавливаем среду для модели\r\n",
        "Сами файлы скачаны, но нужно ещё выполнить код, чтобы подготовить модель к работе."
      ]
    },
    {
      "cell_type": "markdown",
      "metadata": {
        "id": "Y4l_N3Rw_7AJ"
      },
      "source": [
        "Проверяем, что мы подключены к видеокарте: команда в клетке ниже должна работать и показывать показывать примерно 12000-15000 Мб свободной памяти:"
      ]
    },
    {
      "cell_type": "code",
      "metadata": {
        "colab": {
          "base_uri": "https://localhost:8080/"
        },
        "id": "Kd1B5BJB_thJ",
        "outputId": "b454b969-5dc2-4cc4-c67f-fcdec85aaddd"
      },
      "source": [
        "!nvidia-smi"
      ],
      "execution_count": null,
      "outputs": [
        {
          "output_type": "stream",
          "text": [
            "Sun Feb 14 11:24:18 2021       \n",
            "+-----------------------------------------------------------------------------+\n",
            "| NVIDIA-SMI 460.39       Driver Version: 460.32.03    CUDA Version: 11.2     |\n",
            "|-------------------------------+----------------------+----------------------+\n",
            "| GPU  Name        Persistence-M| Bus-Id        Disp.A | Volatile Uncorr. ECC |\n",
            "| Fan  Temp  Perf  Pwr:Usage/Cap|         Memory-Usage | GPU-Util  Compute M. |\n",
            "|                               |                      |               MIG M. |\n",
            "|===============================+======================+======================|\n",
            "|   0  Tesla T4            Off  | 00000000:00:04.0 Off |                    0 |\n",
            "| N/A   52C    P8    11W /  70W |      0MiB / 15109MiB |      0%      Default |\n",
            "|                               |                      |                  N/A |\n",
            "+-------------------------------+----------------------+----------------------+\n",
            "                                                                               \n",
            "+-----------------------------------------------------------------------------+\n",
            "| Processes:                                                                  |\n",
            "|  GPU   GI   CI        PID   Type   Process name                  GPU Memory |\n",
            "|        ID   ID                                                   Usage      |\n",
            "|=============================================================================|\n",
            "|  No running processes found                                                 |\n",
            "+-----------------------------------------------------------------------------+\n"
          ],
          "name": "stdout"
        }
      ]
    },
    {
      "cell_type": "markdown",
      "metadata": {
        "id": "Xa62C9TeU_U5"
      },
      "source": [
        "Устанавливаем нужные версии библиотек:"
      ]
    },
    {
      "cell_type": "code",
      "metadata": {
        "id": "asqMueYPeIgK",
        "colab": {
          "base_uri": "https://localhost:8080/"
        },
        "outputId": "52f718e4-49fb-44ee-a338-5ab7630e250a"
      },
      "source": [
        "!pip3 install -q urllib3==1.25.4 transformers==2.8.0\r\n",
        "\r\n",
        "print('\\n'+'\\x1b[1m'+\"Требуемые версии пакетов установлены\"+'\\x1b[0m')"
      ],
      "execution_count": null,
      "outputs": [
        {
          "output_type": "stream",
          "text": [
            "\u001b[?25l\r\u001b[K     |██▋                             | 10kB 29.5MB/s eta 0:00:01\r\u001b[K     |█████▏                          | 20kB 35.0MB/s eta 0:00:01\r\u001b[K     |███████▉                        | 30kB 24.7MB/s eta 0:00:01\r\u001b[K     |██████████▍                     | 40kB 22.6MB/s eta 0:00:01\r\u001b[K     |█████████████                   | 51kB 19.1MB/s eta 0:00:01\r\u001b[K     |███████████████▋                | 61kB 15.2MB/s eta 0:00:01\r\u001b[K     |██████████████████▎             | 71kB 15.0MB/s eta 0:00:01\r\u001b[K     |████████████████████▉           | 81kB 15.2MB/s eta 0:00:01\r\u001b[K     |███████████████████████▌        | 92kB 13.7MB/s eta 0:00:01\r\u001b[K     |██████████████████████████      | 102kB 14.8MB/s eta 0:00:01\r\u001b[K     |████████████████████████████▊   | 112kB 14.8MB/s eta 0:00:01\r\u001b[K     |███████████████████████████████▎| 122kB 14.8MB/s eta 0:00:01\r\u001b[K     |████████████████████████████████| 133kB 14.8MB/s \n",
            "\u001b[K     |████████████████████████████████| 573kB 31.4MB/s \n",
            "\u001b[K     |████████████████████████████████| 133kB 59.2MB/s \n",
            "\u001b[K     |████████████████████████████████| 890kB 56.3MB/s \n",
            "\u001b[K     |████████████████████████████████| 1.2MB 53.1MB/s \n",
            "\u001b[K     |████████████████████████████████| 3.7MB 47.5MB/s \n",
            "\u001b[K     |████████████████████████████████| 7.2MB 58.7MB/s \n",
            "\u001b[K     |████████████████████████████████| 71kB 10.4MB/s \n",
            "\u001b[?25h  Building wheel for sacremoses (setup.py) ... \u001b[?25l\u001b[?25hdone\n",
            "\u001b[31mERROR: datascience 0.10.6 has requirement folium==0.2.1, but you'll have folium 0.8.3 which is incompatible.\u001b[0m\n",
            "\n",
            "\u001b[1mТребуемые версии пакетов установлены\u001b[0m\n"
          ],
          "name": "stdout"
        }
      ]
    },
    {
      "cell_type": "markdown",
      "metadata": {
        "id": "iT0Njx_J8gsw"
      },
      "source": [
        "Скачиваем файл с исходным кодом для работы модели:"
      ]
    },
    {
      "cell_type": "code",
      "metadata": {
        "id": "mpkjTWefecLc",
        "colab": {
          "base_uri": "https://localhost:8080/"
        },
        "outputId": "92b02c12-a665-4bdb-fc3d-11ca8399d3f4"
      },
      "source": [
        "!wget -q --show-progress https://raw.githubusercontent.com/sberbank-ai/ru-gpts/master/generate_transformers.py\r\n",
        "\r\n",
        "print('\\n'+'\\x1b[1m'+\"Код запуска модели загружен\"+'\\x1b[0m')"
      ],
      "execution_count": null,
      "outputs": [
        {
          "output_type": "stream",
          "text": [
            "\rgenerate_transforme   0%[                    ]       0  --.-KB/s               \rgenerate_transforme 100%[===================>]  10.23K  --.-KB/s    in 0s      \n",
            "\n",
            "\u001b[1mКод запуска модели загружен\u001b[0m\n"
          ],
          "name": "stdout"
        }
      ]
    },
    {
      "cell_type": "markdown",
      "metadata": {
        "id": "h6tgF3M_WKgL"
      },
      "source": [
        "Запускаем код, необходимый для преобразования файлов и отображения выдачи:"
      ]
    },
    {
      "cell_type": "code",
      "metadata": {
        "colab": {
          "base_uri": "https://localhost:8080/"
        },
        "id": "OLQ0nauvOR6K",
        "outputId": "8d6fe990-8d2a-4177-acf8-7a500e53fb36"
      },
      "source": [
        "import re\r\n",
        "import os\r\n",
        "import sys\r\n",
        "import json\r\n",
        "import random\r\n",
        "from datetime import datetime\r\n",
        "\r\n",
        "from IPython.display import Markdown, display\r\n",
        "\r\n",
        "def printmd(string):\r\n",
        "    display(Markdown(string))\r\n",
        "\r\n",
        "with open(model+\"/meta.json\", \"r\") as injson:\r\n",
        "  model_meta = json.load(injson)\r\n",
        "\r\n",
        "# converting inputs\r\n",
        "\r\n",
        "s = \"\"\r\n",
        "\r\n",
        "if not is_empty(\"input_with_lines.txt\"):\r\n",
        "  with open(\"input_with_lines.txt\", \"r\", encoding=\"utf-8\") as intxt:\r\n",
        "    prompts = [get_lbc(model_meta).join([sp for sp in p.split(\"\\n\") if sp]) for p in intxt.read().split(\"\\n\\n\") if p]\r\n",
        "else:\r\n",
        "  with open(\"input.txt\", \"r\", encoding=\"utf-8\") as intxt:\r\n",
        "    prompts = [p for p in intxt.read().split(\"\\n\") if p]\r\n",
        "\r\n",
        "for prompt in prompts:\r\n",
        "  s += (model_meta['prompt'] % prompt + '\\n') * takes\r\n",
        "\r\n",
        "with open(\"rawi.txt\", \"w\", encoding=\"utf-8\") as rawo:\r\n",
        "  rawo.write(s)\r\n",
        "\r\n",
        "print('\\x1b[1m'+\"Среда подготовлена\"+'\\x1b[0m')"
      ],
      "execution_count": null,
      "outputs": [
        {
          "output_type": "stream",
          "text": [
            "\u001b[1mСреда подготовлена\u001b[0m\n"
          ],
          "name": "stdout"
        }
      ]
    },
    {
      "cell_type": "markdown",
      "metadata": {
        "id": "DP7YAlDPqknI"
      },
      "source": [
        "## Генерируем отупение\r\n",
        "\r\n",
        "Теперь всё, наконец, готово к тому, чтобы модель сгенерировала нам выдачу. То, насколько серьёзный и осмысленный текст будет пытаться выдавать модель, можно регулировать по шкале **`Бредовость`**: здесь есть 5 степеней – от самой нормальной до самой странной (я предупреждал). Кроме этого, флажок **`Повторяться`** определяет, как будет работать модель: если галочку оставить, то первый результат будет очень похож не те, что есть в канале, а последующие будут с ним совпадать. А если снять галочку, то выдача модели каждый раз будет новая. Удачи!"
      ]
    },
    {
      "cell_type": "code",
      "metadata": {
        "colab": {
          "base_uri": "https://localhost:8080/",
          "height": 1000
        },
        "id": "1Mx77HMhT85a",
        "outputId": "07fd1842-4e0a-4498-a7f8-3500c41aa68d"
      },
      "source": [
        "#@markdown ### Начать генерацию!\r\n",
        "\r\n",
        "Бредовость = 75 #@param {type: \"slider\", min: 0, max: 100, step: 25}\r\n",
        "stlv = Бредовость\r\n",
        "\r\n",
        "stup_cases = {\r\n",
        "    0: {\"k\": 5, \"p\": 0.95, \"temp\": 1.0},\r\n",
        "    25: {\"k\": 5, \"p\": 0.93, \"temp\": 2.0},\r\n",
        "    50: {\"k\": 6, \"p\": 0.91, \"temp\": 3.0},\r\n",
        "    75: {\"k\": 6, \"p\": 0.9, \"temp\": 4.0},\r\n",
        "    100: {\"k\": 7, \"p\": 0.88, \"temp\": 5.0}\r\n",
        "}\r\n",
        "\r\n",
        "Повторяться = True   # @param {\"type\": \"boolean\"}\r\n",
        "add_randomness = not Повторяться\r\n",
        "\r\n",
        "rs = random.choice(list(range(0, 10000))) if add_randomness else 42\r\n",
        "printmd(\"Ключ случайного значения: **\"+str(rs)+\"**\")\r\n",
        "\r\n",
        "responses = !python generate_transformers.py \\\r\n",
        "    --model_type=gpt2 \\\r\n",
        "    --model_name_or_path={model} \\\r\n",
        "    --k={str(stup_cases[stlv][\"k\"])} \\\r\n",
        "    --p={str(stup_cases[stlv][\"p\"])} \\\r\n",
        "    --seed={str(rs)} \\\r\n",
        "    --temperature={str(stup_cases[stlv][\"temp\"])} \\\r\n",
        "    --repetition_penalty=1.0 \\\r\n",
        "    --stop_token=\"{model_meta['sequence_end_character']}\" \\\r\n",
        "    --length=500 < rawi.txt 2>/dev/null\r\n",
        "\r\n",
        "responses = \"\\n\".join(list(responses))\r\n",
        "\r\n",
        "lbc = model_meta[\"line_break_character\"]\r\n",
        "ssc = model_meta[\"sequence_start_character\"]\r\n",
        "sec = model_meta[\"sequence_end_character\"]\r\n",
        "prompt = re.sub(r\"%[a-z]+\", \"(.*?)\", model_meta[\"prompt\"])\r\n",
        "\r\n",
        "resps = [r for r in responses.split(\"Context >>> ruGPT:\\n\") if r]\r\n",
        "for resp in resps:\r\n",
        "  pt, rs, _ = re.findall(re.compile(repr(prompt)[1:-1] + r\"\\n?(.*?)(\" + ssc + \"|$)\", flags=re.DOTALL), resp)[0]\r\n",
        "  pt = \"<br>\".join(\"**\" + p + \"**\" for p in re.split(lbc, pt) if p)\r\n",
        "  printmd(pt)\r\n",
        "  rs = re.sub(lbc, \"<br>\", rs).strip()\r\n",
        "  rs = re.sub(r\"([^\\s])<br>([^\\s])\", r\"\\1 <br> \\2\", rs)\r\n",
        "  printmd(rs[:rs.find(\"Context >>> ruGPT:\")] + \"<br>\")"
      ],
      "execution_count": null,
      "outputs": [
        {
          "output_type": "display_data",
          "data": {
            "text/markdown": "Ключ случайного значения: **42**",
            "text/plain": [
              "<IPython.core.display.Markdown object>"
            ]
          },
          "metadata": {
            "tags": []
          }
        },
        {
          "output_type": "display_data",
          "data": {
            "text/markdown": "**А как какать?**",
            "text/plain": [
              "<IPython.core.display.Markdown object>"
            ]
          },
          "metadata": {
            "tags": []
          }
        },
        {
          "output_type": "display_data",
          "data": {
            "text/markdown": "Сделайте глубокий вдох. Поддерживаем водно-солевой баланс организма, особенно если вам приходится есть в одно-два блюда каждый день. Попробуйте позыв «согреться»: Попробуйте позыв «лечь поспать»; это поможет вам снять мышечные боли; если это не подействовало, то вы должны встать с постели в тот период, который вам не подходит; вы не обязаны лежать в одной кровати. Попробуйте позывы для расслабления; это будет похоже на позывы на расслабление после еды или после того как вы ее сделали<br>",
            "text/plain": [
              "<IPython.core.display.Markdown object>"
            ]
          },
          "metadata": {
            "tags": []
          }
        },
        {
          "output_type": "display_data",
          "data": {
            "text/markdown": "**А как какать?**",
            "text/plain": [
              "<IPython.core.display.Markdown object>"
            ]
          },
          "metadata": {
            "tags": []
          }
        },
        {
          "output_type": "display_data",
          "data": {
            "text/markdown": "Сосчитай до трех. Разрежь свой палец пополам. Сожмите большой и средний кулак. Встаньте прямо на ноги. Поднимите средний кулак выше уровня головы и поднимите большой кулак вверх. Повращением указательным пальцем сделайте два больших шага вперед (передний и задний план соответственно). Вытянитесь вперед и назад, а также согнитесь в три оборота в одну линию. Поднимитесь в полный рост на носочке и поднимитесь на верхнюю точку на передней части бедра (с согнутой ногой и вперед). Выпрямите верхнюю и заднюю часть туловища и повторите шаги с обеих сторон от себя до конца бедра и вверх (на бедру). Выпрямите руки по швам. Сдвиньте большой и средний пальцы в положение «назад». Встаньте в полный рост перед большим и средним пальцем, чтобы поднять большой палец. Выпрямите левую руку. Переведите указательным пальцем в положение на «передний план» (если вы не можете перевести палец в исходное положение) (это делается, чтобы не терять сознание от страха и боли). Выпрямите верхнюю часть спины (впрямоугольником вниз, с правой стороны, если вам больше 18 лет, и ваша спина больше по объему и ширине) (это упражнение делается, как показано ниже, в качестве альтернативного метода для уменьшения объема тела и поднятию верхней и боковой частей корпуса). Переведите свой палец назад (на верхушку, если он находится между большим и средним) и в положении «задний план», чтобы поднять средний палец, а затем в положение для увеличения верхней руки (если у вас нет большого размера). Сдвиньте мизинец в исходное положение и поднимитесь на носочку. В положении «сгиб вперед», опускаясь в положение «согнута» (как показано ниже) и выпрямляйтесь<br>",
            "text/plain": [
              "<IPython.core.display.Markdown object>"
            ]
          },
          "metadata": {
            "tags": []
          }
        },
        {
          "output_type": "display_data",
          "data": {
            "text/markdown": "**А как какать?**",
            "text/plain": [
              "<IPython.core.display.Markdown object>"
            ]
          },
          "metadata": {
            "tags": []
          }
        },
        {
          "output_type": "display_data",
          "data": {
            "text/markdown": "Соседка, которую угораздило залететь к соседу в комнату/комнату, не может позволить себе туалет на кухне, в ванной, в спальне или еще в чем то<br>",
            "text/plain": [
              "<IPython.core.display.Markdown object>"
            ]
          },
          "metadata": {
            "tags": []
          }
        },
        {
          "output_type": "display_data",
          "data": {
            "text/markdown": "**А как какать?**",
            "text/plain": [
              "<IPython.core.display.Markdown object>"
            ]
          },
          "metadata": {
            "tags": []
          }
        },
        {
          "output_type": "display_data",
          "data": {
            "text/markdown": "Проверка уровня воды в ванной. Подождите 5–10 секунд, затем снова проверьте воду снова, если она чистая, то это нормально. Проверяем уровень воды в бассейне с ребенком на наличие бактерий. Проверка уровня в душе или ванной. Проверяем количество потребляемых калорий на основе результатов. Проверяйте уровень в душе и на кухне. Проверяйте количество потребленных углеводов, чтобы определить, какие углеводы нужно съесть и сколько сахара съесть. Если уровень в душе высокий, или ванна не оборудована подогревателем, тогда проверяйте воду на наличие микробов и прочих неприятных запасов. Не проверьте воду и не просите других о дополнительной порции. Попробуйте проверочный тест. Используйте одноразовую или многоразовую зубчатую ручку, чтобы проверить, нет у вашей собаки признаков обезвоживания или рвоты, когда ее моют и чистят. Проверьте воду, если она загрязненная или мутная и если ее температура слишком высока. Проверьте уровень, когда вы моете и готовите для собаки. Используйте для оценки воды специальную зубчатую ложку с зубчиками. Если вода чистая или теплая, попробуйте сделать ее еще чище, если вода не прозрачная или мутная. <finished>if (MsWeb)MsoVP.add(document.getEffectMessages('style')<br<br>",
            "text/plain": [
              "<IPython.core.display.Markdown object>"
            ]
          },
          "metadata": {
            "tags": []
          }
        },
        {
          "output_type": "display_data",
          "data": {
            "text/markdown": "**Как убедить друга принять пастафарианство?**",
            "text/plain": [
              "<IPython.core.display.Markdown object>"
            ]
          },
          "metadata": {
            "tags": []
          }
        },
        {
          "output_type": "display_data",
          "data": {
            "text/markdown": "Свяжитесь по электронной почте с человеком, которому доверяете. Напишите ему письмо. Напишите в письме, что хотите, что бы его приняли в ваш храм пастора или другие религиозные общины. Приведите в исполнение обещание о крещении вашего пастора<br>",
            "text/plain": [
              "<IPython.core.display.Markdown object>"
            ]
          },
          "metadata": {
            "tags": []
          }
        },
        {
          "output_type": "display_data",
          "data": {
            "text/markdown": "**Как убедить друга принять пастафарианство?**",
            "text/plain": [
              "<IPython.core.display.Markdown object>"
            ]
          },
          "metadata": {
            "tags": []
          }
        },
        {
          "output_type": "display_data",
          "data": {
            "text/markdown": "Поймите суть пастафарианского поклонения: Приведите примеры того что Пастафарианам можно молиться и поклоняться: Будьте уверены, ваш друг, скорее всего согласится, если это действительно так: Если вам кажется это уместным – выслушайте, что говорит ваш собеседник и не поддаваться его доводам и аргументации. Будьте искренны и откровенны в своих намереньях. Будьте последовательными в своем мнении относительно сути Пастафарианского братства, и не используйте слово «братский». Придумайтесь к этому и будьте искренним в своих чувствах и намереньях: Пригласите вашего близкого человека в гости. Если вы не хотите принимать католическое поклонение в течение нескольких недель (это не значит что нужно ждать несколько часов), вы должны быть в церкви, если у человека есть желание. Будьте честнее и откровеннее и убедите его в том, что вы не собираетесь поклонятся кому то еще, и он, вероятно, не захочет этого делать. Будьте добры к человеку: Не пытаетесь угодить кому то. Будьте добры, когда говорите, и не будьте назойливы в ответ. Придумай себе план на следующий вечер. Не говорите «Нет». Если ваш друг хочет принять какое-либо решение, не стесняйтесь этого. Выскажите свои сомнения человеку. Если вам нужно время на размышления или раздумье о своем решении (неважно какое, важно как), не бойтесь обратиться ко мне с вопросами, например – как вы считаете – если ваш человек хочет отказаться от католицизма и хочет жить с кем-то, что он хочет иметь с католиками, и не пытается ли ваш человек стать тем кем-то в этом роде – вы должны быть честны с этим и быть искренни с ним, если вы не хотите этого делать и не считаете его плохим или хорошим и так далее (это все не должно выглядеть плохо или плохо)<br>",
            "text/plain": [
              "<IPython.core.display.Markdown object>"
            ]
          },
          "metadata": {
            "tags": []
          }
        },
        {
          "output_type": "display_data",
          "data": {
            "text/markdown": "**Как убедить друга принять пастафарианство?**",
            "text/plain": [
              "<IPython.core.display.Markdown object>"
            ]
          },
          "metadata": {
            "tags": []
          }
        },
        {
          "output_type": "display_data",
          "data": {
            "text/markdown": "Подумайте над вопросом. Выберите тему. Подумайте, насколько вы хотите убедить друга отказаться от своей идеи. Расскажите другу об альтернативе пафарианства, которую вы приняли. Предложите другу отказаться и от этой идеи. Расскажите ему свою версию, что идея не имеет ничего общего со Христом. Придерживайтесь того, что идея – не более чем плод воображения человека, которого вы знаете. Предложите человеку отказаться от своей идее или же не отказывайте<br>",
            "text/plain": [
              "<IPython.core.display.Markdown object>"
            ]
          },
          "metadata": {
            "tags": []
          }
        },
        {
          "output_type": "display_data",
          "data": {
            "text/markdown": "**Как убедить друга принять пастафарианство?**",
            "text/plain": [
              "<IPython.core.display.Markdown object>"
            ]
          },
          "metadata": {
            "tags": []
          }
        },
        {
          "output_type": "display_data",
          "data": {
            "text/markdown": "Попросите друга сказать, что он верует во что–нибудь, что верит и не хочет верить в то, во что верите Вы должны знать, как убедить человека отказаться. Скажите своему парню или подруге что вы не хотите, или что если он не верит и хочет, не делайте этого и избегайте этого человека в течение нескольких часов перед встречами, которые он хочет провести вместе и с вами или в любое иное время перед встречами, если только у него это не будет получаться в тот же день или через несколько часов, или через неделю и тд и т. Если он не хочет с кем-то встречаться и вы не будете уверены, что сможете заставить его сделать то-то, что он не хотел или что ему было сложно, он не сможет сказать что угодно в то же утро и неделю и т пп. Когда он скажет, почему он хочет встретиться и вы знаете, почему, он должен сказать вам<br>",
            "text/plain": [
              "<IPython.core.display.Markdown object>"
            ]
          },
          "metadata": {
            "tags": []
          }
        },
        {
          "output_type": "display_data",
          "data": {
            "text/markdown": "**Как стать хорошей крысой?**",
            "text/plain": [
              "<IPython.core.display.Markdown object>"
            ]
          },
          "metadata": {
            "tags": []
          }
        },
        {
          "output_type": "display_data",
          "data": {
            "text/markdown": "Оптимизируй окружающую природу и окружающую среду обитания в вашем дворе и постройте для него заборы из гравийных материалов. Найдите хорошего ветеринара. Придумайте для своего двора клетку или вольер. Сделайте кормушку. Приобретите несколько деревянных или металлических контейнеров. Сделайте вход. Купите клетку для птицы. Сделайте вход из деревянных брусков для птиц или пластиковых бутылок с водой, чтобы они свободно прыгал внутри, но не касались друг друга, и чтобы они видели друг друга. Купите несколько металлических крюков. Сделайте дверь из металлической трубки или другого похожего материала (по вашему желанию)<br>",
            "text/plain": [
              "<IPython.core.display.Markdown object>"
            ]
          },
          "metadata": {
            "tags": []
          }
        },
        {
          "output_type": "display_data",
          "data": {
            "text/markdown": "**Как стать хорошей крысой?**",
            "text/plain": [
              "<IPython.core.display.Markdown object>"
            ]
          },
          "metadata": {
            "tags": []
          }
        },
        {
          "output_type": "display_data",
          "data": {
            "text/markdown": "Проверьте, не является ваша внешность «хорошей»: Не торопитесь с выводами! Определите, насколько вам подходит этот вариант и насколько вы можете соответствовать требованиям по стандартам. Определенные требования к вашей одежде должны вас удовлетворить! </s> Вопрос: как создать сайт, который вы хотите создать <br> Начнем с того, чтобы создать тему для сайта и/или для того что-либо другое. Создайте описание. Настройтесь под стиль своего проекта, если он будет простым. Сделайте описание, которое вы бы хотели увидеть у своего друга, который может рассказать вам что угодно. Сделайте описание для своего сайта<br>",
            "text/plain": [
              "<IPython.core.display.Markdown object>"
            ]
          },
          "metadata": {
            "tags": []
          }
        },
        {
          "output_type": "display_data",
          "data": {
            "text/markdown": "**Как стать хорошей крысой?**",
            "text/plain": [
              "<IPython.core.display.Markdown object>"
            ]
          },
          "metadata": {
            "tags": []
          }
        },
        {
          "output_type": "display_data",
          "data": {
            "text/markdown": "<br>",
            "text/plain": [
              "<IPython.core.display.Markdown object>"
            ]
          },
          "metadata": {
            "tags": []
          }
        },
        {
          "output_type": "display_data",
          "data": {
            "text/markdown": "**Как стать хорошей крысой?**",
            "text/plain": [
              "<IPython.core.display.Markdown object>"
            ]
          },
          "metadata": {
            "tags": []
          }
        },
        {
          "output_type": "display_data",
          "data": {
            "text/markdown": "Узнайте больше об особенностях вашей кошки. Знайте свою кошку. Научится понимать, что означает “быть хорошей кошкой” (если хотите, чтобы ваша коза хорошо пахла и выглядела здоровой. Будьте хорошим защитником в дикой природе или где вы охотитесь<br>",
            "text/plain": [
              "<IPython.core.display.Markdown object>"
            ]
          },
          "metadata": {
            "tags": []
          }
        },
        {
          "output_type": "display_data",
          "data": {
            "text/markdown": "**Как поймать хариуса на пиздоклюйку?**",
            "text/plain": [
              "<IPython.core.display.Markdown object>"
            ]
          },
          "metadata": {
            "tags": []
          }
        },
        {
          "output_type": "display_data",
          "data": {
            "text/markdown": "WHH.shared_addScrPhysics('image1_0');<br>  Как найти феромона хариуса<br>   <finished><br>  Заведите хариуса и убедитесь в наличии в нем признаков хариуса<br>",
            "text/plain": [
              "<IPython.core.display.Markdown object>"
            ]
          },
          "metadata": {
            "tags": []
          }
        },
        {
          "output_type": "display_data",
          "data": {
            "text/markdown": "**Как поймать хариуса на пиздоклюйку?**",
            "text/plain": [
              "<IPython.core.display.Markdown object>"
            ]
          },
          "metadata": {
            "tags": []
          }
        },
        {
          "output_type": "display_data",
          "data": {
            "text/markdown": "Убедится, что у него нет хариуса, прежде чем он поймаем его. Проверяем, пойманны ли они в дикой природе. Найдя место, где хариус может спокойно спрятаться и понаблюдать. Проверяем наличие хариуса у рыбалки<br>",
            "text/plain": [
              "<IPython.core.display.Markdown object>"
            ]
          },
          "metadata": {
            "tags": []
          }
        },
        {
          "output_type": "display_data",
          "data": {
            "text/markdown": "**Как поймать хариуса на пиздоклюйку?**",
            "text/plain": [
              "<IPython.core.display.Markdown object>"
            ]
          },
          "metadata": {
            "tags": []
          }
        },
        {
          "output_type": "display_data",
          "data": {
            "text/markdown": "<br>",
            "text/plain": [
              "<IPython.core.display.Markdown object>"
            ]
          },
          "metadata": {
            "tags": []
          }
        },
        {
          "output_type": "display_data",
          "data": {
            "text/markdown": "**Как поймать хариуса на пиздоклюйку?**",
            "text/plain": [
              "<IPython.core.display.Markdown object>"
            ]
          },
          "metadata": {
            "tags": []
          }
        },
        {
          "output_type": "display_data",
          "data": {
            "text/markdown": "Прыгай, прыг, прыгающий Прыгай и прыгай, Прыгни!  Если вы ловите хариуса в игре “Snob” (“Time Chat”, “Fly” и “Flash Chat” на PBS). Поймай их и выпустив. Поймайте Хариуса, используя свои когти или лапы для поимки. Если вам не удалось убить их, вы не можете поймать их, так вы будете вынуждены выпустить Хариуса.  Поймите разницу между ловушками в играх и в реальном мире. <finished style=width:400 px<br>",
            "text/plain": [
              "<IPython.core.display.Markdown object>"
            ]
          },
          "metadata": {
            "tags": []
          }
        },
        {
          "output_type": "display_data",
          "data": {
            "text/markdown": "**В чём разница между уткой?**",
            "text/plain": [
              "<IPython.core.display.Markdown object>"
            ]
          },
          "metadata": {
            "tags": []
          }
        },
        {
          "output_type": "display_data",
          "data": {
            "text/markdown": "Определим разницу между уткой-уткой. Обратите внимание на форму шеи. Определите длину тела. Обратите внимание и на размер. Обратитесь, если утке не комфортно сидеть и сидеть в утках на земле. Определитесь со своей диетой. Определитесь со своей внешностью. Определитесь в своих увлечениях и интересах. Обратите внимание в еде, которая нравится уткам на ферме. Определенные черты уутят в их характере. Посмотритесь в камеру или на веб-сайт производителя, чтобы понять различия<br>",
            "text/plain": [
              "<IPython.core.display.Markdown object>"
            ]
          },
          "metadata": {
            "tags": []
          }
        },
        {
          "output_type": "display_data",
          "data": {
            "text/markdown": "**В чём разница между уткой?**",
            "text/plain": [
              "<IPython.core.display.Markdown object>"
            ]
          },
          "metadata": {
            "tags": []
          }
        },
        {
          "output_type": "display_data",
          "data": {
            "text/markdown": "Утки — хищные птицы семейства утицовых; в дикой природе встречаются в разных местах по всему миру. <br>THIS MEME WORLD OCKIY SYSTEMS: [1] <br>WARNING OWIES WITH A WH.OWIETHEY SYSTEМ (2:00 PHP, C:0001:1). [1] <br>WORLD WH.LOG SWITH WATSH (4.2:30 PMP:1). [1]. [1] Утки, как и птицы-слоны:  Утка не должна прыгать на человека. <br>WH.showWARDS.create.add(document.getElementByImg('img_d5cdc5a7').v) <br> <br>WH.show.add('img_e9a6bbd6') <br> <br> Если хотите посмотреть, сколько утят у вас уже, вы можете найти утку на ферме<br>",
            "text/plain": [
              "<IPython.core.display.Markdown object>"
            ]
          },
          "metadata": {
            "tags": []
          }
        },
        {
          "output_type": "display_data",
          "data": {
            "text/markdown": "**В чём разница между уткой?**",
            "text/plain": [
              "<IPython.core.display.Markdown object>"
            ]
          },
          "metadata": {
            "tags": []
          }
        },
        {
          "output_type": "display_data",
          "data": {
            "text/markdown": "Определение утки по размерам тела:  Определение размера утки по размеру яйца <br> Оцените размеры яиц: Найдем размеры головы: Узнаем размеры уток по форме тела, чтобы определить размер утки по форме тела и весу: Сравним вес яиц:  Определение размеров яиц по размерам:  Узнаваем, в чем заключается разница размеров яиц:  Узнайте о том, что такое яйца, когда и как можно их есть и хранить. Обратите внимание, какие бывают яйца и какие виды уток бывают.  Определем размер головы (по размерам тела и веса)<br>",
            "text/plain": [
              "<IPython.core.display.Markdown object>"
            ]
          },
          "metadata": {
            "tags": []
          }
        },
        {
          "output_type": "display_data",
          "data": {
            "text/markdown": "**В чём разница между уткой?**",
            "text/plain": [
              "<IPython.core.display.Markdown object>"
            ]
          },
          "metadata": {
            "tags": []
          }
        },
        {
          "output_type": "display_data",
          "data": {
            "text/markdown": "Определитесь с тем, что означает утенок. Выберите птицу или самца для вылупливания и размножение. Найдите утку. Наймите хорошего профессионала по разведению утят и утку, который сможет обеспечить надлежащую среду обитания. Выберите уток. Определим размер утка, на котором вы хотите его вылупиться и на кого он должен быть рассчитан. Определите, сколько уток может нестись. Выберите подходящее гнездо, чтобы разместить утку. Определим количество самца и самка, если хотите получить уток, которые не имеют детеночка. Примите во внимание количество инфицированных утят и количество самцов и самок утят в вашем регионе. Выберите подходящую пару утков. Подготовку утки следует начать сразу же, как утки родятся. Выберите подходящее для уток гнездо. Приберите утку. Найдя птицу в гнездовом комоде и в подходящих местах, начните готовить утку и выталкивать утку, когда утка достигнет возраста 1,5–2,5 лет, когда ее вес увеличится примерно до 2 килограмм за один раз и до 4 килограмм за каждые 4 килограмма. <finished>end><br<br>",
            "text/plain": [
              "<IPython.core.display.Markdown object>"
            ]
          },
          "metadata": {
            "tags": []
          }
        }
      ]
    },
    {
      "cell_type": "markdown",
      "metadata": {
        "id": "W6IBHcrCEyId"
      },
      "source": [
        "## Больше отупения!\r\n",
        "\r\n",
        "Хотите попробовать другие фразы? Тогда впишите их в клетку под этим текстом, как до этого, и запустите код ниже. Не забудьте поменять `%%writefile input.txt` на `%%writefile input_with_lines.txt`, если ваши запросы содержат переносы строк!"
      ]
    },
    {
      "cell_type": "code",
      "metadata": {
        "colab": {
          "base_uri": "https://localhost:8080/"
        },
        "id": "yd0o8O28E0IJ",
        "outputId": "a5437a90-3938-4b23-adc4-fd4b060d35d4"
      },
      "source": [
        "%%writefile input.txt\r\n",
        "Как быть, если вокруг такое?\r\n",
        "Как поскорее пережить зиму?\r\n",
        "Как правильно провести 14 февраля?"
      ],
      "execution_count": 32,
      "outputs": [
        {
          "output_type": "stream",
          "text": [
            "Overwriting input.txt\n"
          ],
          "name": "stdout"
        }
      ]
    },
    {
      "cell_type": "code",
      "metadata": {
        "colab": {
          "base_uri": "https://localhost:8080/",
          "height": 75
        },
        "cellView": "form",
        "id": "YEGt_2-mRvN-",
        "outputId": "ada8fe18-8f2e-4bc6-ef33-36e986472933"
      },
      "source": [
        "#@markdown ### Генерируем новую выдачу\r\n",
        "\r\n",
        "Повторов = 5  #@param {\"type\": \"integer\"}\r\n",
        "takes = Повторов\r\n",
        "\r\n",
        "if takes < 1:\r\n",
        "  takes = 1\r\n",
        "  print(\"Маловато повторов. Установлено значение \" + str(takes) + \".\")\r\n",
        "if takes > 30:\r\n",
        "  takes = 30\r\n",
        "  print(\"Маловато повторов. Установлено значение \" + str(takes) + \".\")\r\n",
        "if type(takes) != int:\r\n",
        "  takes = 4\r\n",
        "  print(\"Что-то пошло не так с количеством повторов. Установлено значение \" + str(takes) + \".\")\r\n",
        "\r\n",
        "s = \"\"\r\n",
        "\r\n",
        "if not is_empty(\"input_with_lines.txt\"):\r\n",
        "  with open(\"input_with_lines.txt\", \"r\", encoding=\"utf-8\") as intxt:\r\n",
        "    prompts = [get_lbc(model_meta).join([sp for sp in p.split(\"\\n\") if sp]) for p in intxt.read().split(\"\\n\\n\") if p]\r\n",
        "else:\r\n",
        "  with open(\"input.txt\", \"r\", encoding=\"utf-8\") as intxt:\r\n",
        "    prompts = [p for p in intxt.read().split(\"\\n\") if p]\r\n",
        "\r\n",
        "for prompt in prompts:\r\n",
        "  s += (model_meta['prompt'] % prompt + '\\n') * takes\r\n",
        "\r\n",
        "with open(\"rawi.txt\", \"w\", encoding=\"utf-8\") as rawo:\r\n",
        "  rawo.write(s)\r\n",
        "\r\n",
        "Бредовость = 75 #@param {type: \"slider\", min: 0, max: 100, step: 25}\r\n",
        "stlv = Бредовость\r\n",
        "\r\n",
        "Повторяться = False   # @param {\"type\": \"boolean\"}\r\n",
        "add_randomness = not Повторяться\r\n",
        "\r\n",
        "rs = random.choice(list(range(0, 10000))) if add_randomness else 42\r\n",
        "printmd(\"Ключ случайного значения: **\"+str(rs)+\"**\")\r\n",
        "\r\n",
        "responses = !python generate_transformers.py \\\r\n",
        "    --model_type=gpt2 \\\r\n",
        "    --model_name_or_path={model} \\\r\n",
        "    --k={str(stup_cases[stlv][\"k\"])} \\\r\n",
        "    --p={str(stup_cases[stlv][\"p\"])} \\\r\n",
        "    --seed={str(rs)} \\\r\n",
        "    --temperature={str(stup_cases[stlv][\"temp\"])} \\\r\n",
        "    --repetition_penalty=1.0 \\\r\n",
        "    --stop_token=\"{model_meta['sequence_end_character']}\" \\\r\n",
        "    --length=500 < rawi.txt 2>/dev/null\r\n",
        "\r\n",
        "responses = \"\\n\".join(list(responses))\r\n",
        "\r\n",
        "lbc = model_meta[\"line_break_character\"]\r\n",
        "ssc = model_meta[\"sequence_start_character\"]\r\n",
        "sec = model_meta[\"sequence_end_character\"]\r\n",
        "prompt = re.sub(r\"%[a-z]+\", \"(.*?)\", model_meta[\"prompt\"])\r\n",
        "\r\n",
        "resps = [r for r in responses.split(\"Context >>> ruGPT:\\n\") if r]\r\n",
        "for resp in resps:\r\n",
        "  pt, rs, _ = re.findall(re.compile(repr(prompt)[1:-1] + r\"\\n?(.*?)(\" + ssc + \"|$)\", flags=re.DOTALL), resp)[0]\r\n",
        "  pt = \"<br>\".join(\"**\" + p + \"**\" for p in re.split(lbc, pt) if p)\r\n",
        "  printmd(pt)\r\n",
        "  rs = re.sub(lbc, \"<br>\", rs).strip()\r\n",
        "  rs = re.sub(r\"([^\\s])<br>([^\\s])\", r\"\\1 <br> \\2\", rs)\r\n",
        "  printmd(rs[:rs.find(\"Context >>> ruGPT:\")] + \"<br>\")"
      ],
      "execution_count": null,
      "outputs": [
        {
          "output_type": "display_data",
          "data": {
            "text/markdown": "Ключ случайного значения: **1425**",
            "text/plain": [
              "<IPython.core.display.Markdown object>"
            ]
          },
          "metadata": {
            "tags": []
          }
        },
        {
          "output_type": "stream",
          "text": [
            "Context >>> "
          ],
          "name": "stdout"
        }
      ]
    },
    {
      "cell_type": "markdown",
      "metadata": {
        "id": "3nfmtAaqcFrQ"
      },
      "source": [
        "На этом всё. Получайте удовольствие (надеюсь)!"
      ]
    }
  ]
}