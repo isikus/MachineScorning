{
  "nbformat": 4,
  "nbformat_minor": 0,
  "metadata": {
    "accelerator": "GPU",
    "colab": {
      "name": "Нагенерировать машинного отупения на ruGPT3.ipynb",
      "provenance": [],
      "collapsed_sections": [
        "9IH1cb0oGkXP"
      ]
    },
    "kernelspec": {
      "display_name": "Python 3",
      "name": "python3"
    }
  },
  "cells": [
    {
      "cell_type": "markdown",
      "metadata": {
        "id": "YONnGjpAYUdU"
      },
      "source": [
        "\n",
        "<a href=\"https://colab.research.google.com/github/isikus/MachineScorning/blob/4c072a24c8c03334e28ec2a411e7b2970b2e8f99/Нагенерировать%20машинного%20отупения%20на%20ruGPT3.ipynb\" target=\"_parent\"><img src=\"https://colab.research.google.com/assets/colab-badge.svg\" alt=\"Open In Colab\"/></a>"
      ]
    },
    {
      "cell_type": "markdown",
      "metadata": {
        "id": "3RHDK81QqrET"
      },
      "source": [
        "# Нагенерировать машинного отупения на ruGPT3"
      ]
    },
    {
      "cell_type": "code",
      "metadata": {
        "cellView": "form",
        "colab": {
          "base_uri": "https://localhost:8080/"
        },
        "id": "on7W1zhwAaKS",
        "outputId": "d4260a8d-2168-476d-d83d-7d08974f3f5b"
      },
      "source": [
        "import os\r\n",
        "import json\r\n",
        "\r\n",
        "def is_empty(fpath, default_lines=[[\"Дополни эту фразу\", \"И эту фразу тоже дополни\"], [\"Первый пример запроса\", \"Из нескольких строк\", \"\", \"И второй пример\", \"Я тоже придумать смог\"]]):\r\n",
        "  if not os.path.isfile(fpath):\r\n",
        "    return True\r\n",
        "  if not (os.path.getsize(fpath) > 0):\r\n",
        "    return True\r\n",
        "  if default_lines:\r\n",
        "    with open(fpath, \"r\") as infile:\r\n",
        "      lines = infile.read().split(\"\\n\")\r\n",
        "    for deflines in default_lines:\r\n",
        "      if lines == deflines:\r\n",
        "        return True\r\n",
        "  return False\r\n",
        "  \r\n",
        "\r\n",
        "def get_lbc(model_meta):\r\n",
        "  lbc = model_meta[\"line_break_character\"]\r\n",
        "  lbc = lbc.replace(\"\\s\", \" \")\r\n",
        "  return lbc\r\n",
        "\r\n",
        "#@markdown Для начала выберите модель:\r\n",
        "\r\n",
        "Модель = \"Нейропоздравления с новым годом\"  #@param [\"Нейроописания товаров\", \"Нейроинструкции на все случаи жизни\", \"Нейротексты «Короля и Шута»\", \"Нейроновости Северной Кореи\", \"Нейропоздравления с новым годом\"]\r\n",
        "\r\n",
        "desc_dict = {\r\n",
        "    \"Нейроописания товаров\": \"products_desc\",\r\n",
        "    \"Нейроинструкции на все случаи жизни\": \"wikihowto\",\r\n",
        "    \"Нейротексты «Короля и Шута»\": \"kishverses\",\r\n",
        "    \"Нейроновости Северной Кореи\": \"rukcna\",\r\n",
        "    \"Нейропоздравления с новым годом\": \"greetings\"\r\n",
        "}\r\n",
        "\r\n",
        "model = desc_dict[Модель]\r\n",
        "\r\n",
        "!wget -q --show-progress https://storage.googleapis.com/ml-bucket-isikus/machine-scorning/{model}.tar.gz\r\n",
        "!mkdir {model}\r\n",
        "!tar -xzf {model}.tar.gz -C {model}\r\n",
        "\r\n",
        "try:\r\n",
        "  with open(model+\"/meta.json\", \"r\") as injson:\r\n",
        "    model_meta = json.load(injson)\r\n",
        "  print('\\x1b[1m'+Модель + \": модель подготовлена\"+'\\x1b[0m')\r\n",
        "except Exception as e:\r\n",
        "  print('\\x1b[1;31m'+\"Что-то сломалось – модель не готова :(\"+'\\x1b[0m')"
      ],
      "execution_count": null,
      "outputs": [
        {
          "output_type": "stream",
          "text": [
            "greetings.tar.gz    100%[===================>] 443.68M   103MB/s    in 5.3s    \n",
            "\u001b[1mНейропоздравления с новым годом: модель подготовлена\u001b[0m\n"
          ],
          "name": "stdout"
        }
      ]
    },
    {
      "cell_type": "markdown",
      "metadata": {
        "id": "fk5AMR1q5ifP"
      },
      "source": [
        "Теперь запишите варианты начала сообщений, которые должна дополнить модель, сразу под текстом `%%writefile input.txt`, по 1 разному началу на строку:"
      ]
    },
    {
      "cell_type": "code",
      "metadata": {
        "colab": {
          "base_uri": "https://localhost:8080/"
        },
        "id": "WOisDCMa5QZR",
        "outputId": "26c646aa-0581-4e6b-d2fb-55546195232d"
      },
      "source": [
        "%%writefile input.txt\r\n",
        "Дополни эту фразу\r\n",
        "И эту фразу тоже дополни"
      ],
      "execution_count": null,
      "outputs": [
        {
          "output_type": "stream",
          "text": [
            "Writing input.txt\n"
          ],
          "name": "stdout"
        }
      ]
    },
    {
      "cell_type": "markdown",
      "metadata": {
        "id": "8Y1U_F98ROVS"
      },
      "source": [
        "**Важно:** если ваши запросы содержат переносы строк (например, это начало стихотворения), вместо предыдущей клетки, заполните клетку ниже, разбивая ваш ввод двумя переносами строк. Код ниже заменит переносы строк на специальный символ – это необходимо для корректной работы модели."
      ]
    },
    {
      "cell_type": "code",
      "metadata": {
        "colab": {
          "base_uri": "https://localhost:8080/"
        },
        "id": "yK0q8R0uR3gs",
        "outputId": "11dbea29-79b9-43dc-c728-93acffb3c4b5"
      },
      "source": [
        "%%writefile input_with_lines.txt\r\n",
        "Первый пример запроса\r\n",
        "Из нескольких строк\r\n",
        "\r\n",
        "И второй пример\r\n",
        "Я тоже придумать смог"
      ],
      "execution_count": null,
      "outputs": [
        {
          "output_type": "stream",
          "text": [
            "Writing input_with_lines.txt\n"
          ],
          "name": "stdout"
        }
      ]
    },
    {
      "cell_type": "markdown",
      "metadata": {
        "id": "BBU-YKC4ZL_d"
      },
      "source": [
        "Если у вас совсем нет идей, запустите код ниже – он скачает примеры запросов по умолчанию для вашей модели:"
      ]
    },
    {
      "cell_type": "code",
      "metadata": {
        "id": "_Ks9smG9YJUk"
      },
      "source": [
        "if is_empty(\"input.txt\") and is_empty(\"input_with_lines.txt\"):\n",
        "  !cp {model}/example_input.txt input.txt\n",
        "  print('\\x1b[1;31m'+\"Загружены примеры по умолчанию\"+'\\x1b[0m')"
      ],
      "execution_count": null,
      "outputs": []
    },
    {
      "cell_type": "code",
      "metadata": {
        "cellView": "form",
        "id": "NVDPUK2wGvpl"
      },
      "source": [
        "#@markdown Наконец, укажите, сколько вариантов выдачи нужно сгенерировать модели на каждый из запросов (от 1 до 30):\r\n",
        "\r\n",
        "Повторов = 4  #@param {\"type\": \"integer\"}\r\n",
        "takes = Повторов\r\n",
        "\r\n",
        "if takes < 1:\r\n",
        "  takes = 1\r\n",
        "  print(\"Это маловато. Установили значение \" + str(takes) + \".\")\r\n",
        "if takes > 30:\r\n",
        "  takes = 30\r\n",
        "  print(\"Это многовато. Установили значение \" + str(takes) + \".\")\r\n",
        "if type(takes) != int:\r\n",
        "  takes = 4\r\n",
        "  print(\"Что-то пошло не так. Установили значение \" + str(takes) + \".\")"
      ],
      "execution_count": null,
      "outputs": []
    },
    {
      "cell_type": "markdown",
      "metadata": {
        "id": "9IH1cb0oGkXP"
      },
      "source": [
        "## Подготавливаем среду для модели\r\n",
        "Сами файлы скачаны, но нужно ещё выполнить код, чтобы подготовить модель к работе."
      ]
    },
    {
      "cell_type": "markdown",
      "metadata": {
        "id": "Y4l_N3Rw_7AJ"
      },
      "source": [
        "Проверяем, что мы подключены к видеокарте: команда в клетке ниже должна работать и показывать показывать примерно 12000-15000 Мб свободной памяти:"
      ]
    },
    {
      "cell_type": "code",
      "metadata": {
        "colab": {
          "base_uri": "https://localhost:8080/"
        },
        "id": "Kd1B5BJB_thJ",
        "outputId": "382388c1-2761-4801-dabc-7e7c00da94eb"
      },
      "source": [
        "!nvidia-smi"
      ],
      "execution_count": null,
      "outputs": [
        {
          "output_type": "stream",
          "text": [
            "Sun Feb 14 12:19:13 2021       \n",
            "+-----------------------------------------------------------------------------+\n",
            "| NVIDIA-SMI 460.39       Driver Version: 460.32.03    CUDA Version: 11.2     |\n",
            "|-------------------------------+----------------------+----------------------+\n",
            "| GPU  Name        Persistence-M| Bus-Id        Disp.A | Volatile Uncorr. ECC |\n",
            "| Fan  Temp  Perf  Pwr:Usage/Cap|         Memory-Usage | GPU-Util  Compute M. |\n",
            "|                               |                      |               MIG M. |\n",
            "|===============================+======================+======================|\n",
            "|   0  Tesla T4            Off  | 00000000:00:04.0 Off |                    0 |\n",
            "| N/A   37C    P8    10W /  70W |      0MiB / 15109MiB |      0%      Default |\n",
            "|                               |                      |                  N/A |\n",
            "+-------------------------------+----------------------+----------------------+\n",
            "                                                                               \n",
            "+-----------------------------------------------------------------------------+\n",
            "| Processes:                                                                  |\n",
            "|  GPU   GI   CI        PID   Type   Process name                  GPU Memory |\n",
            "|        ID   ID                                                   Usage      |\n",
            "|=============================================================================|\n",
            "|  No running processes found                                                 |\n",
            "+-----------------------------------------------------------------------------+\n"
          ],
          "name": "stdout"
        }
      ]
    },
    {
      "cell_type": "markdown",
      "metadata": {
        "id": "Xa62C9TeU_U5"
      },
      "source": [
        "Устанавливаем нужные версии библиотек:"
      ]
    },
    {
      "cell_type": "code",
      "metadata": {
        "colab": {
          "base_uri": "https://localhost:8080/"
        },
        "id": "asqMueYPeIgK",
        "outputId": "660e337d-0fa6-42f8-84c4-59b1e6435b61"
      },
      "source": [
        "!pip3 install -q urllib3==1.25.4 transformers==2.8.0\r\n",
        "\r\n",
        "print('\\n'+'\\x1b[1m'+\"Требуемые версии пакетов установлены\"+'\\x1b[0m')"
      ],
      "execution_count": null,
      "outputs": [
        {
          "output_type": "stream",
          "text": [
            "\u001b[K     |████████████████████████████████| 133kB 7.8MB/s \n",
            "\u001b[K     |████████████████████████████████| 573kB 13.7MB/s \n",
            "\u001b[K     |████████████████████████████████| 133kB 17.3MB/s \n",
            "\u001b[K     |████████████████████████████████| 890kB 17.1MB/s \n",
            "\u001b[K     |████████████████████████████████| 3.7MB 37.6MB/s \n",
            "\u001b[K     |████████████████████████████████| 1.2MB 53.5MB/s \n",
            "\u001b[K     |████████████████████████████████| 71kB 10.7MB/s \n",
            "\u001b[K     |████████████████████████████████| 7.2MB 57.5MB/s \n",
            "\u001b[?25h  Building wheel for sacremoses (setup.py) ... \u001b[?25l\u001b[?25hdone\n",
            "\u001b[31mERROR: datascience 0.10.6 has requirement folium==0.2.1, but you'll have folium 0.8.3 which is incompatible.\u001b[0m\n",
            "\n",
            "\u001b[1mТребуемые версии пакетов установлены\u001b[0m\n"
          ],
          "name": "stdout"
        }
      ]
    },
    {
      "cell_type": "markdown",
      "metadata": {
        "id": "iT0Njx_J8gsw"
      },
      "source": [
        "Скачиваем файл с исходным кодом для работы модели:"
      ]
    },
    {
      "cell_type": "code",
      "metadata": {
        "colab": {
          "base_uri": "https://localhost:8080/"
        },
        "id": "mpkjTWefecLc",
        "outputId": "ec068c5c-e197-4ec1-c406-9a134ef5baa1"
      },
      "source": [
        "!wget -q --show-progress https://raw.githubusercontent.com/sberbank-ai/ru-gpts/master/generate_transformers.py\r\n",
        "\r\n",
        "print('\\n'+'\\x1b[1m'+\"Код запуска модели загружен\"+'\\x1b[0m')"
      ],
      "execution_count": null,
      "outputs": [
        {
          "output_type": "stream",
          "text": [
            "\rgenerate_transforme   0%[                    ]       0  --.-KB/s               \rgenerate_transforme 100%[===================>]  10.23K  --.-KB/s    in 0s      \n",
            "\n",
            "\u001b[1mКод запуска модели загружен\u001b[0m\n"
          ],
          "name": "stdout"
        }
      ]
    },
    {
      "cell_type": "markdown",
      "metadata": {
        "id": "h6tgF3M_WKgL"
      },
      "source": [
        "Запускаем код, необходимый для преобразования файлов и отображения выдачи:"
      ]
    },
    {
      "cell_type": "code",
      "metadata": {
        "colab": {
          "base_uri": "https://localhost:8080/"
        },
        "id": "OLQ0nauvOR6K",
        "outputId": "a3caefbc-bf16-49c5-93de-c0afa5c3c5ae"
      },
      "source": [
        "import re\r\n",
        "import os\r\n",
        "import sys\r\n",
        "import json\r\n",
        "import random\r\n",
        "from datetime import datetime\r\n",
        "\r\n",
        "from IPython.display import Markdown, display\r\n",
        "\r\n",
        "def printmd(string):\r\n",
        "    display(Markdown(string))\r\n",
        "\r\n",
        "with open(model+\"/meta.json\", \"r\") as injson:\r\n",
        "  model_meta = json.load(injson)\r\n",
        "\r\n",
        "# converting inputs\r\n",
        "\r\n",
        "s = \"\"\r\n",
        "\r\n",
        "if not is_empty(\"input_with_lines.txt\"):\r\n",
        "  with open(\"input_with_lines.txt\", \"r\", encoding=\"utf-8\") as intxt:\r\n",
        "    prompts = [get_lbc(model_meta).join([sp for sp in p.split(\"\\n\") if sp]) for p in intxt.read().split(\"\\n\\n\") if p]\r\n",
        "else:\r\n",
        "  with open(\"input.txt\", \"r\", encoding=\"utf-8\") as intxt:\r\n",
        "    prompts = [p for p in intxt.read().split(\"\\n\") if p]\r\n",
        "\r\n",
        "for prompt in prompts:\r\n",
        "  s += (model_meta['prompt'] % prompt + '\\n') * takes\r\n",
        "\r\n",
        "with open(\"rawi.txt\", \"w\", encoding=\"utf-8\") as rawo:\r\n",
        "  rawo.write(s)\r\n",
        "\r\n",
        "print('\\x1b[1m'+\"Среда подготовлена\"+'\\x1b[0m')"
      ],
      "execution_count": null,
      "outputs": [
        {
          "output_type": "stream",
          "text": [
            "\u001b[1mСреда подготовлена\u001b[0m\n"
          ],
          "name": "stdout"
        }
      ]
    },
    {
      "cell_type": "markdown",
      "metadata": {
        "id": "DP7YAlDPqknI"
      },
      "source": [
        "## Генерируем отупение\r\n",
        "\r\n",
        "Теперь всё, наконец, готово к тому, чтобы модель сгенерировала нам выдачу. То, насколько серьёзный и осмысленный текст будет пытаться выдавать модель, можно регулировать по шкале **`Бредовость`**: здесь есть 5 степеней – от самой нормальной до самой странной (я предупреждал). Кроме этого, флажок **`Повторяться`** определяет, как будет работать модель: если галочку оставить, то первый результат будет очень похож не те, что есть в канале, а последующие будут с ним совпадать. А если снять галочку, то выдача модели каждый раз будет новая. Удачи!"
      ]
    },
    {
      "cell_type": "code",
      "metadata": {
        "cellView": "form",
        "colab": {
          "base_uri": "https://localhost:8080/",
          "height": 1000
        },
        "id": "1Mx77HMhT85a",
        "outputId": "a1d7b1b4-1d21-425c-a972-52693b3a8318"
      },
      "source": [
        "#@markdown ### Начать генерацию!\r\n",
        "\r\n",
        "Бредовость = 75 #@param {type: \"slider\", min: 0, max: 100, step: 25}\r\n",
        "stlv = Бредовость\r\n",
        "\r\n",
        "stup_cases = {\r\n",
        "    0: {\"k\": 5, \"p\": 0.95, \"temp\": 1.0},\r\n",
        "    25: {\"k\": 5, \"p\": 0.93, \"temp\": 2.0},\r\n",
        "    50: {\"k\": 6, \"p\": 0.91, \"temp\": 3.0},\r\n",
        "    75: {\"k\": 6, \"p\": 0.9, \"temp\": 4.0},\r\n",
        "    100: {\"k\": 7, \"p\": 0.88, \"temp\": 5.0}\r\n",
        "}\r\n",
        "\r\n",
        "Повторяться = True   # @param {\"type\": \"boolean\"}\r\n",
        "add_randomness = not Повторяться\r\n",
        "\r\n",
        "rs = random.choice(list(range(0, 10000))) if add_randomness else 42\r\n",
        "printmd(\"Ключ случайного значения: **\"+str(rs)+\"**\")\r\n",
        "\r\n",
        "responses = !python generate_transformers.py \\\r\n",
        "    --model_type=gpt2 \\\r\n",
        "    --model_name_or_path={model} \\\r\n",
        "    --k={str(stup_cases[stlv][\"k\"])} \\\r\n",
        "    --p={str(stup_cases[stlv][\"p\"])} \\\r\n",
        "    --seed={str(rs)} \\\r\n",
        "    --temperature={str(stup_cases[stlv][\"temp\"])} \\\r\n",
        "    --repetition_penalty=1.0 \\\r\n",
        "    --stop_token=\"{model_meta['sequence_end_character']}\" \\\r\n",
        "    --length=500 < rawi.txt 2>/dev/null\r\n",
        "\r\n",
        "responses = \"\\n\".join(list(responses))\r\n",
        "\r\n",
        "lbc = model_meta[\"line_break_character\"]\r\n",
        "ssc = model_meta[\"sequence_start_character\"]\r\n",
        "sec = model_meta[\"sequence_end_character\"]\r\n",
        "prompt = re.sub(r\"%[a-z]+\", \"(.*?)\", model_meta[\"prompt\"])\r\n",
        "\r\n",
        "resps = [r for r in responses.split(\"Context >>> ruGPT:\\n\") if r]\r\n",
        "sps = [sp for sp in s.split(\"\\n\") if sp]\r\n",
        "for sp, resp in zip(sps, resps):\r\n",
        "  pt = re.search(re.sub(r\"%[a-z]+\", \"(.*)\", model_meta[\"prompt\"]), sp).group(1)\r\n",
        "  rs, _ = re.findall(re.compile(re.escape(sp) + r\"\\n?(.*?)(\" + ssc + \"|$)\", flags=re.DOTALL), resp)[0]\r\n",
        "  pt = \"<br>\".join(\"**\" + p + \"**\" for p in re.split(lbc, pt) if p)\r\n",
        "  printmd(pt)\r\n",
        "  rs = re.sub(lbc, \"<br>\", rs).strip()\r\n",
        "  rs = re.sub(r\"([^\\s])<br>([^\\s])\", r\"\\1 <br> \\2\", rs)\r\n",
        "  printmd(rs[:rs.find(\"Context >>\")] + \"<br>\")"
      ],
      "execution_count": null,
      "outputs": [
        {
          "output_type": "display_data",
          "data": {
            "text/markdown": "Ключ случайного значения: **42**",
            "text/plain": [
              "<IPython.core.display.Markdown object>"
            ]
          },
          "metadata": {
            "tags": []
          }
        },
        {
          "output_type": "display_data",
          "data": {
            "text/markdown": "**С наступающим новым годом!**",
            "text/plain": [
              "<IPython.core.display.Markdown object>"
            ]
          },
          "metadata": {
            "tags": []
          }
        },
        {
          "output_type": "display_data",
          "data": {
            "text/markdown": "Желаю счастья вам! Пусть все исполнятся мечтания <br> Счастьем, любовью, добром. <br> Пусть не будет забот <br> На сердце и во всём теле. С новым счастьем вас, родные! < <br> С новым годом вас, друзья! < <br> С новым счастьем, друзья, с Новым чудом <br> Пусть к тебе придет радость в ваш дом. < <br> В новый Новый Год пусть все желания сбываются, <br> А в сердце — только покой и тепло<br>",
            "text/plain": [
              "<IPython.core.display.Markdown object>"
            ]
          },
          "metadata": {
            "tags": []
          }
        },
        {
          "output_type": "display_data",
          "data": {
            "text/markdown": "**С наступающим новым годом!**",
            "text/plain": [
              "<IPython.core.display.Markdown object>"
            ]
          },
          "metadata": {
            "tags": []
          }
        },
        {
          "output_type": "display_data",
          "data": {
            "text/markdown": "С Новым годом! <br> Пусть счастье придет, <br> И удачу принесет,\n<br>Пусть будет много денег и добра<br>",
            "text/plain": [
              "<IPython.core.display.Markdown object>"
            ]
          },
          "metadata": {
            "tags": []
          }
        },
        {
          "output_type": "display_data",
          "data": {
            "text/markdown": "**С наступающим новым годом!**",
            "text/plain": [
              "<IPython.core.display.Markdown object>"
            ]
          },
          "metadata": {
            "tags": []
          }
        },
        {
          "output_type": "display_data",
          "data": {
            "text/markdown": "<br>Пускай исполнит мечты! — <br> И пусть будет жизнь полна веселья! — <br> Чтоб все планы, планы... <br> Чтоб все мечты сбылись — <br> Все, конечно же... в срок, с успехом... — <br> Чтоб в Новый год <br> Все желания осуществились<br>",
            "text/plain": [
              "<IPython.core.display.Markdown object>"
            ]
          },
          "metadata": {
            "tags": []
          }
        },
        {
          "output_type": "display_data",
          "data": {
            "text/markdown": "**С наступающим новым годом!**",
            "text/plain": [
              "<IPython.core.display.Markdown object>"
            ]
          },
          "metadata": {
            "tags": []
          }
        },
        {
          "output_type": "display_data",
          "data": {
            "text/markdown": "<br>",
            "text/plain": [
              "<IPython.core.display.Markdown object>"
            ]
          },
          "metadata": {
            "tags": []
          }
        },
        {
          "output_type": "display_data",
          "data": {
            "text/markdown": "**С наступающим новым годом!**",
            "text/plain": [
              "<IPython.core.display.Markdown object>"
            ]
          },
          "metadata": {
            "tags": []
          }
        },
        {
          "output_type": "display_data",
          "data": {
            "text/markdown": "<br>Пусть в Новый год <br> Удача вас не покинет <br> В этот праздник чудес, <br> Чтобы вы в жизни достигли, <br> Что не смогли бы ни вы сами. <br> И пусть этот год принесет вам счастье! <br> Пусть здоровье не покидает. <br> И чтоб в любви не было места грусти — <br> Все исполнит желанный каприз..<br>",
            "text/plain": [
              "<IPython.core.display.Markdown object>"
            ]
          },
          "metadata": {
            "tags": []
          }
        },
        {
          "output_type": "display_data",
          "data": {
            "text/markdown": "**С днём рождения!**",
            "text/plain": [
              "<IPython.core.display.Markdown object>"
            ]
          },
          "metadata": {
            "tags": []
          }
        },
        {
          "output_type": "display_data",
          "data": {
            "text/markdown": "Пусть в Новый Год тебе повезет<br>",
            "text/plain": [
              "<IPython.core.display.Markdown object>"
            ]
          },
          "metadata": {
            "tags": []
          }
        },
        {
          "output_type": "display_data",
          "data": {
            "text/markdown": "**С днём рождения!**",
            "text/plain": [
              "<IPython.core.display.Markdown object>"
            ]
          },
          "metadata": {
            "tags": []
          }
        },
        {
          "output_type": "display_data",
          "data": {
            "text/markdown": "<span> Поздравляю с новым годом <br> Пусть в нём радость, здоровье, счастье. <br> Пускай удача тебя сопровождает — <br> И не оставит ты в прошлом ошибок <br> И ошибок, которые мы совершаем. \n Пусть Новый Год несёт тебе <br> Много светлых идей, светлых дней; — <br> Пускай он подарит радость в этот день; <br> Пусть будет полон рот счастья <br> И здоровья целый таз; и пусть не случится с тобой <br> Ничего, что огорчит и огорчит<br>",
            "text/plain": [
              "<IPython.core.display.Markdown object>"
            ]
          },
          "metadata": {
            "tags": []
          }
        },
        {
          "output_type": "display_data",
          "data": {
            "text/markdown": "**С днём рождения!**",
            "text/plain": [
              "<IPython.core.display.Markdown object>"
            ]
          },
          "metadata": {
            "tags": []
          }
        },
        {
          "output_type": "display_data",
          "data": {
            "text/markdown": "Желаю много смеха,\n<br>Много радостных моментов<br>",
            "text/plain": [
              "<IPython.core.display.Markdown object>"
            ]
          },
          "metadata": {
            "tags": []
          }
        },
        {
          "output_type": "display_data",
          "data": {
            "text/markdown": "**С днём рождения!**",
            "text/plain": [
              "<IPython.core.display.Markdown object>"
            ]
          },
          "metadata": {
            "tags": []
          }
        },
        {
          "output_type": "display_data",
          "data": {
            "text/markdown": "<br>",
            "text/plain": [
              "<IPython.core.display.Markdown object>"
            ]
          },
          "metadata": {
            "tags": []
          }
        },
        {
          "output_type": "display_data",
          "data": {
            "text/markdown": "**С днём рождения!**",
            "text/plain": [
              "<IPython.core.display.Markdown object>"
            ]
          },
          "metadata": {
            "tags": []
          }
        },
        {
          "output_type": "display_data",
          "data": {
            "text/markdown": "<br>Пусть сбудется желанья. <br> Пусть сбывается, и всё: <br> Счастье и радость — вот. <br> Пусть здоровье, любовь, уют <br> Будут жить вечно, как прежде! <br> И будет пусть все отлично<br>",
            "text/plain": [
              "<IPython.core.display.Markdown object>"
            ]
          },
          "metadata": {
            "tags": []
          }
        },
        {
          "output_type": "display_data",
          "data": {
            "text/markdown": "**С Новым годом! Вы замечательные!**",
            "text/plain": [
              "<IPython.core.display.Markdown object>"
            ]
          },
          "metadata": {
            "tags": []
          }
        },
        {
          "output_type": "display_data",
          "data": {
            "text/markdown": "<br>Я хочу Вам пожелать: <br> Пусть в Новом, волшебственном году <br> Все исполняться желания<br>",
            "text/plain": [
              "<IPython.core.display.Markdown object>"
            ]
          },
          "metadata": {
            "tags": []
          }
        },
        {
          "output_type": "display_data",
          "data": {
            "text/markdown": "**С Новым годом! Вы замечательные!**",
            "text/plain": [
              "<IPython.core.display.Markdown object>"
            ]
          },
          "metadata": {
            "tags": []
          }
        },
        {
          "output_type": "display_data",
          "data": {
            "text/markdown": "<br>Я Вас поздравляю от души<br>",
            "text/plain": [
              "<IPython.core.display.Markdown object>"
            ]
          },
          "metadata": {
            "tags": []
          }
        },
        {
          "output_type": "display_data",
          "data": {
            "text/markdown": "**С Новым годом! Вы замечательные!**",
            "text/plain": [
              "<IPython.core.display.Markdown object>"
            ]
          },
          "metadata": {
            "tags": []
          }
        },
        {
          "output_type": "display_data",
          "data": {
            "text/markdown": "Счастья и добра Вам всем. Желаю в Новый год, <br> Пусть все желания исполнит, <br> И все сбудется<br>",
            "text/plain": [
              "<IPython.core.display.Markdown object>"
            ]
          },
          "metadata": {
            "tags": []
          }
        },
        {
          "output_type": "display_data",
          "data": {
            "text/markdown": "**С Новым годом! Вы замечательные!**",
            "text/plain": [
              "<IPython.core.display.Markdown object>"
            ]
          },
          "metadata": {
            "tags": []
          }
        },
        {
          "output_type": "display_data",
          "data": {
            "text/markdown": "<br>И мы, взрослые, желаем <br> Сияющих искр, <br> Счастья, здоровья, успехов в делах<br>",
            "text/plain": [
              "<IPython.core.display.Markdown object>"
            ]
          },
          "metadata": {
            "tags": []
          }
        },
        {
          "output_type": "display_data",
          "data": {
            "text/markdown": "**С Новым годом! Вы замечательные!**",
            "text/plain": [
              "<IPython.core.display.Markdown object>"
            ]
          },
          "metadata": {
            "tags": []
          }
        },
        {
          "output_type": "display_data",
          "data": {
            "text/markdown": "Я с большим счастьем в дом иду! <br> Пусть будет все хорошо и красиво <br> И в жизни будет все отлично. Желаю счастья много <br> Наполняясь любовью и добром, — <br/q> <br/Q> Новый год — это счастье и веселье. <br> Пусть же он подарит тебе много радостных минут. \n Желаю много радости и тепла. </span> С Новым годом поздравляю вас! С ним желаю вам много радостной и теплой ночи, а также много веселья. Пусть в этот светлый день вы улыбнитесь, и пусть вас не смутит уныние. <span class=snippet data-lang=jpeg data-hidden=http://devianwax.net /fb, vk.com/feed?w=social>\n<br>",
            "text/plain": [
              "<IPython.core.display.Markdown object>"
            ]
          },
          "metadata": {
            "tags": []
          }
        }
      ]
    },
    {
      "cell_type": "markdown",
      "metadata": {
        "id": "W6IBHcrCEyId"
      },
      "source": [
        "## Больше отупения!\r\n",
        "\r\n",
        "Хотите попробовать другие фразы? Тогда впишите их в клетку под этим текстом, как до этого, и запустите код ниже. Не забудьте поменять `%%writefile input.txt` на `%%writefile input_with_lines.txt`, если ваши запросы содержат переносы строк!"
      ]
    },
    {
      "cell_type": "code",
      "metadata": {
        "colab": {
          "base_uri": "https://localhost:8080/"
        },
        "id": "yd0o8O28E0IJ",
        "outputId": "a0c5cf44-409c-4d4b-f090-139d5f85ede7"
      },
      "source": [
        "%%writefile input.txt\r\n"
      ],
      "execution_count": null,
      "outputs": [
        {
          "output_type": "stream",
          "text": [
            "Overwriting input.txt\n"
          ],
          "name": "stdout"
        }
      ]
    },
    {
      "cell_type": "code",
      "metadata": {
        "cellView": "form",
        "colab": {
          "base_uri": "https://localhost:8080/",
          "height": 1000
        },
        "id": "YEGt_2-mRvN-",
        "outputId": "81815426-b3ac-46d2-eeef-629b877fbb2d"
      },
      "source": [
        "#@markdown ### Генерируем новую выдачу\r\n",
        "\r\n",
        "Повторов = 5  #@param {\"type\": \"integer\"}\r\n",
        "takes = Повторов\r\n",
        "\r\n",
        "if takes < 1:\r\n",
        "  takes = 1\r\n",
        "  print(\"Маловато повторов. Установлено значение \" + str(takes) + \".\")\r\n",
        "if takes > 30:\r\n",
        "  takes = 30\r\n",
        "  print(\"Маловато повторов. Установлено значение \" + str(takes) + \".\")\r\n",
        "if type(takes) != int:\r\n",
        "  takes = 4\r\n",
        "  print(\"Что-то пошло не так с количеством повторов. Установлено значение \" + str(takes) + \".\")\r\n",
        "\r\n",
        "s = \"\"\r\n",
        "\r\n",
        "if not is_empty(\"input_with_lines.txt\"):\r\n",
        "  with open(\"input_with_lines.txt\", \"r\", encoding=\"utf-8\") as intxt:\r\n",
        "    prompts = [get_lbc(model_meta).join([sp for sp in p.split(\"\\n\") if sp]) for p in intxt.read().split(\"\\n\\n\") if p]\r\n",
        "else:\r\n",
        "  with open(\"input.txt\", \"r\", encoding=\"utf-8\") as intxt:\r\n",
        "    prompts = [p for p in intxt.read().split(\"\\n\") if p]\r\n",
        "\r\n",
        "for prompt in prompts:\r\n",
        "  s += (model_meta['prompt'] % prompt + '\\n') * takes\r\n",
        "\r\n",
        "with open(\"rawi.txt\", \"w\", encoding=\"utf-8\") as rawo:\r\n",
        "  rawo.write(s)\r\n",
        "\r\n",
        "Бредовость = 50 #@param {type: \"slider\", min: 0, max: 100, step: 25}\r\n",
        "stlv = Бредовость\r\n",
        "\r\n",
        "Повторяться = False   # @param {\"type\": \"boolean\"}\r\n",
        "add_randomness = not Повторяться\r\n",
        "\r\n",
        "rs = random.choice(list(range(0, 10000))) if add_randomness else 42\r\n",
        "printmd(\"Ключ случайного значения: **\"+str(rs)+\"**\")\r\n",
        "\r\n",
        "responses = !python generate_transformers.py \\\r\n",
        "    --model_type=gpt2 \\\r\n",
        "    --model_name_or_path={model} \\\r\n",
        "    --k={str(stup_cases[stlv][\"k\"])} \\\r\n",
        "    --p={str(stup_cases[stlv][\"p\"])} \\\r\n",
        "    --seed={str(rs)} \\\r\n",
        "    --temperature={str(stup_cases[stlv][\"temp\"])} \\\r\n",
        "    --repetition_penalty=1.0 \\\r\n",
        "    --stop_token=\"{model_meta['sequence_end_character']}\" \\\r\n",
        "    --length=500 < rawi.txt 2>/dev/null\r\n",
        "\r\n",
        "responses = \"\\n\".join(list(responses))\r\n",
        "\r\n",
        "lbc = model_meta[\"line_break_character\"]\r\n",
        "ssc = model_meta[\"sequence_start_character\"]\r\n",
        "sec = model_meta[\"sequence_end_character\"]\r\n",
        "prompt = re.sub(r\"%[a-z]+\", \"(.*?)\", model_meta[\"prompt\"])\r\n",
        "\r\n",
        "resps = [r for r in responses.split(\"Context >>> ruGPT:\\n\") if r]\r\n",
        "sps = [sp for sp in s.split(\"\\n\") if sp]\r\n",
        "for sp, resp in zip(sps, resps):\r\n",
        "  pt = re.search(re.compile(repr(re.sub(r\"%[a-z]+\", \"(.*)\", model_meta[\"prompt\"]))[1:-1]), sp).group(1)\r\n",
        "  rs, _ = re.findall(re.compile(re.escape(sp) + r\"\\n?(.*?)(\" + ssc + \"|$)\", flags=re.DOTALL), resp)[0]\r\n",
        "  pt = \"<br>\".join(\"**\" + p + \"**\" for p in re.split(lbc, pt) if p)\r\n",
        "  printmd(pt)\r\n",
        "  rs = re.sub(lbc, \"<br>\", rs).strip()\r\n",
        "  rs = re.sub(r\"([^\\s])<br>([^\\s])\", r\"\\1 <br> \\2\", rs)\r\n",
        "  printmd(rs[:rs.find(\"Context >>\")] + \"<br>\")"
      ],
      "execution_count": 35,
      "outputs": [
        {
          "output_type": "display_data",
          "data": {
            "text/markdown": "Ключ случайного значения: **7946**",
            "text/plain": [
              "<IPython.core.display.Markdown object>"
            ]
          },
          "metadata": {
            "tags": []
          }
        },
        {
          "output_type": "display_data",
          "data": {
            "text/markdown": "**С наступающим новым годом!**",
            "text/plain": [
              "<IPython.core.display.Markdown object>"
            ]
          },
          "metadata": {
            "tags": []
          }
        },
        {
          "output_type": "display_data",
          "data": {
            "text/markdown": "Пусть все будет как в тумане! <br> Пусть в жизни все станет так: <br> Веселей, радостных событий — <br> Много радости и смеха, <br> И пусть все мечты твои — <br> Исполняются<br>",
            "text/plain": [
              "<IPython.core.display.Markdown object>"
            ]
          },
          "metadata": {
            "tags": []
          }
        },
        {
          "output_type": "display_data",
          "data": {
            "text/markdown": "**С наступающим новым годом!**",
            "text/plain": [
              "<IPython.core.display.Markdown object>"
            ]
          },
          "metadata": {
            "tags": []
          }
        },
        {
          "output_type": "display_data",
          "data": {
            "text/markdown": "<br>Счастья и мира Вам и всем, что в доме<br>",
            "text/plain": [
              "<IPython.core.display.Markdown object>"
            ]
          },
          "metadata": {
            "tags": []
          }
        },
        {
          "output_type": "display_data",
          "data": {
            "text/markdown": "**С наступающим новым годом!**",
            "text/plain": [
              "<IPython.core.display.Markdown object>"
            ]
          },
          "metadata": {
            "tags": []
          }
        },
        {
          "output_type": "display_data",
          "data": {
            "text/markdown": "Желаю, чтобы все мечты, которые были, исполнились. И пусть сбываются. Пусть не только желания. Желаю вам, друзья, <br> Жить полной жизнью и наслаждаться жизнью! Желаю, чтоб все в вашем новом году было: <br> В достатке и достатке, <br> Здоровье будет, любовь, смех <br> И, конечно же, везения<br>",
            "text/plain": [
              "<IPython.core.display.Markdown object>"
            ]
          },
          "metadata": {
            "tags": []
          }
        },
        {
          "output_type": "display_data",
          "data": {
            "text/markdown": "**С наступающим новым годом!**",
            "text/plain": [
              "<IPython.core.display.Markdown object>"
            ]
          },
          "metadata": {
            "tags": []
          }
        },
        {
          "output_type": "display_data",
          "data": {
            "text/markdown": "Пусть он принесет в ваш дом удачу, счастье, здоровье. Желаю много радостных моментов, ярких событий и приятных минут! С Новым Годом, моя радость и веселье<br>",
            "text/plain": [
              "<IPython.core.display.Markdown object>"
            ]
          },
          "metadata": {
            "tags": []
          }
        },
        {
          "output_type": "display_data",
          "data": {
            "text/markdown": "**С наступающим новым годом!**",
            "text/plain": [
              "<IPython.core.display.Markdown object>"
            ]
          },
          "metadata": {
            "tags": []
          }
        },
        {
          "output_type": "display_data",
          "data": {
            "text/markdown": "Пусть все сбываются мечты <br> О будущем, что ты загада́ешь <br> В эту самую самую чудесную и прекрасную ночь! Пусть исполняются мечты и в эту ночь, пусть сбывается то, о чём мечтало и в эти минуты: <br> Вдохновение, вдохновенье придёт к каждому! <br> Пусть сбываться будет всё то о чём мечталось. <br> Пускай сбудутся мечты о том что я желаю, <br> В этот светлый праздник пусть придёт счастье в мой дом, и будет он самым лучшим и лучшим, <br> Что б я мог в него войти и войти. <br> Пусть мечты твои исполнятся быстро, <br> А в жизни будет лишь только счастье<br>",
            "text/plain": [
              "<IPython.core.display.Markdown object>"
            ]
          },
          "metadata": {
            "tags": []
          }
        },
        {
          "output_type": "display_data",
          "data": {
            "text/markdown": "**С днём рождения!**",
            "text/plain": [
              "<IPython.core.display.Markdown object>"
            ]
          },
          "metadata": {
            "tags": []
          }
        },
        {
          "output_type": "display_data",
          "data": {
            "text/markdown": "<br>",
            "text/plain": [
              "<IPython.core.display.Markdown object>"
            ]
          },
          "metadata": {
            "tags": []
          }
        },
        {
          "output_type": "display_data",
          "data": {
            "text/markdown": "**С днём рождения!**",
            "text/plain": [
              "<IPython.core.display.Markdown object>"
            ]
          },
          "metadata": {
            "tags": []
          }
        },
        {
          "output_type": "display_data",
          "data": {
            "text/markdown": "Счастья, удачи <br> И любви<br>",
            "text/plain": [
              "<IPython.core.display.Markdown object>"
            ]
          },
          "metadata": {
            "tags": []
          }
        },
        {
          "output_type": "display_data",
          "data": {
            "text/markdown": "**С днём рождения!**",
            "text/plain": [
              "<IPython.core.display.Markdown object>"
            ]
          },
          "metadata": {
            "tags": []
          }
        },
        {
          "output_type": "display_data",
          "data": {
            "text/markdown": "Пусть исполнит мечты! И удачу принесет. Желаю много смеха! И здоровья, счастья и везения! Пускай мечты сбываются, а удача к тебе придет, ведь она у каждого в доме есть! Желаю счастья в жизни побольше, чтоб хватило до зарплаты! Пусть мечты сбудутся, а удача придет! Пусть будет все ОК и только к тебе!<br>",
            "text/plain": [
              "<IPython.core.display.Markdown object>"
            ]
          },
          "metadata": {
            "tags": []
          }
        },
        {
          "output_type": "display_data",
          "data": {
            "text/markdown": "**С днём рождения!**",
            "text/plain": [
              "<IPython.core.display.Markdown object>"
            ]
          },
          "metadata": {
            "tags": []
          }
        },
        {
          "output_type": "display_data",
          "data": {
            "text/markdown": "<br>Счастья вам на год<br>",
            "text/plain": [
              "<IPython.core.display.Markdown object>"
            ]
          },
          "metadata": {
            "tags": []
          }
        },
        {
          "output_type": "display_data",
          "data": {
            "text/markdown": "**С днём рождения!**",
            "text/plain": [
              "<IPython.core.display.Markdown object>"
            ]
          },
          "metadata": {
            "tags": []
          }
        },
        {
          "output_type": "display_data",
          "data": {
            "text/markdown": "Поздравляю, <br> Пусть в жизни тебе повезёт: <br> Здоровье и любовь <br> Тебе подарят друзья, <br> А удача <br> Будет к ногам падать<br>",
            "text/plain": [
              "<IPython.core.display.Markdown object>"
            ]
          },
          "metadata": {
            "tags": []
          }
        },
        {
          "output_type": "display_data",
          "data": {
            "text/markdown": "**С Новым годом! Вы замечательные!**",
            "text/plain": [
              "<IPython.core.display.Markdown object>"
            ]
          },
          "metadata": {
            "tags": []
          }
        },
        {
          "output_type": "display_data",
          "data": {
            "text/markdown": "<br>И пусть в новом году <br> Вас ждут приятные новости. <br> Пускай все сбудется, и <br> Уют в доме, радость. <br> И удача с Вами будет<br>",
            "text/plain": [
              "<IPython.core.display.Markdown object>"
            ]
          },
          "metadata": {
            "tags": []
          }
        },
        {
          "output_type": "display_data",
          "data": {
            "text/markdown": "**С Новым годом! Вы замечательные!**",
            "text/plain": [
              "<IPython.core.display.Markdown object>"
            ]
          },
          "metadata": {
            "tags": []
          }
        },
        {
          "output_type": "display_data",
          "data": {
            "text/markdown": "Пусть будет этот год, пусть счастливым будет каждый миг! <br> Пускай удача в руки вам удачу возьмет и подарит здоровье, <br> А счастье — с лихвою, чтоб оно процветало и креплось! <br> И не будет вам грустно и плохо: все будет пусть у вас отлично<br>",
            "text/plain": [
              "<IPython.core.display.Markdown object>"
            ]
          },
          "metadata": {
            "tags": []
          }
        },
        {
          "output_type": "display_data",
          "data": {
            "text/markdown": "**С Новым годом! Вы замечательные!**",
            "text/plain": [
              "<IPython.core.display.Markdown object>"
            ]
          },
          "metadata": {
            "tags": []
          }
        },
        {
          "output_type": "display_data",
          "data": {
            "text/markdown": "<br>С Новым годом вас всех! Пусть все желания <br> В Новом году сбудутся, <br> Все сбываются, как хочется<br>",
            "text/plain": [
              "<IPython.core.display.Markdown object>"
            ]
          },
          "metadata": {
            "tags": []
          }
        },
        {
          "output_type": "display_data",
          "data": {
            "text/markdown": "**С Новым годом! Вы замечательные!**",
            "text/plain": [
              "<IPython.core.display.Markdown object>"
            ]
          },
          "metadata": {
            "tags": []
          }
        },
        {
          "output_type": "display_data",
          "data": {
            "text/markdown": "<br>С новым счастьем, друзья; <br> Пусть в ночное веселье <br> Вас не покинет счастье<br>",
            "text/plain": [
              "<IPython.core.display.Markdown object>"
            ]
          },
          "metadata": {
            "tags": []
          }
        },
        {
          "output_type": "display_data",
          "data": {
            "text/markdown": "**С Новым годом! Вы замечательные!**",
            "text/plain": [
              "<IPython.core.display.Markdown object>"
            ]
          },
          "metadata": {
            "tags": []
          }
        },
        {
          "output_type": "display_data",
          "data": {
            "text/markdown": "С новым настроением, Пусть будет все хорошо. И пусть все исполнятся, И пусть в жизни будет только радость: <br> Счастье пусть будет всегда! <br> Пусть будет любовь, тепло, <br> И только приятные сюрпризы. С наступающим Новым годом, С новым чудом, <br> С Новым счастьем, счастьем всех, кто вас окружает, <br> Отмечайте в нем, друзья. Пусть в жизни все идет гладко, И пусть все в жизни будет хорошо. <br> С Новым счастьем всех, всех благ, Мира Вам в этот праздник! Пусть все исполняться мечты! Пусть все исполняются надежды, <br> Пусть сбываются все Ваши планы! <br> В новом год пусть сбывается все, <br> А в душе пускай будет тепло<br>",
            "text/plain": [
              "<IPython.core.display.Markdown object>"
            ]
          },
          "metadata": {
            "tags": []
          }
        }
      ]
    },
    {
      "cell_type": "markdown",
      "metadata": {
        "id": "3nfmtAaqcFrQ"
      },
      "source": [
        "На этом всё. Получайте удовольствие (надеюсь)!"
      ]
    }
  ]
}