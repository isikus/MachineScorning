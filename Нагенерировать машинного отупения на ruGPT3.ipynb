{
  "nbformat": 4,
  "nbformat_minor": 0,
  "metadata": {
    "colab": {
      "name": "Нагенерировать машинного отупения на ruGPT3.ipynb",
      "provenance": [],
      "collapsed_sections": [
        "9IH1cb0oGkXP"
      ]
    },
    "kernelspec": {
      "name": "python3",
      "display_name": "Python 3"
    },
    "accelerator": "GPU"
  },
  "cells": [
    {
      "cell_type": "markdown",
      "metadata": {
        "id": "YONnGjpAYUdU"
      },
      "source": [
        "\n",
        "<a href=\"https://colab.research.google.com/github/isikus/MachineScorning/blob/main/Нагенерировать%20машинного%20отупения%20на%20ruGPT3.ipynb\" target=\"_parent\"><img src=\"https://colab.research.google.com/assets/colab-badge.svg\" alt=\"Open In Colab\"/></a>"
      ]
    },
    {
      "cell_type": "markdown",
      "metadata": {
        "id": "3RHDK81QqrET"
      },
      "source": [
        "# Нагенерировать машинного отупения на ruGPT3"
      ]
    },
    {
      "cell_type": "code",
      "metadata": {
        "colab": {
          "base_uri": "https://localhost:8080/"
        },
        "id": "on7W1zhwAaKS",
        "cellView": "form",
        "outputId": "7af54bb3-1ed3-42d1-db84-0a513fe32a6d"
      },
      "source": [
        "import os\r\n",
        "import json\r\n",
        "\r\n",
        "def is_empty(fpath, default_lines=[[\"Дополни эту фразу\", \"И эту фразу тоже дополни\"], [\"Первый пример запроса\", \"Из нескольких строк\", \"\", \"И второй пример\", \"Я тоже придумать смог\"]]):\r\n",
        "  if not os.path.isfile(fpath):\r\n",
        "    return True\r\n",
        "  if not (os.path.getsize(fpath) > 0):\r\n",
        "    return True\r\n",
        "  if default_lines:\r\n",
        "    with open(fpath, \"r\") as infile:\r\n",
        "      lines = infile.read().split(\"\\n\")\r\n",
        "    for deflines in default_lines:\r\n",
        "      if lines == deflines:\r\n",
        "        return True\r\n",
        "  return False\r\n",
        "  \r\n",
        "\r\n",
        "def get_lbc(model_meta):\r\n",
        "  lbc = model_meta[\"line_break_character\"]\r\n",
        "  lbc = lbc.replace(\"\\s\", \" \")\r\n",
        "  return lbc\r\n",
        "\r\n",
        "#@markdown Для начала выберите модель:\r\n",
        "\r\n",
        "Модель = \"Нейроописания товаров\"  #@param [\"Нейроописания товаров\", \"Нейроинструкции на все случаи жизни\", \"Нейротексты «Короля и Шута»\", \"Нейроновости Северной Кореи\", \"Нейропоздравления с новым годом\"]\r\n",
        "\r\n",
        "desc_dict = {\r\n",
        "    \"Нейроописания товаров\": \"products_desc\",\r\n",
        "    \"Нейроинструкции на все случаи жизни\": \"wikihowto\",\r\n",
        "    \"Нейротексты «Короля и Шута»\": \"kishverses\",\r\n",
        "    \"Нейроновости Северной Кореи\": \"rukcna\",\r\n",
        "    \"Нейропоздравления с новым годом\": \"greetings\"\r\n",
        "}\r\n",
        "\r\n",
        "model = desc_dict[Модель]\r\n",
        "\r\n",
        "!wget -q --show-progress https://storage.googleapis.com/ml-bucket-isikus/machine-scorning/{model}.tar.gz\r\n",
        "!mkdir {model}\r\n",
        "!tar -xzf {model}.tar.gz -C {model}\r\n",
        "\r\n",
        "try:\r\n",
        "  with open(model+\"/meta.json\", \"r\") as injson:\r\n",
        "    model_meta = json.load(injson)\r\n",
        "  print('\\x1b[1m'+Модель + \": модель подготовлена\"+'\\x1b[0m')\r\n",
        "except Exception as e:\r\n",
        "  print('\\x1b[1;31m'+\"Что-то сломалось – модель не готова :(\"+'\\x1b[0m')"
      ],
      "execution_count": 1,
      "outputs": [
        {
          "output_type": "stream",
          "text": [
            "products_desc.tar.g 100%[===================>] 443.71M   279MB/s    in 1.6s    \n",
            "\u001b[1mНейроописания товаров: модель подготовлена\u001b[0m\n"
          ],
          "name": "stdout"
        }
      ]
    },
    {
      "cell_type": "markdown",
      "metadata": {
        "id": "fk5AMR1q5ifP"
      },
      "source": [
        "Теперь запишите варианты начала сообщений, которые должна дополнить модель, сразу под текстом `%%writefile input.txt`, по 1 разному началу на строку:"
      ]
    },
    {
      "cell_type": "code",
      "metadata": {
        "colab": {
          "base_uri": "https://localhost:8080/"
        },
        "id": "WOisDCMa5QZR",
        "outputId": "b6a8e043-6d96-48a1-b8c2-6a0a6e15a925"
      },
      "source": [
        "%%writefile input.txt\r\n",
        "Дополни эту фразу\r\n",
        "И эту фразу тоже дополни"
      ],
      "execution_count": 2,
      "outputs": [
        {
          "output_type": "stream",
          "text": [
            "Writing input.txt\n"
          ],
          "name": "stdout"
        }
      ]
    },
    {
      "cell_type": "markdown",
      "metadata": {
        "id": "8Y1U_F98ROVS"
      },
      "source": [
        "**Важно:** если ваши запросы содержат переносы строк (например, это начало стихотворения), вместо предыдущей клетки, заполните клетку ниже, разбивая ваш ввод двумя переносами строк. Код ниже заменит переносы строк на специальный символ – это необходимо для корректной работы модели."
      ]
    },
    {
      "cell_type": "code",
      "metadata": {
        "id": "yK0q8R0uR3gs",
        "colab": {
          "base_uri": "https://localhost:8080/"
        },
        "outputId": "f0e6f691-7fd9-40c5-f89f-49add8b76b5b"
      },
      "source": [
        "%%writefile input_with_lines.txt\r\n",
        "Первый пример запроса\r\n",
        "Из нескольких строк\r\n",
        "\r\n",
        "И второй пример\r\n",
        "Я тоже придумать смог"
      ],
      "execution_count": 3,
      "outputs": [
        {
          "output_type": "stream",
          "text": [
            "Writing input_with_lines.txt\n"
          ],
          "name": "stdout"
        }
      ]
    },
    {
      "cell_type": "markdown",
      "metadata": {
        "id": "BBU-YKC4ZL_d"
      },
      "source": [
        "Если у вас совсем нет идей, запустите код ниже – он скачает примеры запросов по умолчанию для вашей модели:"
      ]
    },
    {
      "cell_type": "code",
      "metadata": {
        "id": "_Ks9smG9YJUk"
      },
      "source": [
        "if is_empty(\"input.txt\") and is_empty(\"input_with_lines.txt\"):\r\n",
        "  !cp {model}/example_input.txt input.txt\r\n",
        "  print('\\x1b[1;31m'+\"Загружены примеры по умолчанию\"+'\\x1b[0m')"
      ],
      "execution_count": null,
      "outputs": []
    },
    {
      "cell_type": "code",
      "metadata": {
        "id": "NVDPUK2wGvpl",
        "cellView": "form"
      },
      "source": [
        "#@markdown Наконец, укажите, сколько вариантов выдачи нужно сгенерировать модели на каждый из запросов (от 1 до 30):\r\n",
        "\r\n",
        "Повторов = 4  #@param {\"type\": \"integer\"}\r\n",
        "takes = Повторов\r\n",
        "\r\n",
        "if takes < 1:\r\n",
        "  takes = 1\r\n",
        "  print(\"Это маловато. Установили значение \" + str(takes) + \".\")\r\n",
        "if takes > 30:\r\n",
        "  takes = 30\r\n",
        "  print(\"Это многовато. Установили значение \" + str(takes) + \".\")\r\n",
        "if type(takes) != int:\r\n",
        "  takes = 4\r\n",
        "  print(\"Что-то пошло не так. Установили значение \" + str(takes) + \".\")"
      ],
      "execution_count": 5,
      "outputs": []
    },
    {
      "cell_type": "markdown",
      "metadata": {
        "id": "9IH1cb0oGkXP"
      },
      "source": [
        "## Подготавливаем среду для модели\r\n",
        "Сами файлы скачаны, но нужно ещё выполнить код, чтобы подготовить модель к работе."
      ]
    },
    {
      "cell_type": "markdown",
      "metadata": {
        "id": "Y4l_N3Rw_7AJ"
      },
      "source": [
        "Проверяем, что мы подключены к видеокарте: команда в клетке ниже должна работать и показывать показывать примерно 12000-15000 Мб свободной памяти:"
      ]
    },
    {
      "cell_type": "code",
      "metadata": {
        "colab": {
          "base_uri": "https://localhost:8080/"
        },
        "id": "Kd1B5BJB_thJ",
        "outputId": "b094ad16-dd4c-494a-d64b-0c11294cc5ff"
      },
      "source": [
        "!nvidia-smi"
      ],
      "execution_count": 6,
      "outputs": [
        {
          "output_type": "stream",
          "text": [
            "Sun Feb 14 12:59:43 2021       \n",
            "+-----------------------------------------------------------------------------+\n",
            "| NVIDIA-SMI 460.39       Driver Version: 460.32.03    CUDA Version: 11.2     |\n",
            "|-------------------------------+----------------------+----------------------+\n",
            "| GPU  Name        Persistence-M| Bus-Id        Disp.A | Volatile Uncorr. ECC |\n",
            "| Fan  Temp  Perf  Pwr:Usage/Cap|         Memory-Usage | GPU-Util  Compute M. |\n",
            "|                               |                      |               MIG M. |\n",
            "|===============================+======================+======================|\n",
            "|   0  Tesla T4            Off  | 00000000:00:04.0 Off |                    0 |\n",
            "| N/A   46C    P8    10W /  70W |      0MiB / 15109MiB |      0%      Default |\n",
            "|                               |                      |                  N/A |\n",
            "+-------------------------------+----------------------+----------------------+\n",
            "                                                                               \n",
            "+-----------------------------------------------------------------------------+\n",
            "| Processes:                                                                  |\n",
            "|  GPU   GI   CI        PID   Type   Process name                  GPU Memory |\n",
            "|        ID   ID                                                   Usage      |\n",
            "|=============================================================================|\n",
            "|  No running processes found                                                 |\n",
            "+-----------------------------------------------------------------------------+\n"
          ],
          "name": "stdout"
        }
      ]
    },
    {
      "cell_type": "markdown",
      "metadata": {
        "id": "Xa62C9TeU_U5"
      },
      "source": [
        "Устанавливаем нужные версии библиотек:"
      ]
    },
    {
      "cell_type": "code",
      "metadata": {
        "id": "asqMueYPeIgK",
        "colab": {
          "base_uri": "https://localhost:8080/"
        },
        "outputId": "6e8d0171-14fb-49bd-a539-b0df2cac8e86"
      },
      "source": [
        "!pip3 install -q urllib3==1.25.4 transformers==2.8.0\r\n",
        "\r\n",
        "print('\\n'+'\\x1b[1m'+\"Требуемые версии пакетов установлены\"+'\\x1b[0m')"
      ],
      "execution_count": 7,
      "outputs": [
        {
          "output_type": "stream",
          "text": [
            "\u001b[K     |████████████████████████████████| 133kB 15.7MB/s \n",
            "\u001b[K     |████████████████████████████████| 573kB 31.9MB/s \n",
            "\u001b[K     |████████████████████████████████| 133kB 60.0MB/s \n",
            "\u001b[K     |████████████████████████████████| 3.7MB 59.6MB/s \n",
            "\u001b[K     |████████████████████████████████| 1.2MB 55.5MB/s \n",
            "\u001b[K     |████████████████████████████████| 890kB 58.2MB/s \n",
            "\u001b[K     |████████████████████████████████| 7.2MB 53.5MB/s \n",
            "\u001b[K     |████████████████████████████████| 71kB 11.7MB/s \n",
            "\u001b[?25h  Building wheel for sacremoses (setup.py) ... \u001b[?25l\u001b[?25hdone\n",
            "\u001b[31mERROR: datascience 0.10.6 has requirement folium==0.2.1, but you'll have folium 0.8.3 which is incompatible.\u001b[0m\n",
            "\n",
            "\u001b[1mТребуемые версии пакетов установлены\u001b[0m\n"
          ],
          "name": "stdout"
        }
      ]
    },
    {
      "cell_type": "markdown",
      "metadata": {
        "id": "iT0Njx_J8gsw"
      },
      "source": [
        "Скачиваем файл с исходным кодом для работы модели:"
      ]
    },
    {
      "cell_type": "code",
      "metadata": {
        "id": "mpkjTWefecLc",
        "colab": {
          "base_uri": "https://localhost:8080/"
        },
        "outputId": "ea43a26b-698d-449c-e5ef-4d948503404f"
      },
      "source": [
        "!wget -q --show-progress https://raw.githubusercontent.com/sberbank-ai/ru-gpts/master/generate_transformers.py\r\n",
        "\r\n",
        "print('\\n'+'\\x1b[1m'+\"Код запуска модели загружен\"+'\\x1b[0m')"
      ],
      "execution_count": 8,
      "outputs": [
        {
          "output_type": "stream",
          "text": [
            "\rgenerate_transforme   0%[                    ]       0  --.-KB/s               \rgenerate_transforme 100%[===================>]  10.23K  --.-KB/s    in 0s      \n",
            "\n",
            "\u001b[1mКод запуска модели загружен\u001b[0m\n"
          ],
          "name": "stdout"
        }
      ]
    },
    {
      "cell_type": "markdown",
      "metadata": {
        "id": "h6tgF3M_WKgL"
      },
      "source": [
        "Запускаем код, необходимый для преобразования файлов и отображения выдачи:"
      ]
    },
    {
      "cell_type": "code",
      "metadata": {
        "colab": {
          "base_uri": "https://localhost:8080/"
        },
        "id": "OLQ0nauvOR6K",
        "outputId": "2008a400-5fa2-4d90-aacb-04a879e2fbdb"
      },
      "source": [
        "import re\r\n",
        "import os\r\n",
        "import sys\r\n",
        "import json\r\n",
        "import random\r\n",
        "from datetime import datetime\r\n",
        "\r\n",
        "from IPython.display import Markdown, display\r\n",
        "\r\n",
        "def printmd(string):\r\n",
        "    display(Markdown(string))\r\n",
        "\r\n",
        "with open(model+\"/meta.json\", \"r\") as injson:\r\n",
        "  model_meta = json.load(injson)\r\n",
        "\r\n",
        "# converting inputs\r\n",
        "\r\n",
        "s = \"\"\r\n",
        "\r\n",
        "if not is_empty(\"input_with_lines.txt\"):\r\n",
        "  with open(\"input_with_lines.txt\", \"r\", encoding=\"utf-8\") as intxt:\r\n",
        "    prompts = [get_lbc(model_meta).join([sp for sp in p.split(\"\\n\") if sp]) for p in intxt.read().split(\"\\n\\n\") if p]\r\n",
        "else:\r\n",
        "  with open(\"input.txt\", \"r\", encoding=\"utf-8\") as intxt:\r\n",
        "    prompts = [p for p in intxt.read().split(\"\\n\") if p]\r\n",
        "\r\n",
        "for prompt in prompts:\r\n",
        "  s += (model_meta['prompt'] % prompt + '\\n') * takes\r\n",
        "\r\n",
        "with open(\"rawi.txt\", \"w\", encoding=\"utf-8\") as rawo:\r\n",
        "  rawo.write(s)\r\n",
        "\r\n",
        "print('\\x1b[1m'+\"Среда подготовлена\"+'\\x1b[0m')"
      ],
      "execution_count": 9,
      "outputs": [
        {
          "output_type": "stream",
          "text": [
            "\u001b[1mСреда подготовлена\u001b[0m\n"
          ],
          "name": "stdout"
        }
      ]
    },
    {
      "cell_type": "markdown",
      "metadata": {
        "id": "DP7YAlDPqknI"
      },
      "source": [
        "## Генерируем отупение\r\n",
        "\r\n",
        "Теперь всё, наконец, готово к тому, чтобы модель сгенерировала нам выдачу. То, насколько серьёзный и осмысленный текст будет пытаться выдавать модель, можно регулировать по шкале **`Бредовость`**: здесь есть 5 степеней – от самой нормальной до самой странной (я предупреждал). Кроме этого, флажок **`Повторяться`** определяет, как будет работать модель: если галочку оставить, то первый результат будет очень похож не те, что есть в канале, а последующие будут с ним совпадать. А если снять галочку, то выдача модели каждый раз будет новая. Удачи!"
      ]
    },
    {
      "cell_type": "code",
      "metadata": {
        "colab": {
          "base_uri": "https://localhost:8080/",
          "height": 1000
        },
        "id": "cs9C3c3uPc9H",
        "cellView": "form",
        "outputId": "3c23f115-3f59-46ea-d073-6aecf8aa96da"
      },
      "source": [
        "#@markdown ### Начать генерацию!\r\n",
        "\r\n",
        "Бредовость = 75 #@param {type: \"slider\", min: 0, max: 100, step: 25}\r\n",
        "stlv = Бредовость\r\n",
        "\r\n",
        "stup_cases = {\r\n",
        "    0: {\"k\": 5, \"p\": 0.95, \"temp\": 1.0},\r\n",
        "    25: {\"k\": 5, \"p\": 0.93, \"temp\": 2.0},\r\n",
        "    50: {\"k\": 6, \"p\": 0.91, \"temp\": 3.0},\r\n",
        "    75: {\"k\": 6, \"p\": 0.9, \"temp\": 4.0},\r\n",
        "    100: {\"k\": 7, \"p\": 0.88, \"temp\": 5.0}\r\n",
        "}\r\n",
        "\r\n",
        "Повторяться = True   # @param {\"type\": \"boolean\"}\r\n",
        "add_randomness = not Повторяться\r\n",
        "\r\n",
        "rs = random.choice(list(range(0, 10000))) if add_randomness else 42\r\n",
        "printmd(\"Ключ случайного значения: **\"+str(rs)+\"**\")\r\n",
        "\r\n",
        "responses = !python generate_transformers.py \\\r\n",
        "    --model_type=gpt2 \\\r\n",
        "    --model_name_or_path={model} \\\r\n",
        "    --k={str(stup_cases[stlv][\"k\"])} \\\r\n",
        "    --p={str(stup_cases[stlv][\"p\"])} \\\r\n",
        "    --seed={str(rs)} \\\r\n",
        "    --temperature={str(stup_cases[stlv][\"temp\"])} \\\r\n",
        "    --repetition_penalty=1.0 \\\r\n",
        "    --stop_token=\"{model_meta['sequence_end_character']}\" \\\r\n",
        "    --length=500 < rawi.txt 2>/dev/null\r\n",
        "\r\n",
        "responses = \"\\n\".join(list(responses))\r\n",
        "\r\n",
        "lbc = model_meta[\"line_break_character\"]\r\n",
        "ssc = model_meta[\"sequence_start_character\"]\r\n",
        "sec = model_meta[\"sequence_end_character\"]\r\n",
        "prompt = re.sub(r\"%[a-z]+\", \"(.*?)\", model_meta[\"prompt\"])\r\n",
        "\r\n",
        "resps = [r for r in responses.split(\"Context >>> ruGPT:\\n\") if r]\r\n",
        "sps = [sp for sp in s.split(\"\\n\") if sp]\r\n",
        "for sp, resp in zip(sps, resps):\r\n",
        "  pt = re.search(re.compile(repr(re.sub(r\"%[a-z]+\", \"(.*)\", model_meta[\"prompt\"]))[1:-1]), sp).group(1)\r\n",
        "  rs, _ = re.findall(re.compile(re.escape(sp) + r\"\\n?(.*?)(\" + ssc + \"|$)\", flags=re.DOTALL), resp)[0]\r\n",
        "  pt = \"<br>\".join(\"**\" + p + \"**\" for p in re.split(lbc, pt) if p)\r\n",
        "  printmd(pt)\r\n",
        "  rs = re.sub(lbc, \"<br>\", rs).strip()\r\n",
        "  rs = re.sub(r\"([^\\s])<br>([^\\s])\", r\"\\1 <br> \\2\", rs)\r\n",
        "  printmd(rs[:rs.find(\"Context >>\")] + \"<br>\")"
      ],
      "execution_count": 10,
      "outputs": [
        {
          "output_type": "display_data",
          "data": {
            "text/markdown": "Ключ случайного значения: **42**",
            "text/plain": [
              "<IPython.core.display.Markdown object>"
            ]
          },
          "metadata": {
            "tags": []
          }
        },
        {
          "output_type": "display_data",
          "data": {
            "text/markdown": "**Тупая дичь**",
            "text/plain": [
              "<IPython.core.display.Markdown object>"
            ]
          },
          "metadata": {
            "tags": []
          }
        },
        {
          "output_type": "display_data",
          "data": {
            "text/markdown": "2.7-2.8гб <br> Тумба, тумба под ТВ\\3D <br> <br>Станки <br> МРЗ\\МТЗ\\ЛБП\\ <br> МРЭИ(полировка) <br> <br>Педал\\Педал <br> Микрон\\Материнские <br> Порты\\USB 2.1 и 2.3 <br> <br>DVD <br> CD-плееры <br> Win 7 64-бит\\ <br> WiFi\\HdD 802.11a <br> g<br> <br> Сетевые сети <br> Подписка на смс и Viber\\Доступ в интернет <br> <br> <br> Потребительских привычек\\Унитаз, Стиральные и посудомойка\\Электроприборы\\Электронный блок <br> Установки и системы видеонаблюдения\\ <br> Удаленный доступ в интернет <br> <br> <br> Габаритов\\ДxВxТ 58x35x8 <br> 10 мм <br> Вес <br> <br>2.8 Цена 2000<br>",
            "text/plain": [
              "<IPython.core.display.Markdown object>"
            ]
          },
          "metadata": {
            "tags": []
          }
        },
        {
          "output_type": "display_data",
          "data": {
            "text/markdown": "**Тупая дичь**",
            "text/plain": [
              "<IPython.core.display.Markdown object>"
            ]
          },
          "metadata": {
            "tags": []
          }
        },
        {
          "output_type": "display_data",
          "data": {
            "text/markdown": "Описание: Продам котиков-мальков с большими глазными впадинами и очень пушистошерстрым костяком (на фото видно), очень ласкова и активны, очень ждут своих заботливых хозяев, не кусаются (к еде неприхотливы). <br> <br>Приучен к лоток и корм для него. Приучена к когтеточкару и когтяточному когтеточкому.  Отдам бесплатно в хорошие заботные и заботливые ручки.<br> Цена 1000<br>",
            "text/plain": [
              "<IPython.core.display.Markdown object>"
            ]
          },
          "metadata": {
            "tags": []
          }
        },
        {
          "output_type": "display_data",
          "data": {
            "text/markdown": "**Тупая дичь**",
            "text/plain": [
              "<IPython.core.display.Markdown object>"
            ]
          },
          "metadata": {
            "tags": []
          }
        },
        {
          "output_type": "display_data",
          "data": {
            "text/markdown": "+ <br> Описание: Продам двух детку - девочку и молодого кабана (декоративные лапы и хвостик) <br> <br>В подарок 2 игрушки (кеды и шлемик для охоты), 2 больших пакета сена. <br> <br>Приезжаем в любое время. Возможна встреча на нейтральной территории, но в пределах города и района города! Цена 200<br>",
            "text/plain": [
              "<IPython.core.display.Markdown object>"
            ]
          },
          "metadata": {
            "tags": []
          }
        },
        {
          "output_type": "display_data",
          "data": {
            "text/markdown": "**Тупая дичь**",
            "text/plain": [
              "<IPython.core.display.Markdown object>"
            ]
          },
          "metadata": {
            "tags": []
          }
        },
        {
          "output_type": "display_data",
          "data": {
            "text/markdown": "3-3.5 года <br> 4<br>Описание: В хорошем, сочным, насыщенным окрасе. Цена 10000 р. <br> документ. Возможны варианты по тел, смс, WhatsApp. Торг уместен!. Цена 10000<br>",
            "text/plain": [
              "<IPython.core.display.Markdown object>"
            ]
          },
          "metadata": {
            "tags": []
          }
        },
        {
          "output_type": "display_data",
          "data": {
            "text/markdown": "**Место под солнцем**",
            "text/plain": [
              "<IPython.core.display.Markdown object>"
            ]
          },
          "metadata": {
            "tags": []
          }
        },
        {
          "output_type": "display_data",
          "data": {
            "text/markdown": "avinyi <br> <br>Описание: Место под Солнце(небольшой) на берегу Черного моря, в экологически чистых и безопасных местах. На улице не жарко. Есть возможность подключить стиральную машинку. <br> <br>Стиральная машина на 5кг. В отличном рабочем состояний (без запаха, пятен и тд). <br> <br>На все условия и условия отвечу. <br> <br>Заявка отправлена. Возможны варианты сотрудничества. Звонить до 22.03, или пишите на смс с 9 до 23 ч, в будни могу быть на месте. <br> <br>Требование - наличие паспорта и прописки (пропиши сам). <br> <br>Возможны дополнительные фотографии. Цена 1000€<br>",
            "text/plain": [
              "<IPython.core.display.Markdown object>"
            ]
          },
          "metadata": {
            "tags": []
          }
        },
        {
          "output_type": "display_data",
          "data": {
            "text/markdown": "**Место под солнцем**",
            "text/plain": [
              "<IPython.core.display.Markdown object>"
            ]
          },
          "metadata": {
            "tags": []
          }
        },
        {
          "output_type": "display_data",
          "data": {
            "text/markdown": "ode <br> darksky<br<br>",
            "text/plain": [
              "<IPython.core.display.Markdown object>"
            ]
          },
          "metadata": {
            "tags": []
          }
        },
        {
          "output_type": "display_data",
          "data": {
            "text/markdown": "**Место под солнцем**",
            "text/plain": [
              "<IPython.core.display.Markdown object>"
            ]
          },
          "metadata": {
            "tags": []
          }
        },
        {
          "output_type": "display_data",
          "data": {
            "text/markdown": "Описание: Сдаю комнату для одного человека в районе жд, в комнате имеется диванчик и телевизор. Есть холодильник. Цена 100<br>",
            "text/plain": [
              "<IPython.core.display.Markdown object>"
            ]
          },
          "metadata": {
            "tags": []
          }
        },
        {
          "output_type": "display_data",
          "data": {
            "text/markdown": "**Место под солнцем**",
            "text/plain": [
              "<IPython.core.display.Markdown object>"
            ]
          },
          "metadata": {
            "tags": []
          }
        },
        {
          "output_type": "display_data",
          "data": {
            "text/markdown": "Описание: Продам участок земли, на участке 2 сот. с домиком и сараем. Рядом школа, детский сад, остановка автобуса в любое нужное для Вас место. Цена 2000000<br>",
            "text/plain": [
              "<IPython.core.display.Markdown object>"
            ]
          },
          "metadata": {
            "tags": []
          }
        },
        {
          "output_type": "display_data",
          "data": {
            "text/markdown": "**Либертарианская партия России**",
            "text/plain": [
              "<IPython.core.display.Markdown object>"
            ]
          },
          "metadata": {
            "tags": []
          }
        },
        {
          "output_type": "display_data",
          "data": {
            "text/markdown": "1 <br> 3<br>2 <br> 1(5+3)-1 <br> 4\\3\\2 <br> 4\\ <br> Товарный остаток <br> Описание товара <br> В количестве 100 штук (по 10шт)<br> 10 штук<br> 2 шт <br> <br> <br> Обмен неинтерестен!<br> Цена 1000<br>",
            "text/plain": [
              "<IPython.core.display.Markdown object>"
            ]
          },
          "metadata": {
            "tags": []
          }
        },
        {
          "output_type": "display_data",
          "data": {
            "text/markdown": "**Либертарианская партия России**",
            "text/plain": [
              "<IPython.core.display.Markdown object>"
            ]
          },
          "metadata": {
            "tags": []
          }
        },
        {
          "output_type": "display_data",
          "data": {
            "text/markdown": "\\\"Нестле»(сб.2113г.)+ <br> Описание: Сб.21134, с <br> о, с документами и паспортом <br> <br>Писательница и публицистка из России, имеющая более 20 книг по разным тематикам, имеющая собственный блог на Ютуб и Facebook <br> viber <br> what hub <br> <br>В настоящее время проживает с мамой <br> дочерой в Германии, а в ближайшее время может уехать на историческую Россию. Цена 500❄ <br> <br>Возрастная группа (с рождения).  Цена 200❀❄ Цена 300<br>",
            "text/plain": [
              "<IPython.core.display.Markdown object>"
            ]
          },
          "metadata": {
            "tags": []
          }
        },
        {
          "output_type": "display_data",
          "data": {
            "text/markdown": "**Либертарианская партия России**",
            "text/plain": [
              "<IPython.core.display.Markdown object>"
            ]
          },
          "metadata": {
            "tags": []
          }
        },
        {
          "output_type": "display_data",
          "data": {
            "text/markdown": "(1 человек) <br> Описание: В России более 200 отделений и отделений в каждой стране по всему миру, и это несмотря на то, что у нас есть множество других отделений. В каждом регионе своя система налогообложения. <br> <br> <br> Зарегистрировано более 200 000 отделений по всему миру! И это не только регионы! <br> <br> <br> Также вы получаете возможность отправлять свои объявления через Авито (в том числе на авито.рф). <br> <br> <br> <br>Также у Вас есть возможность стать участником различных благотворительных и иных мероприятий: детских, школьных программ, мероприятий в поддержку пожилых людей (вещи для взрослых, игрушки для малыша, развивающее занятие), выставок, презентациях. <br> <br>Такой формат работы дает возможность получать скидки от 50% до 50%, в случае не прохождения всей акции! Цена 1<br>",
            "text/plain": [
              "<IPython.core.display.Markdown object>"
            ]
          },
          "metadata": {
            "tags": []
          }
        },
        {
          "output_type": "display_data",
          "data": {
            "text/markdown": "**Либертарианская партия России**",
            "text/plain": [
              "<IPython.core.display.Markdown object>"
            ]
          },
          "metadata": {
            "tags": []
          }
        },
        {
          "output_type": "display_data",
          "data": {
            "text/markdown": "\\3\\5-7.1 <br> Описание: Продаю партии:Либертиан,Лемберг и др,со всеми бумагами(запечатанными,заправленными) Цена за всё 3.5 кг.  В комплекте с ними отдам 3 пачки по 30 рублей каждый(2-й по 40-40-40) и по 10 пачек в каждой по 50руб каждый(1-ой по 50 руб) Цена 100<br>",
            "text/plain": [
              "<IPython.core.display.Markdown object>"
            ]
          },
          "metadata": {
            "tags": []
          }
        },
        {
          "output_type": "display_data",
          "data": {
            "text/markdown": "**Двойник Путина**",
            "text/plain": [
              "<IPython.core.display.Markdown object>"
            ]
          },
          "metadata": {
            "tags": []
          }
        },
        {
          "output_type": "display_data",
          "data": {
            "text/markdown": "<br>4G LTE-A2+EDGE <br> EDX <br> Описание: Продаётся 2х симочный телефон. В комплекте коробка, зарядник, кабель питания для USB кабеля. <br> <br>Телефоны работают на двух SIMах. Один из этих телефонов имеет разъём 3G (2g), второй 2G, но при желании может быть и 4-м. <br> <br> <br> <br>Пользовательский корпус из алюминиевого пластика выполнен из прочной пластмассы.<br> Цена 2000<br>",
            "text/plain": [
              "<IPython.core.display.Markdown object>"
            ]
          },
          "metadata": {
            "tags": []
          }
        },
        {
          "output_type": "display_data",
          "data": {
            "text/markdown": "**Двойник Путина**",
            "text/plain": [
              "<IPython.core.display.Markdown object>"
            ]
          },
          "metadata": {
            "tags": []
          }
        },
        {
          "output_type": "display_data",
          "data": {
            "text/markdown": "\\2\\3\" Lenin <br> Товар: Коляска 2-ух местная, в хорошем сотояния <br> Описание: Детская Коляска в идеальном состоянии, использовалась 2 раза. Коляской осталась довольна и готова для дальнейшей эксплуатации. Коляска легко разбирается и помещается даже в багажник легкового автомобиля! Цена 2000<br>",
            "text/plain": [
              "<IPython.core.display.Markdown object>"
            ]
          },
          "metadata": {
            "tags": []
          }
        },
        {
          "output_type": "display_data",
          "data": {
            "text/markdown": "**Двойник Путина**",
            "text/plain": [
              "<IPython.core.display.Markdown object>"
            ]
          },
          "metadata": {
            "tags": []
          }
        },
        {
          "output_type": "display_data",
          "data": {
            "text/markdown": "+2 билета к <br> ф \"Пятёрочка\" <br> Описание: Продам Двойников Путина <br> Nikolsky. <br> <br>Факты и документы: <br> <br>1. В 2016 <br> 17 году в ДК Муравьёва прошла премьера «Ошибок и негодных молотов»; <br> <br>2. С начала 2016 <br> 18 г. на сцене театра «Россия» проходила постановка фильма о «Пятиочном звонке»; <br> <br> <br> 3) С начала 2017 года в ДК Юбилейный (ул. Горького, 4). <br> <br> <br> Писать сообщения можно в личные VK или WhatsApp. <br> <br> <br> Причина продажи, покупка новой модели! <br> <br> <br> <br>Приглашение на показ, в любое из отделений, в рабочие дни. Возможен самовывоз с пл. Станиславский или пл. Куйбышева (напротив ДМЗ) <br> ТД Юбилейный. Цена 1500<br>",
            "text/plain": [
              "<IPython.core.display.Markdown object>"
            ]
          },
          "metadata": {
            "tags": []
          }
        },
        {
          "output_type": "display_data",
          "data": {
            "text/markdown": "**Двойник Путина**",
            "text/plain": [
              "<IPython.core.display.Markdown object>"
            ]
          },
          "metadata": {
            "tags": []
          }
        },
        {
          "output_type": "display_data",
          "data": {
            "text/markdown": "1 год <br> <br>Описание: Двойник Путина <br> <br>Оригинальный, не китайский оригинал. <br> <br>Две недели гарантии. Не Китай!!! <br> <br>Отличный выбор на любой вкус! <br> <br>Возрастной цен:<br>\t2.0 (до 25 лет)<br>\t450р (5 лет), <br> <br>420р <br> сут - 580р (6, 7, 8, 10, 11) <br> <br> <br> 500 р<br> сут – 500р, <br> сут - 550р <br> <br>560-650 - 550р <br> сут – 500р. Цена 550 рублей <br> сут. <br> <br>Возможны другие варианты, пишите, пожалуйста, здесь. Возможен разумый обмен! Цена 600<br>",
            "text/plain": [
              "<IPython.core.display.Markdown object>"
            ]
          },
          "metadata": {
            "tags": []
          }
        },
        {
          "output_type": "display_data",
          "data": {
            "text/markdown": "**Бубущник**",
            "text/plain": [
              "<IPython.core.display.Markdown object>"
            ]
          },
          "metadata": {
            "tags": []
          }
        },
        {
          "output_type": "display_data",
          "data": {
            "text/markdown": "\\s\\с <br> Описание: В добрые добрые руки!  Девочка и мальчики от 0-4 месяцев,  в связи что не получается заниматься самостоятельно,  а у детей уже развились руки)) Цена 500<br>",
            "text/plain": [
              "<IPython.core.display.Markdown object>"
            ]
          },
          "metadata": {
            "tags": []
          }
        },
        {
          "output_type": "display_data",
          "data": {
            "text/markdown": "**Бубущник**",
            "text/plain": [
              "<IPython.core.display.Markdown object>"
            ]
          },
          "metadata": {
            "tags": []
          }
        },
        {
          "output_type": "display_data",
          "data": {
            "text/markdown": "+1\\4 <br> 8<br>8\\8+1 <br> 4(3шт.) <br> Описание: Берем в дар за 2тр. биметалловый кубик с фигурным номером на 8-ми лицевой поверхности. <br> <br>Цена за все, звоните договоримся. Цена 1тр. за штуку. Цена за весь кубик 1000₽. <br> <br> <br> Звонить до 21 часа, забирать у метро Октябрьская <br> Каменщикова. Цена 1000<br>",
            "text/plain": [
              "<IPython.core.display.Markdown object>"
            ]
          },
          "metadata": {
            "tags": []
          }
        },
        {
          "output_type": "display_data",
          "data": {
            "text/markdown": "**Бубущник**",
            "text/plain": [
              "<IPython.core.display.Markdown object>"
            ]
          },
          "metadata": {
            "tags": []
          }
        },
        {
          "output_type": "display_data",
          "data": {
            "text/markdown": "ветки и листики <br> плети <br> цветок <br> крокусы <br> Описание: Бубущники и листовые розетки. Б.у 2 недели (срок эксплуатации 3 года) в отличном рабочем состоянии! Все ветки на срез в горшки (сверху и снизу) - 100 руб. <br> шт Цена 100<br>",
            "text/plain": [
              "<IPython.core.display.Markdown object>"
            ]
          },
          "metadata": {
            "tags": []
          }
        },
        {
          "output_type": "display_data",
          "data": {
            "text/markdown": "**Бубущник**",
            "text/plain": [
              "<IPython.core.display.Markdown object>"
            ]
          },
          "metadata": {
            "tags": []
          }
        },
        {
          "output_type": "display_data",
          "data": {
            "text/markdown": "Описание: Отдам бубушника (сама брожу), но он в связи не надобностью(( Цена 200<br>",
            "text/plain": [
              "<IPython.core.display.Markdown object>"
            ]
          },
          "metadata": {
            "tags": []
          }
        },
        {
          "output_type": "display_data",
          "data": {
            "text/markdown": "**Пхухуяж**",
            "text/plain": [
              "<IPython.core.display.Markdown object>"
            ]
          },
          "metadata": {
            "tags": []
          }
        },
        {
          "output_type": "display_data",
          "data": {
            "text/markdown": "\\2 <br> 5 эт.  \\2-к, 5.6 эт.\\3,5 <br> 7,5 <br> 7 эт.(1,3 <br> 10) \\3,9 <br> 5\\6\\8-9\\12 эт.\\3-6 эт. <br> <br>\\ <br> <br>\\\\ <br> <br>  Цена 1300 тыс. <br> <br> + <br> - Кухня, стол и стул. <br> <br>====================================== <br> <br> ЗВОнить по поводу и ответить на вопросы или в сообщениях на Авито <br> <br> <br> ================================== <br> <br> <br> Описание <br> <br> <br> КВАРТИРЫ И ОКОЛНЫЕ КВАРТИРЫ (СВОИ) <br> <br> (КВАРТИРЫ НА УЛИЦЫ И СВОЕЙ ЗЕРКАЛЬЮ) <br> <br> <br> ОСОБОСТИ КВАРтиры и дома <br> <br>  - ВСЁ ПОЛНОСТЬЮ ОТ ОЧ. ПРОФИЛЕКТОРА (КАМЕРА) до ДЕШЕВЛЕ (КОМНАТНЫЙ КОЛИР И КОРРЕКЦИЮ) <br> <br><br> - СВАРТИРНЫЙ ЗАЛОГ - САМ ВЫКУПЛИТЕЛЬ ПОСМОТРЕТЬ ВСЄ ИСПАНСКОЕ СЕМЬЕ <br> <br>_________________________________________ <br> <br> <br> Оплата: Наличная, Безнал. <br> <br> <br> _____________________ <br> <br> У нас можно приобрести любую квартиру или комнату от эконом класса, от малярного, заканчивая бизнес класса! <br> <br>  А также, если Вы ищете подходящий для вас вариант, мы предлагаем ипотеку на любой срок, от 15.9 % годовых без первоначального взноска (без справок с работы или с использованием ипотеки, вы можете быть уверены, что ваша семья, не будет иметь обременения и проблем со взносами по кредиту!)! Цена 139000<br>",
            "text/plain": [
              "<IPython.core.display.Markdown object>"
            ]
          },
          "metadata": {
            "tags": []
          }
        },
        {
          "output_type": "display_data",
          "data": {
            "text/markdown": "**Пхухуяж**",
            "text/plain": [
              "<IPython.core.display.Markdown object>"
            ]
          },
          "metadata": {
            "tags": []
          }
        },
        {
          "output_type": "display_data",
          "data": {
            "text/markdown": "3000р. Новый комплект <br> Описание: Новая зимняя и летняя вещи из флиса и трикотажные вещи из хлопка на флисовой подкладку. Наполнители хлопок. В подарок 2 шапки и 1 кофта на синтепонах, размер 92. Цена 2000 рублей. <br> <br>Срок до 21 января 2017г. <br> <br>Забрать могу у м. \"Планеты\" или плз, район \"Ботанический сад\". Могу отправить в любой город. Цена 1000<br>",
            "text/plain": [
              "<IPython.core.display.Markdown object>"
            ]
          },
          "metadata": {
            "tags": []
          }
        },
        {
          "output_type": "display_data",
          "data": {
            "text/markdown": "**Пхухуяж**",
            "text/plain": [
              "<IPython.core.display.Markdown object>"
            ]
          },
          "metadata": {
            "tags": []
          }
        },
        {
          "output_type": "display_data",
          "data": {
            "text/markdown": "1,6\\n5-5.8 <br> Описание: Продам коляску, после одного малыша. Есть недочеты: не работает ручка (видно на фото), не регулируется ручка в положении полу-сидя, есть недочета на ручках - на них есть царапинка. Коляска не новая (носила 1 месяц, в магазине такие стоят 15 тысяч), состояние новой. Возможен торг. <br> <br>Возраст ребенка с 5 до 7 мес. <br> <br>Примерный вес коляски - 10 кг Цена 3500<br>",
            "text/plain": [
              "<IPython.core.display.Markdown object>"
            ]
          },
          "metadata": {
            "tags": []
          }
        },
        {
          "output_type": "display_data",
          "data": {
            "text/markdown": "**Пхухуяж**",
            "text/plain": [
              "<IPython.core.display.Markdown object>"
            ]
          },
          "metadata": {
            "tags": []
          }
        },
        {
          "output_type": "display_data",
          "data": {
            "text/markdown": "9010 <br> Описание: Продам телефон, не включается,не глючит,работает как новый, на корпусе есть сколы, экран и корпус без царапин и сколов. Продается вместе с телефоном (за исключением наушничих и кабеля зарядки), зарядное устройство не использовалось, коробка в идеальнейшем состояние (за исключением бампера)! <br> <br> <br> В комплект также отдам зарядное (в наличии нет). <br> <br> <br> В остальном все как новое. Телефон без скотов. <br> <br>Память 16Гбайт + слот microSDHS. С документами и наушникам. <br> <br>Все документы есть! Звонить с 8.20-00ч Цена 850000<br>",
            "text/plain": [
              "<IPython.core.display.Markdown object>"
            ]
          },
          "metadata": {
            "tags": []
          }
        },
        {
          "output_type": "display_data",
          "data": {
            "text/markdown": "**Разноброчл**",
            "text/plain": [
              "<IPython.core.display.Markdown object>"
            ]
          },
          "metadata": {
            "tags": []
          }
        },
        {
          "output_type": "display_data",
          "data": {
            "text/markdown": "Пластиковое зеркало <br> Товар: 1.2-к квартира, 54 кв м., 3 комнаты, 2 <br> 3 эт., 1,5 комнаты, 4.3 комнаты <br> Описание: Продам отличную квартиру на ул Новороссийской в центре Сочи. Квартира полностью обшитая и с хорошим ремонтом, вся мебель имеется. Ванная совмещена в санузлу, в прихожей встроена кухня. В комнате большой гардеробной стол с ящиками и зеркало для ванной. С <br> у - кафель, окна на две стороны квартиры. <br> <br>В шаговом доступном районе - парк, парковая зона и много детских мест. Все комнаты раздельны. <br> <br>Планировочная площадь - 54кв.м., жилая 17.6кв.М., кухня 6м2, сантехника - в плитке. <br> <br>Просторные лоджия, большой лоджией зал, прихожая. <br> <br>Остановки на всех этажах, магазины, вайфай. Рядом с метро. <br> <br>Квартиру сдают на длительный срок порядочные чистильщики, оплата за первый и последующие сутки - 1300р <br> чел., первый и последний суток по факту сдачи- 1500. <br> <br>В квартире есть всё необходимое. <br> <br>Оплачиваете коммунальные услуги по квитанции. <br> <br>Куплю квартиру в новороссийском центре в районе ул. Победы, дом 3, квартира в шаговом до-миро. До центра 10-15 мин. <br> <br>Сдадим только порядочным, чистящим и переезжающим, чистоплотные. Соблюдаем сроки и правила договора аренды, оплата помесячного арендной ставки по арендной форме в размере 7200 руб. <br> мес., в течение срока аренды оплата помесячного арендной платы за месяц вперед - 1500. <br> <br>Соблюдая чистоту ванных комнат, кухонь, коридора ванных и туалет на всех этаже дома. <br> <br>Сдадим порядочную, чистоплотную и светопропускающую квартиру в хорошем жилом состояние, без посредников. Квартира свободна для проживания с 1-ого дня после составления заявления о риэлтерских сделках. <br> <br>К продаже готовы, квартира в шаговой достроенной доступности, рядом с Олимпийским парком. Сдаётся на долгосрочный, срок до 15,5 лет без домашних питомцев, с правом выкупа (в течение последующего срока), в связи со строительством дома по индивидуальному проекту с возможностью выкупа в ипотечный, первон<br>",
            "text/plain": [
              "<IPython.core.display.Markdown object>"
            ]
          },
          "metadata": {
            "tags": []
          }
        },
        {
          "output_type": "display_data",
          "data": {
            "text/markdown": "**Разноброчл**",
            "text/plain": [
              "<IPython.core.display.Markdown object>"
            ]
          },
          "metadata": {
            "tags": []
          }
        },
        {
          "output_type": "display_data",
          "data": {
            "text/markdown": "Плюшевый комбензон с капюшоном, утепление и защита от дождя\\ <br> Описание <br> <br>Покупал за 45 т., но так и лежит в ящике((( Состояние нового, не подошёл размер, на мой рост 170 см. Смотреть в м-не Академгородок, могу подвезти до пл. Победы (м-он ул. Чадаевская) или до ост м-она Юбилейной. В подарок чехол для коляской (с капюшоном) на ноги. <br> <br> <br> Смотр в любое время! <br> <br>Звоните с 8 до 22 часов. Цена 2000 руб <br> <br>Забирать ул.Советская,14, ост. \"Красноармейский рынок\" или на ул.Красноармейская. Цена 2000₽ <end >><br<br>",
            "text/plain": [
              "<IPython.core.display.Markdown object>"
            ]
          },
          "metadata": {
            "tags": []
          }
        },
        {
          "output_type": "display_data",
          "data": {
            "text/markdown": "**Разноброчл**",
            "text/plain": [
              "<IPython.core.display.Markdown object>"
            ]
          },
          "metadata": {
            "tags": []
          }
        },
        {
          "output_type": "display_data",
          "data": {
            "text/markdown": "-вибро-коляску для малыша <br> Описание: Разнообразная развивалка от рождения до 3 лет, все игрушки в идеальном состоянии! <br> <br> <br> - 3 положения <br> <br>- съемные мягкие колёса с амортизацией <br> <br>- 5- точечный ремень для безопасности и безопасности <br> <br>- регулируемая подножка <br> <br> - 3 режима работы (на батарейках <br> <br> <br> В отличном состоянии! <br> <br>Пролежал без дела, продаем. <br> <br> <br> Возможен не адекватный обмен. <br> <br> <br> Звонить по указанному номеру. Цена 1000<br>",
            "text/plain": [
              "<IPython.core.display.Markdown object>"
            ]
          },
          "metadata": {
            "tags": []
          }
        },
        {
          "output_type": "display_data",
          "data": {
            "text/markdown": "**Разноброчл**",
            "text/plain": [
              "<IPython.core.display.Markdown object>"
            ]
          },
          "metadata": {
            "tags": []
          }
        },
        {
          "output_type": "display_data",
          "data": {
            "text/markdown": "-кресла <br> детские качели <br> Описание: Коляски б\\у <br> к в идеальном состоянии <br> <br> <br> Просторное, удобное и мягкое место, на функциональных и мягких ножек, легко складывается для компактного размещения <br> <br>В комплект входит съемная подставка для ножек (на нее легко можно посадить малыша, например) <br> <br>Просторные колеса обеспечивают мягкий тормоз в любом положении, благодаря съемным боковыми колесиям <br> <br>В сложенном положении занимает мало места в машине или путешествии. <br> <br>Складывающийся механизм регулировки высоты сидении и регулировка спинок обеспечивают ребенку комфорт при длительных прогулкам в помещении <br> <br>Рама выполнена в форме трайбла <br> <br>Вместительный багажник с возможностью доступа в багажничок с кнопки на задней части сиденья, а также имеется дополнительный козырный карман для мелких предметов (кресла). <br> <br> <br> Крепится на рама с помощью двух пластиковых элементов: колеса с фиксаторами <br> насосами (для детей весом не более 10-18 килограмм) и съемные задние колесницы. В комплект входит съемная корзина для игрушек. <br> <br>Пятиточечные надежные страховочные ремни <br> <br>Вместимость для ребенка с 1 года: 3 позиции наклона, 6 уровней спинки; съемная перекладина для защиты головы ребенка <br> ребёнка от случайного сложения; 5 уровней высоты сиденья <br> кожи. <br> <br> <br> В подарок к комплекту идёт: <br> <br>1. Кресла-кроватки для взрослых (2 шт). Цена 2000₽ <br> <br>",
            "text/plain": [
              "<IPython.core.display.Markdown object>"
            ]
          },
          "metadata": {
            "tags": []
          }
        }
      ]
    },
    {
      "cell_type": "markdown",
      "metadata": {
        "id": "W6IBHcrCEyId"
      },
      "source": [
        "## Больше отупения!\r\n",
        "\r\n",
        "Хотите попробовать другие фразы? Тогда впишите их в клетку под этим текстом, как до этого, и запустите код ниже. Не забудьте поменять `%%writefile input.txt` на `%%writefile input_with_lines.txt`, если ваши запросы содержат переносы строк!"
      ]
    },
    {
      "cell_type": "code",
      "metadata": {
        "colab": {
          "base_uri": "https://localhost:8080/"
        },
        "id": "yd0o8O28E0IJ",
        "outputId": "08594b7f-b173-4ab5-c907-fcdb18a81d69"
      },
      "source": [
        "%%writefile input.txt\r\n"
      ],
      "execution_count": null,
      "outputs": [
        {
          "output_type": "stream",
          "text": [
            "Overwriting input.txt\n"
          ],
          "name": "stdout"
        }
      ]
    },
    {
      "cell_type": "code",
      "metadata": {
        "colab": {
          "base_uri": "https://localhost:8080/",
          "height": 1000
        },
        "id": "YEGt_2-mRvN-",
        "cellView": "form",
        "outputId": "12c41f1f-1372-4491-d25d-c6b4281dcc37"
      },
      "source": [
        "#@markdown ### Генерируем новую выдачу\r\n",
        "\r\n",
        "Повторов = 3  #@param {\"type\": \"integer\"}\r\n",
        "takes = Повторов\r\n",
        "\r\n",
        "if takes < 1:\r\n",
        "  takes = 1\r\n",
        "  print(\"Маловато повторов. Установлено значение \" + str(takes) + \".\")\r\n",
        "if takes > 30:\r\n",
        "  takes = 30\r\n",
        "  print(\"Маловато повторов. Установлено значение \" + str(takes) + \".\")\r\n",
        "if type(takes) != int:\r\n",
        "  takes = 4\r\n",
        "  print(\"Что-то пошло не так с количеством повторов. Установлено значение \" + str(takes) + \".\")\r\n",
        "\r\n",
        "s = \"\"\r\n",
        "\r\n",
        "if not is_empty(\"input_with_lines.txt\"):\r\n",
        "  with open(\"input_with_lines.txt\", \"r\", encoding=\"utf-8\") as intxt:\r\n",
        "    prompts = [get_lbc(model_meta).join([sp for sp in p.split(\"\\n\") if sp]) for p in intxt.read().split(\"\\n\\n\") if p]\r\n",
        "else:\r\n",
        "  with open(\"input.txt\", \"r\", encoding=\"utf-8\") as intxt:\r\n",
        "    prompts = [p for p in intxt.read().split(\"\\n\") if p]\r\n",
        "\r\n",
        "for prompt in prompts:\r\n",
        "  s += (model_meta['prompt'] % prompt + '\\n') * takes\r\n",
        "\r\n",
        "with open(\"rawi.txt\", \"w\", encoding=\"utf-8\") as rawo:\r\n",
        "  rawo.write(s)\r\n",
        "\r\n",
        "Бредовость = 25 #@param {type: \"slider\", min: 0, max: 100, step: 25}\r\n",
        "stlv = Бредовость\r\n",
        "\r\n",
        "Повторяться = False   # @param {\"type\": \"boolean\"}\r\n",
        "add_randomness = not Повторяться\r\n",
        "\r\n",
        "rs = random.choice(list(range(0, 10000))) if add_randomness else 42\r\n",
        "printmd(\"Ключ случайного значения: **\"+str(rs)+\"**\")\r\n",
        "\r\n",
        "responses = !python generate_transformers.py \\\r\n",
        "    --model_type=gpt2 \\\r\n",
        "    --model_name_or_path={model} \\\r\n",
        "    --k={str(stup_cases[stlv][\"k\"])} \\\r\n",
        "    --p={str(stup_cases[stlv][\"p\"])} \\\r\n",
        "    --seed={str(rs)} \\\r\n",
        "    --temperature={str(stup_cases[stlv][\"temp\"])} \\\r\n",
        "    --repetition_penalty=1.0 \\\r\n",
        "    --stop_token=\"{model_meta['sequence_end_character']}\" \\\r\n",
        "    --length=500 < rawi.txt 2>/dev/null\r\n",
        "\r\n",
        "responses = \"\\n\".join(list(responses))\r\n",
        "\r\n",
        "lbc = model_meta[\"line_break_character\"]\r\n",
        "ssc = model_meta[\"sequence_start_character\"]\r\n",
        "sec = model_meta[\"sequence_end_character\"]\r\n",
        "prompt = re.sub(r\"%[a-z]+\", \"(.*?)\", model_meta[\"prompt\"])\r\n",
        "\r\n",
        "resps = [r for r in responses.split(\"Context >>> ruGPT:\\n\") if r]\r\n",
        "sps = [sp for sp in s.split(\"\\n\") if sp]\r\n",
        "for sp, resp in zip(sps, resps):\r\n",
        "  pt = re.search(re.compile(repr(re.sub(r\"%[a-z]+\", \"(.*)\", model_meta[\"prompt\"]))[1:-1]), sp).group(1)\r\n",
        "  rs, _ = re.findall(re.compile(re.escape(sp) + r\"\\n?(.*?)(\" + ssc + \"|$)\", flags=re.DOTALL), resp)[0]\r\n",
        "  pt = \"<br>\".join(\"**\" + p + \"**\" for p in re.split(lbc, pt) if p)\r\n",
        "  printmd(pt)\r\n",
        "  rs = re.sub(lbc, \"<br>\", rs).strip()\r\n",
        "  rs = re.sub(r\"([^\\s])<br>([^\\s])\", r\"\\1 <br> \\2\", rs)\r\n",
        "  printmd(rs[:rs.find(\"Context >>\")] + \"<br>\")"
      ],
      "execution_count": 11,
      "outputs": [
        {
          "output_type": "display_data",
          "data": {
            "text/markdown": "Ключ случайного значения: **923**",
            "text/plain": [
              "<IPython.core.display.Markdown object>"
            ]
          },
          "metadata": {
            "tags": []
          }
        },
        {
          "output_type": "display_data",
          "data": {
            "text/markdown": "**Тупая дичь**",
            "text/plain": [
              "<IPython.core.display.Markdown object>"
            ]
          },
          "metadata": {
            "tags": []
          }
        },
        {
          "output_type": "display_data",
          "data": {
            "text/markdown": "1 <br> Описание: Продаю молодую, красивую, но в очень хорошем состоянии  дичку. Очень красивая, крупная. Родилась 21 января.  Клетка с окошком для купания. Цена 1500<br>",
            "text/plain": [
              "<IPython.core.display.Markdown object>"
            ]
          },
          "metadata": {
            "tags": []
          }
        },
        {
          "output_type": "display_data",
          "data": {
            "text/markdown": "**Тупая дичь**",
            "text/plain": [
              "<IPython.core.display.Markdown object>"
            ]
          },
          "metadata": {
            "tags": []
          }
        },
        {
          "output_type": "display_data",
          "data": {
            "text/markdown": "Описание: Продаётся тупая,клетчатая кошечка,девочка. Возраст 3 года. Очень ласковая и добрая,к еде не привередлива,кушает самостоятельно. Цена 100<br>",
            "text/plain": [
              "<IPython.core.display.Markdown object>"
            ]
          },
          "metadata": {
            "tags": []
          }
        },
        {
          "output_type": "display_data",
          "data": {
            "text/markdown": "**Тупая дичь**",
            "text/plain": [
              "<IPython.core.display.Markdown object>"
            ]
          },
          "metadata": {
            "tags": []
          }
        },
        {
          "output_type": "display_data",
          "data": {
            "text/markdown": "3 шт <br> Описание: Продаю трех поросяток: девочка и мальчик. Возраст 1 мес.  Прививки сделаны в 2016году. Цена 500<br>",
            "text/plain": [
              "<IPython.core.display.Markdown object>"
            ]
          },
          "metadata": {
            "tags": []
          }
        },
        {
          "output_type": "display_data",
          "data": {
            "text/markdown": "**Место под солнцем**",
            "text/plain": [
              "<IPython.core.display.Markdown object>"
            ]
          },
          "metadata": {
            "tags": []
          }
        },
        {
          "output_type": "display_data",
          "data": {
            "text/markdown": "avigator <br> Описание: Продам место под солнцем для своего авто. На данный момент стоит в гараже. Есть возможность разобрать и покрасить в любой цвет, а потом поставить на новое авто. Торг при осмотре. Цена 500<br>",
            "text/plain": [
              "<IPython.core.display.Markdown object>"
            ]
          },
          "metadata": {
            "tags": []
          }
        },
        {
          "output_type": "display_data",
          "data": {
            "text/markdown": "**Место под солнцем**",
            "text/plain": [
              "<IPython.core.display.Markdown object>"
            ]
          },
          "metadata": {
            "tags": []
          }
        },
        {
          "output_type": "display_data",
          "data": {
            "text/markdown": "arrowlands\\narcs\\narcs <br> Описание: Продаётся участок под солнцем (с возможностью подворной постройки) площадью 100 м², площадью 100 кв. метров и с возможностью подвести воду (водопровод и вода из скважин) до дома по улице Чкалова. <br> <br>В собственности более 10 лет. <br> <br>На данный момент участок находится в аренде. <br> <br>Срок аренды: до 2019 года (с возможностью подведения водопровода). <br> <br>В собственности более 20 лет, с правом аренды (до 2019 года). Цена 1350000<br>",
            "text/plain": [
              "<IPython.core.display.Markdown object>"
            ]
          },
          "metadata": {
            "tags": []
          }
        },
        {
          "output_type": "display_data",
          "data": {
            "text/markdown": "**Место под солнцем**",
            "text/plain": [
              "<IPython.core.display.Markdown object>"
            ]
          },
          "metadata": {
            "tags": []
          }
        },
        {
          "output_type": "display_data",
          "data": {
            "text/markdown": "armania <br> Описание: Продаю отличное место. На территории детского сада, школы,  остановка общественного транспорта. Рядом магазины,  аптеки,  остановка маршрутных такси,  рынок. В доме  очень хорошая детская площадка.  Рядом  есть  детская площадка  для  детей с 4-х лет.  Цена  8000 рублей. Торг.  Возможен торг. Цена 8000<br>",
            "text/plain": [
              "<IPython.core.display.Markdown object>"
            ]
          },
          "metadata": {
            "tags": []
          }
        },
        {
          "output_type": "display_data",
          "data": {
            "text/markdown": "**Либертарианская партия России**",
            "text/plain": [
              "<IPython.core.display.Markdown object>"
            ]
          },
          "metadata": {
            "tags": []
          }
        },
        {
          "output_type": "display_data",
          "data": {
            "text/markdown": "Описание: Продам партию русских людей в составе 5 человек. В связи с переездом продаем по причине отсутствия времени. Цена 300<br>",
            "text/plain": [
              "<IPython.core.display.Markdown object>"
            ]
          },
          "metadata": {
            "tags": []
          }
        },
        {
          "output_type": "display_data",
          "data": {
            "text/markdown": "**Либертарианская партия России**",
            "text/plain": [
              "<IPython.core.display.Markdown object>"
            ]
          },
          "metadata": {
            "tags": []
          }
        },
        {
          "output_type": "display_data",
          "data": {
            "text/markdown": "Описание: В связи с переездом в другую страну продаём Либертарианские партии, которые не входят ни в одну из перечисленных групп: <br> <br>1. \"Демократическая Россия\". <br> <br>2. Демократическая партия Китая (ДВР). <br> <br>3. Коммунистическая партия Франции (ПНС). <br> <br> 4. Республиканская партия США (БПКС). <br> <br> 5. Либеральная партия Великобритании (БПС). <br> <br> 6. Либерально-конституционная партия Японии (ППС). <br> <br> 7. Либеральная партия Китая (ЛККР), объединяющая партии социалистических государств (СССР, СССР). В состав партии входят: <br> <br> <br> - \"Демократическая партия Китая\"(ППС), которая не входит ни в какую из указанных выше групп: <br> <br>1. Коммунистическая партия Франции(ДВР). <br> <br>2. Демократическая партия Китая (ПНС). <br> <br>3. Либеральная партия Японии (ППС). <br> <br>4. Либеральная партия Кореи (ПНС). <br> <br>5. Либеральная партия Германии (БПКС) <br> <br>6. Либеральный союз Японии (БПС). Цена 10000<br>",
            "text/plain": [
              "<IPython.core.display.Markdown object>"
            ]
          },
          "metadata": {
            "tags": []
          }
        },
        {
          "output_type": "display_data",
          "data": {
            "text/markdown": "**Либертарианская партия России**",
            "text/plain": [
              "<IPython.core.display.Markdown object>"
            ]
          },
          "metadata": {
            "tags": []
          }
        },
        {
          "output_type": "display_data",
          "data": {
            "text/markdown": "\\2\\4\\3\\4\\4 <br> 4<br>Описание: 1 <br> 2\\3 <br> 4.1.2 <br> <br> <br> Кратко о себе: Я - русская (с рождения). Родилась 22 января 2017. На данный момент являюсь кандидатом в депутаты. Начала заниматься спортом. <br> <br>Веду переговоры с лидером партии. Цена 100 000 <br>",
            "text/plain": [
              "<IPython.core.display.Markdown object>"
            ]
          },
          "metadata": {
            "tags": []
          }
        },
        {
          "output_type": "display_data",
          "data": {
            "text/markdown": "**Двойник Путина**",
            "text/plain": [
              "<IPython.core.display.Markdown object>"
            ]
          },
          "metadata": {
            "tags": []
          }
        },
        {
          "output_type": "display_data",
          "data": {
            "text/markdown": "Описание: Новый. <br> <br>Двухсимочный, 3G, Bluetooth, GPS-навигатор с возможностью подключения флешки. Цена 1000<br>",
            "text/plain": [
              "<IPython.core.display.Markdown object>"
            ]
          },
          "metadata": {
            "tags": []
          }
        },
        {
          "output_type": "display_data",
          "data": {
            "text/markdown": "**Двойник Путина**",
            "text/plain": [
              "<IPython.core.display.Markdown object>"
            ]
          },
          "metadata": {
            "tags": []
          }
        },
        {
          "output_type": "display_data",
          "data": {
            "text/markdown": "+1 <br> <br>Описание: Продадим двух мальчиков. На момент рождения они еще не успели стать взрослыми. <br> <br>В подарок отдам двух зайчиков. Оба мальчика. Оба на фото. Звоните или пишите на ватсап. Цена 1500<br>",
            "text/plain": [
              "<IPython.core.display.Markdown object>"
            ]
          },
          "metadata": {
            "tags": []
          }
        },
        {
          "output_type": "display_data",
          "data": {
            "text/markdown": "**Двойник Путина**",
            "text/plain": [
              "<IPython.core.display.Markdown object>"
            ]
          },
          "metadata": {
            "tags": []
          }
        },
        {
          "output_type": "display_data",
          "data": {
            "text/markdown": "Описание: В связи с отъездом, продам Двойника Путина, состояние хорошее, на фото он. <br> <br>Продаём в связи с отъездом из Москвы в Нижний Новгороде. В подарок отдаём портрет и два конверта на шею (фото и конверты с портретами в хорошем состоянии). В конверте есть еще одна рубашка на флисе. Цена 500<br>",
            "text/plain": [
              "<IPython.core.display.Markdown object>"
            ]
          },
          "metadata": {
            "tags": []
          }
        },
        {
          "output_type": "display_data",
          "data": {
            "text/markdown": "**Бубущник**",
            "text/plain": [
              "<IPython.core.display.Markdown object>"
            ]
          },
          "metadata": {
            "tags": []
          }
        },
        {
          "output_type": "display_data",
          "data": {
            "text/markdown": "ветровка <br> джинса\\джампер <br> Описание: продам бубущника <br> <br>размер 110 <br> <br>состояние хорошее, не одевался, есть небольшие потертости <br> <br>цена 300<br>",
            "text/plain": [
              "<IPython.core.display.Markdown object>"
            ]
          },
          "metadata": {
            "tags": []
          }
        },
        {
          "output_type": "display_data",
          "data": {
            "text/markdown": "**Бубущник**",
            "text/plain": [
              "<IPython.core.display.Markdown object>"
            ]
          },
          "metadata": {
            "tags": []
          }
        },
        {
          "output_type": "display_data",
          "data": {
            "text/markdown": "ветровка <br> Описание: Ветровка на флисовой подкладке, в хорошем состоянии. <br> <br>Размер М (Д <br> Ш) 98,5. Длина рукава 52 см. <br> <br>Состав: хлопковый утепленный материал, трикотажная ткань с водоотталкивающей пропиткой, подклад из плащевки. Размер М. Длина куртки по внутренней части куртки по внутреннему шву 48 см, ширина куртки от подмышек до низа 33 см. Длина куртки по внешнему шву 48,5 см. <br> <br>Состав подкладки (полиэстер, нейлон) 80%, полиуретан, мембрана. Цена 500<br>",
            "text/plain": [
              "<IPython.core.display.Markdown object>"
            ]
          },
          "metadata": {
            "tags": []
          }
        },
        {
          "output_type": "display_data",
          "data": {
            "text/markdown": "**Бубущник**",
            "text/plain": [
              "<IPython.core.display.Markdown object>"
            ]
          },
          "metadata": {
            "tags": []
          }
        },
        {
          "output_type": "display_data",
          "data": {
            "text/markdown": "-2-1 <br> 2.6 <br> Описание: Продам бубущника. Состояние хорошее. Есть небольшие косяки на ручках. <br> <br>Пользовалась 1 год, в идеальном состоянии, не рваный и не потрепанный. В подарок отдам 2 билета в цирк. <br> <br>Возможен торг. Цена 1500<br>",
            "text/plain": [
              "<IPython.core.display.Markdown object>"
            ]
          },
          "metadata": {
            "tags": []
          }
        },
        {
          "output_type": "display_data",
          "data": {
            "text/markdown": "**Пхухуяж**",
            "text/plain": [
              "<IPython.core.display.Markdown object>"
            ]
          },
          "metadata": {
            "tags": []
          }
        },
        {
          "output_type": "display_data",
          "data": {
            "text/markdown": "9-18 лет <br> 2.7\" <br> Описание: Продаю детский развивающий комплекс \"Чебурашка\". <br> <br>В отличном состоянии, все игрушки и игрушки на месте. <br> <br>Развивающие игрушки в комплекте: погремушки, машинки и домик. <br> <br>Цена 2000р. Цена 2000<br>",
            "text/plain": [
              "<IPython.core.display.Markdown object>"
            ]
          },
          "metadata": {
            "tags": []
          }
        },
        {
          "output_type": "display_data",
          "data": {
            "text/markdown": "**Пхухуяж**",
            "text/plain": [
              "<IPython.core.display.Markdown object>"
            ]
          },
          "metadata": {
            "tags": []
          }
        },
        {
          "output_type": "display_data",
          "data": {
            "text/markdown": "Описание: продам пххуху за 2000,состояниие нормальное,есть косточки,в придачу 2 билета на матч с Кубанью.продаю в зачет по возрасту.продажа в связи с тем,что ребёнок вырос.цена за билет.торг. Цена 2000<br>",
            "text/plain": [
              "<IPython.core.display.Markdown object>"
            ]
          },
          "metadata": {
            "tags": []
          }
        },
        {
          "output_type": "display_data",
          "data": {
            "text/markdown": "**Пхухуяж**",
            "text/plain": [
              "<IPython.core.display.Markdown object>"
            ]
          },
          "metadata": {
            "tags": []
          }
        },
        {
          "output_type": "display_data",
          "data": {
            "text/markdown": "2.7 м2 <br> Описание: Продам квартиру на 2-ом этаже 9ти этажного кирпичного дома. Сдам на долгий срок, в хорошем, уютном, с необходимой мебелью и техникой. Рядом остановки, магазины, школа №3. Оплата 13 тыс. руб в месяц плюс коммунальные услуги. Цена 13000<br>",
            "text/plain": [
              "<IPython.core.display.Markdown object>"
            ]
          },
          "metadata": {
            "tags": []
          }
        },
        {
          "output_type": "display_data",
          "data": {
            "text/markdown": "**Разноброчл**",
            "text/plain": [
              "<IPython.core.display.Markdown object>"
            ]
          },
          "metadata": {
            "tags": []
          }
        },
        {
          "output_type": "display_data",
          "data": {
            "text/markdown": "Описание: Продам детскую коляску 2в1 (2 блока) в отличном состоянии. В комплекте: люлька, прогулочный модуль, автолюлька, автозеркала, сумка для мамы, сумка для мамы, корзина для покупок. Цена 6000<br>",
            "text/plain": [
              "<IPython.core.display.Markdown object>"
            ]
          },
          "metadata": {
            "tags": []
          }
        },
        {
          "output_type": "display_data",
          "data": {
            "text/markdown": "**Разноброчл**",
            "text/plain": [
              "<IPython.core.display.Markdown object>"
            ]
          },
          "metadata": {
            "tags": []
          }
        },
        {
          "output_type": "display_data",
          "data": {
            "text/markdown": "Описание: Продам детский спортивный комплекс. Надувная подставка. В комплекте все что нужно для занятий. <br> <br> <br> Состоит из: <br> <br>1) надувной пластиковый каркас; <br> <br>2) каркас, на котором крепится подставка, с пластиковым подголовником и съемным козырьком; <br> <br>3) надувной матрас; <br> <br>5) кольца; Цена 2000<br>",
            "text/plain": [
              "<IPython.core.display.Markdown object>"
            ]
          },
          "metadata": {
            "tags": []
          }
        },
        {
          "output_type": "display_data",
          "data": {
            "text/markdown": "**Разноброчл**",
            "text/plain": [
              "<IPython.core.display.Markdown object>"
            ]
          },
          "metadata": {
            "tags": []
          }
        },
        {
          "output_type": "display_data",
          "data": {
            "text/markdown": "Пластиковый стаканчик (с крышкой) <br> Описание: Разборный пластиковый стаканчик ( с крышкой). Цвет - белый с черным. Цвет бутылки - белый с черным. Размер: высота - 2.7 м, ширина  1.7 м <br> <br>В отличном состоянии, без дефектов. Цена 500₽ <br> <br>",
            "text/plain": [
              "<IPython.core.display.Markdown object>"
            ]
          },
          "metadata": {
            "tags": []
          }
        }
      ]
    },
    {
      "cell_type": "markdown",
      "metadata": {
        "id": "3nfmtAaqcFrQ"
      },
      "source": [
        "На этом всё. Получайте удовольствие (надеюсь)!"
      ]
    }
  ]
}