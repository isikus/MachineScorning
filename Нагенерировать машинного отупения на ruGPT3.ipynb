{
  "nbformat": 4,
  "nbformat_minor": 0,
  "metadata": {
    "colab": {
      "name": "Нагенерировать машинного отупения на ruGPT3.ipynb",
      "provenance": [],
      "collapsed_sections": [
        "9IH1cb0oGkXP"
      ]
    },
    "kernelspec": {
      "name": "python3",
      "display_name": "Python 3"
    },
    "accelerator": "GPU"
  },
  "cells": [
    {
      "cell_type": "markdown",
      "metadata": {
        "id": "YONnGjpAYUdU"
      },
      "source": [
        "\n",
        "<a href=\"https://colab.research.google.com/github/isikus/MachineScorning/blob/main/Нагенерировать%20машинного%20отупения%20на%20ruGPT3.ipynb\" target=\"_parent\"><img src=\"https://colab.research.google.com/assets/colab-badge.svg\" alt=\"Open In Colab\"/></a>"
      ]
    },
    {
      "cell_type": "markdown",
      "metadata": {
        "id": "3RHDK81QqrET"
      },
      "source": [
        "# Нагенерировать машинного отупения на ruGPT3"
      ]
    },
    {
      "cell_type": "code",
      "metadata": {
        "colab": {
          "base_uri": "https://localhost:8080/"
        },
        "id": "on7W1zhwAaKS",
        "cellView": "form",
        "outputId": "cb727f42-0a1f-436d-db18-ba2e1627361a"
      },
      "source": [
        "import os\r\n",
        "import json\r\n",
        "\r\n",
        "def is_empty(fpath, default_lines=[[\"Дополни эту фразу\", \"И эту фразу тоже дополни\"], [\"Первый пример запроса\", \"Из нескольких строк\", \"\", \"И второй пример\", \"Я тоже придумать смог\"]]):\r\n",
        "  if not os.path.isfile(fpath):\r\n",
        "    return True\r\n",
        "  if not (os.path.getsize(fpath) > 0):\r\n",
        "    return True\r\n",
        "  if default_lines:\r\n",
        "    with open(fpath, \"r\") as infile:\r\n",
        "      lines = infile.read().split(\"\\n\")\r\n",
        "    for deflines in default_lines:\r\n",
        "      if lines == deflines:\r\n",
        "        return True\r\n",
        "  return False\r\n",
        "  \r\n",
        "\r\n",
        "def get_lbc(model_meta):\r\n",
        "  lbc = model_meta[\"line_break_character\"]\r\n",
        "  lbc = lbc.replace(\"\\s\", \" \")\r\n",
        "  return lbc\r\n",
        "\r\n",
        "#@markdown Для начала выберите модель:\r\n",
        "\r\n",
        "Модель = \"Нейротексты «Короля и Шута»\"  #@param [\"Нейроописания товаров\", \"Нейроинструкции на все случаи жизни\", \"Нейротексты «Короля и Шута»\", \"Нейроновости Северной Кореи\", \"Нейропоздравления с новым годом\"]\r\n",
        "\r\n",
        "desc_dict = {\r\n",
        "    \"Нейроописания товаров\": \"products_desc\",\r\n",
        "    \"Нейроинструкции на все случаи жизни\": \"wikihowto\",\r\n",
        "    \"Нейротексты «Короля и Шута»\": \"kishverses\",\r\n",
        "    \"Нейроновости Северной Кореи\": \"rukcna\",\r\n",
        "    \"Нейропоздравления с новым годом\": \"greetings\"\r\n",
        "}\r\n",
        "\r\n",
        "model = desc_dict[Модель]\r\n",
        "\r\n",
        "!wget -q --show-progress https://storage.googleapis.com/ml-bucket-isikus/machine-scorning/{model}.tar.gz\r\n",
        "!mkdir {model}\r\n",
        "!tar -xzf {model}.tar.gz -C {model}\r\n",
        "\r\n",
        "try:\r\n",
        "  with open(model+\"/meta.json\", \"r\") as injson:\r\n",
        "    model_meta = json.load(injson)\r\n",
        "  print('\\x1b[1m'+Модель + \": модель подготовлена\"+'\\x1b[0m')\r\n",
        "except Exception as e:\r\n",
        "  print('\\x1b[1;31m'+\"Что-то сломалось – модель не готова :(\"+'\\x1b[0m')"
      ],
      "execution_count": 1,
      "outputs": [
        {
          "output_type": "stream",
          "text": [
            "kishverses.tar.gz   100%[===================>] 443.64M   101MB/s    in 4.9s    \n",
            "\u001b[1mНейротексты «Короля и Шута»: модель подготовлена\u001b[0m\n"
          ],
          "name": "stdout"
        }
      ]
    },
    {
      "cell_type": "markdown",
      "metadata": {
        "id": "fk5AMR1q5ifP"
      },
      "source": [
        "Теперь запишите варианты начала сообщений, которые должна дополнить модель, сразу под текстом `%%writefile input.txt`, по 1 разному началу на строку:"
      ]
    },
    {
      "cell_type": "code",
      "metadata": {
        "colab": {
          "base_uri": "https://localhost:8080/"
        },
        "id": "WOisDCMa5QZR",
        "outputId": "62e7b9a7-8043-4869-f313-a5944e3d66a0"
      },
      "source": [
        "%%writefile input.txt\r\n",
        "Дополни эту фразу\r\n",
        "И эту фразу тоже дополни"
      ],
      "execution_count": 2,
      "outputs": [
        {
          "output_type": "stream",
          "text": [
            "Writing input.txt\n"
          ],
          "name": "stdout"
        }
      ]
    },
    {
      "cell_type": "markdown",
      "metadata": {
        "id": "8Y1U_F98ROVS"
      },
      "source": [
        "**Важно:** если ваши запросы содержат переносы строк (например, это начало стихотворения), вместо предыдущей клетки, заполните клетку ниже, разбивая ваш ввод двумя переносами строк. Код ниже заменит переносы строк на специальный символ – это необходимо для корректной работы модели."
      ]
    },
    {
      "cell_type": "code",
      "metadata": {
        "id": "yK0q8R0uR3gs",
        "colab": {
          "base_uri": "https://localhost:8080/"
        },
        "outputId": "22f46ece-3ab3-4e9d-c7a3-4cccc65717a8"
      },
      "source": [
        "%%writefile input_with_lines.txt\r\n",
        "Первый пример запроса\r\n",
        "Из нескольких строк\r\n",
        "\r\n",
        "И второй пример\r\n",
        "Я тоже придумать смог"
      ],
      "execution_count": 3,
      "outputs": [
        {
          "output_type": "stream",
          "text": [
            "Writing input_with_lines.txt\n"
          ],
          "name": "stdout"
        }
      ]
    },
    {
      "cell_type": "markdown",
      "metadata": {
        "id": "BBU-YKC4ZL_d"
      },
      "source": [
        "Если у вас совсем нет идей, запустите код ниже – он скачает примеры запросов по умолчанию для вашей модели:"
      ]
    },
    {
      "cell_type": "code",
      "metadata": {
        "id": "_Ks9smG9YJUk"
      },
      "source": [
        "if is_empty(\"input.txt\") and is_empty(\"input_with_lines.txt\"):\n",
        "  !cp {model}/example_input.txt input.txt\n",
        "  print('\\x1b[1;31m'+\"Загружены примеры по умолчанию\"+'\\x1b[0m')"
      ],
      "execution_count": null,
      "outputs": []
    },
    {
      "cell_type": "code",
      "metadata": {
        "id": "NVDPUK2wGvpl",
        "cellView": "form"
      },
      "source": [
        "#@markdown Наконец, укажите, сколько вариантов выдачи нужно сгенерировать модели на каждый из запросов (от 1 до 30):\r\n",
        "\r\n",
        "Повторов = 4  #@param {\"type\": \"integer\"}\r\n",
        "takes = Повторов\r\n",
        "\r\n",
        "if takes < 1:\r\n",
        "  takes = 1\r\n",
        "  print(\"Это маловато. Установили значение \" + str(takes) + \".\")\r\n",
        "if takes > 30:\r\n",
        "  takes = 30\r\n",
        "  print(\"Это многовато. Установили значение \" + str(takes) + \".\")\r\n",
        "if type(takes) != int:\r\n",
        "  takes = 4\r\n",
        "  print(\"Что-то пошло не так. Установили значение \" + str(takes) + \".\")"
      ],
      "execution_count": 5,
      "outputs": []
    },
    {
      "cell_type": "markdown",
      "metadata": {
        "id": "9IH1cb0oGkXP"
      },
      "source": [
        "## Подготавливаем среду для модели\r\n",
        "Сами файлы скачаны, но нужно ещё выполнить код, чтобы подготовить модель к работе."
      ]
    },
    {
      "cell_type": "markdown",
      "metadata": {
        "id": "Y4l_N3Rw_7AJ"
      },
      "source": [
        "Проверяем, что мы подключены к видеокарте: команда в клетке ниже должна работать и показывать показывать примерно 12000-15000 Мб свободной памяти:"
      ]
    },
    {
      "cell_type": "code",
      "metadata": {
        "colab": {
          "base_uri": "https://localhost:8080/"
        },
        "id": "Kd1B5BJB_thJ",
        "outputId": "61f8ed61-8ec0-43b7-b260-caf06bd5d174"
      },
      "source": [
        "!nvidia-smi"
      ],
      "execution_count": 8,
      "outputs": [
        {
          "output_type": "stream",
          "text": [
            "Sun Feb 14 12:55:16 2021       \n",
            "+-----------------------------------------------------------------------------+\n",
            "| NVIDIA-SMI 460.39       Driver Version: 460.32.03    CUDA Version: 11.2     |\n",
            "|-------------------------------+----------------------+----------------------+\n",
            "| GPU  Name        Persistence-M| Bus-Id        Disp.A | Volatile Uncorr. ECC |\n",
            "| Fan  Temp  Perf  Pwr:Usage/Cap|         Memory-Usage | GPU-Util  Compute M. |\n",
            "|                               |                      |               MIG M. |\n",
            "|===============================+======================+======================|\n",
            "|   0  Tesla T4            Off  | 00000000:00:04.0 Off |                    0 |\n",
            "| N/A   57C    P8    11W /  70W |      0MiB / 15109MiB |      0%      Default |\n",
            "|                               |                      |                  N/A |\n",
            "+-------------------------------+----------------------+----------------------+\n",
            "                                                                               \n",
            "+-----------------------------------------------------------------------------+\n",
            "| Processes:                                                                  |\n",
            "|  GPU   GI   CI        PID   Type   Process name                  GPU Memory |\n",
            "|        ID   ID                                                   Usage      |\n",
            "|=============================================================================|\n",
            "|  No running processes found                                                 |\n",
            "+-----------------------------------------------------------------------------+\n"
          ],
          "name": "stdout"
        }
      ]
    },
    {
      "cell_type": "markdown",
      "metadata": {
        "id": "Xa62C9TeU_U5"
      },
      "source": [
        "Устанавливаем нужные версии библиотек:"
      ]
    },
    {
      "cell_type": "code",
      "metadata": {
        "id": "asqMueYPeIgK",
        "colab": {
          "base_uri": "https://localhost:8080/"
        },
        "outputId": "1eff3384-f430-43dc-dd65-0008fc3911b3"
      },
      "source": [
        "!pip3 install -q urllib3==1.25.4 transformers==2.8.0\r\n",
        "\r\n",
        "print('\\n'+'\\x1b[1m'+\"Требуемые версии пакетов установлены\"+'\\x1b[0m')"
      ],
      "execution_count": 9,
      "outputs": [
        {
          "output_type": "stream",
          "text": [
            "\u001b[K     |████████████████████████████████| 133kB 8.6MB/s \n",
            "\u001b[K     |████████████████████████████████| 573kB 17.1MB/s \n",
            "\u001b[K     |████████████████████████████████| 3.7MB 19.4MB/s \n",
            "\u001b[K     |████████████████████████████████| 890kB 58.9MB/s \n",
            "\u001b[K     |████████████████████████████████| 133kB 60.0MB/s \n",
            "\u001b[K     |████████████████████████████████| 1.2MB 48.7MB/s \n",
            "\u001b[K     |████████████████████████████████| 71kB 11.5MB/s \n",
            "\u001b[K     |████████████████████████████████| 7.2MB 57.1MB/s \n",
            "\u001b[?25h  Building wheel for sacremoses (setup.py) ... \u001b[?25l\u001b[?25hdone\n",
            "\u001b[31mERROR: datascience 0.10.6 has requirement folium==0.2.1, but you'll have folium 0.8.3 which is incompatible.\u001b[0m\n",
            "\n",
            "\u001b[1mТребуемые версии пакетов установлены\u001b[0m\n"
          ],
          "name": "stdout"
        }
      ]
    },
    {
      "cell_type": "markdown",
      "metadata": {
        "id": "iT0Njx_J8gsw"
      },
      "source": [
        "Скачиваем файл с исходным кодом для работы модели:"
      ]
    },
    {
      "cell_type": "code",
      "metadata": {
        "id": "mpkjTWefecLc",
        "colab": {
          "base_uri": "https://localhost:8080/"
        },
        "outputId": "1d7b072d-ca76-48c5-b3c0-717322b4e55b"
      },
      "source": [
        "!wget -q --show-progress https://raw.githubusercontent.com/sberbank-ai/ru-gpts/master/generate_transformers.py\r\n",
        "\r\n",
        "print('\\n'+'\\x1b[1m'+\"Код запуска модели загружен\"+'\\x1b[0m')"
      ],
      "execution_count": 10,
      "outputs": [
        {
          "output_type": "stream",
          "text": [
            "\rgenerate_transforme   0%[                    ]       0  --.-KB/s               \rgenerate_transforme 100%[===================>]  10.23K  --.-KB/s    in 0s      \n",
            "\n",
            "\u001b[1mКод запуска модели загружен\u001b[0m\n"
          ],
          "name": "stdout"
        }
      ]
    },
    {
      "cell_type": "markdown",
      "metadata": {
        "id": "h6tgF3M_WKgL"
      },
      "source": [
        "Запускаем код, необходимый для преобразования файлов и отображения выдачи:"
      ]
    },
    {
      "cell_type": "code",
      "metadata": {
        "colab": {
          "base_uri": "https://localhost:8080/"
        },
        "id": "OLQ0nauvOR6K",
        "outputId": "3e755022-54d5-4552-9c37-8cbde8505a19"
      },
      "source": [
        "import re\r\n",
        "import os\r\n",
        "import sys\r\n",
        "import json\r\n",
        "import random\r\n",
        "from datetime import datetime\r\n",
        "\r\n",
        "from IPython.display import Markdown, display\r\n",
        "\r\n",
        "def printmd(string):\r\n",
        "    display(Markdown(string))\r\n",
        "\r\n",
        "with open(model+\"/meta.json\", \"r\") as injson:\r\n",
        "  model_meta = json.load(injson)\r\n",
        "\r\n",
        "# converting inputs\r\n",
        "\r\n",
        "s = \"\"\r\n",
        "\r\n",
        "if not is_empty(\"input_with_lines.txt\"):\r\n",
        "  with open(\"input_with_lines.txt\", \"r\", encoding=\"utf-8\") as intxt:\r\n",
        "    prompts = [get_lbc(model_meta).join([sp for sp in p.split(\"\\n\") if sp]) for p in intxt.read().split(\"\\n\\n\") if p]\r\n",
        "else:\r\n",
        "  with open(\"input.txt\", \"r\", encoding=\"utf-8\") as intxt:\r\n",
        "    prompts = [p for p in intxt.read().split(\"\\n\") if p]\r\n",
        "\r\n",
        "for prompt in prompts:\r\n",
        "  s += (model_meta['prompt'] % prompt + '\\n') * takes\r\n",
        "\r\n",
        "with open(\"rawi.txt\", \"w\", encoding=\"utf-8\") as rawo:\r\n",
        "  rawo.write(s)\r\n",
        "\r\n",
        "print('\\x1b[1m'+\"Среда подготовлена\"+'\\x1b[0m')"
      ],
      "execution_count": 11,
      "outputs": [
        {
          "output_type": "stream",
          "text": [
            "\u001b[1mСреда подготовлена\u001b[0m\n"
          ],
          "name": "stdout"
        }
      ]
    },
    {
      "cell_type": "markdown",
      "metadata": {
        "id": "DP7YAlDPqknI"
      },
      "source": [
        "## Генерируем отупение\r\n",
        "\r\n",
        "Теперь всё, наконец, готово к тому, чтобы модель сгенерировала нам выдачу. То, насколько серьёзный и осмысленный текст будет пытаться выдавать модель, можно регулировать по шкале **`Бредовость`**: здесь есть 5 степеней – от самой нормальной до самой странной (я предупреждал). Кроме этого, флажок **`Повторяться`** определяет, как будет работать модель: если галочку оставить, то первый результат будет очень похож не те, что есть в канале, а последующие будут с ним совпадать. А если снять галочку, то выдача модели каждый раз будет новая. Удачи!"
      ]
    },
    {
      "cell_type": "code",
      "metadata": {
        "colab": {
          "base_uri": "https://localhost:8080/",
          "height": 1000
        },
        "id": "1Mx77HMhT85a",
        "outputId": "1b0d649f-16a0-4ea5-f2a0-4050b50d8ee4"
      },
      "source": [
        "#@markdown ### Начать генерацию!\r\n",
        "\r\n",
        "Бредовость = 75 #@param {type: \"slider\", min: 0, max: 100, step: 25}\r\n",
        "stlv = Бредовость\r\n",
        "\r\n",
        "stup_cases = {\r\n",
        "    0: {\"k\": 5, \"p\": 0.95, \"temp\": 1.0},\r\n",
        "    25: {\"k\": 5, \"p\": 0.93, \"temp\": 2.0},\r\n",
        "    50: {\"k\": 6, \"p\": 0.91, \"temp\": 3.0},\r\n",
        "    75: {\"k\": 6, \"p\": 0.9, \"temp\": 4.0},\r\n",
        "    100: {\"k\": 7, \"p\": 0.88, \"temp\": 5.0}\r\n",
        "}\r\n",
        "\r\n",
        "Повторяться = True   # @param {\"type\": \"boolean\"}\r\n",
        "add_randomness = not Повторяться\r\n",
        "\r\n",
        "rs = random.choice(list(range(0, 10000))) if add_randomness else 42\r\n",
        "printmd(\"Ключ случайного значения: **\"+str(rs)+\"**\")\r\n",
        "\r\n",
        "responses = !python generate_transformers.py \\\r\n",
        "    --model_type=gpt2 \\\r\n",
        "    --model_name_or_path={model} \\\r\n",
        "    --k={str(stup_cases[stlv][\"k\"])} \\\r\n",
        "    --p={str(stup_cases[stlv][\"p\"])} \\\r\n",
        "    --seed={str(rs)} \\\r\n",
        "    --temperature={str(stup_cases[stlv][\"temp\"])} \\\r\n",
        "    --repetition_penalty=1.0 \\\r\n",
        "    --stop_token=\"{model_meta['sequence_end_character']}\" \\\r\n",
        "    --length=500 < rawi.txt 2>/dev/null\r\n",
        "\r\n",
        "responses = \"\\n\".join(list(responses))\r\n",
        "\r\n",
        "lbc = model_meta[\"line_break_character\"]\r\n",
        "ssc = model_meta[\"sequence_start_character\"]\r\n",
        "sec = model_meta[\"sequence_end_character\"]\r\n",
        "prompt = re.sub(r\"%[a-z]+\", \"(.*?)\", model_meta[\"prompt\"])\r\n",
        "\r\n",
        "resps = [r for r in responses.split(\"Context >>> ruGPT:\\n\") if r]\r\n",
        "sps = [sp for sp in s.split(\"\\n\") if sp]\r\n",
        "for sp, resp in zip(sps, resps):\r\n",
        "  pt = re.search(re.compile(repr(re.sub(r\"%[a-z]+\", \"(.*)\", model_meta[\"prompt\"]))[1:-1]), sp).group(1)\r\n",
        "  rs, _ = re.findall(re.compile(re.escape(sp) + r\"\\n?(.*?)(\" + ssc + \"|$)\", flags=re.DOTALL), resp)[0]\r\n",
        "  pt = \"<br>\".join(\"**\" + p + \"**\" for p in re.split(lbc, pt) if p)\r\n",
        "  printmd(pt)\r\n",
        "  rs = re.sub(lbc, \"<br>\", rs).strip()\r\n",
        "  rs = re.sub(r\"([^\\s])<br>([^\\s])\", r\"\\1 <br> \\2\", rs)\r\n",
        "  printmd(rs[:rs.find(\"Context >>\")] + \"<br>\")"
      ],
      "execution_count": 12,
      "outputs": [
        {
          "output_type": "display_data",
          "data": {
            "text/markdown": "Ключ случайного значения: **42**",
            "text/plain": [
              "<IPython.core.display.Markdown object>"
            ]
          },
          "metadata": {
            "tags": []
          }
        },
        {
          "output_type": "display_data",
          "data": {
            "text/markdown": "**Я начал жизнь в трущобах городских**<br>**И добрых слов я не слыхал.**<br>**Когда ласкали вы детей своих,**<br>**Я есть просил, я замерзал.**",
            "text/plain": [
              "<IPython.core.display.Markdown object>"
            ]
          },
          "metadata": {
            "tags": []
          }
        },
        {
          "output_type": "display_data",
          "data": {
            "text/markdown": "// И я вас любил. И в ответ мне вы говорили - <br> \"Нет, не стоит! Ты не можешь жить со мною в трущобах! <br> Я не могу, я умирающий, умереть хочу!\" - (Пауза, потом он говорит: \"Погибли бы, не узнав меня ты! \")\" (Припев). <br>Я жил и жил в сквере, <br> А в кустах, под сосною <br> В тот момент он увидел <br> Клоуна, он упал и замер, - <br>\"Опомнись парень!\" <br> Припев<br>",
            "text/plain": [
              "<IPython.core.display.Markdown object>"
            ]
          },
          "metadata": {
            "tags": []
          }
        },
        {
          "output_type": "display_data",
          "data": {
            "text/markdown": "**Я начал жизнь в трущобах городских**<br>**И добрых слов я не слыхал.**<br>**Когда ласкали вы детей своих,**<br>**Я есть просил, я замерзал.**",
            "text/plain": [
              "<IPython.core.display.Markdown object>"
            ]
          },
          "metadata": {
            "tags": []
          }
        },
        {
          "output_type": "display_data",
          "data": {
            "text/markdown": "<br>И я вас спас! <br> Но вы, конечно же - ведьма, <br> Меня обманули.  </s  <p style=\"pic\": none;  margin: auto;  min-wheelpas: 15px;  position: absolute; left: auto <br> Все права на картинки и тексты принадлежат their respective directive -  http://www.sovet-club-ru.com/viewtopic.php?id=5706; /* Font-weard:s VCL-4 (Бельгийское кино, 2009, Режисеры - Александр Гольденберг  <div align*=right\"&gt;ПРИЯТИЯ&hearted<br>",
            "text/plain": [
              "<IPython.core.display.Markdown object>"
            ]
          },
          "metadata": {
            "tags": []
          }
        },
        {
          "output_type": "display_data",
          "data": {
            "text/markdown": "**Я начал жизнь в трущобах городских**<br>**И добрых слов я не слыхал.**<br>**Когда ласкали вы детей своих,**<br>**Я есть просил, я замерзал.**",
            "text/plain": [
              "<IPython.core.display.Markdown object>"
            ]
          },
          "metadata": {
            "tags": []
          }
        },
        {
          "output_type": "display_data",
          "data": {
            "text/markdown": "<br>Но вы мне сказали - нет. И вы ушли! Я остался в городе, <br>Но меня не узнали люди.../ - Ты, конечно - поэт, ты - гений... - А ты - поэт... Ты не знаешь меня. <br> Ты не поэт... - И я тоже, но ты слишком слаб, ты слаб. - Но почему я не слышу ваших криков? Почему не знаю вас? Ведь так было угодно Богу!!! <br>Я хочу жить, я не умру, <br> Мне не страшно. <br> А ты мне нужен, как никто! <br> И ты будешь моим проводником в моих краях...  (Пролог, часть I) <br> В сквере возле пруда, <br>У воды сидел человек и улыбался... - Что с тобой, приятель? - Он меня не узнал... (Предист.) <br> Я был в его власти. <br>Но, как назло, не мо<br>",
            "text/plain": [
              "<IPython.core.display.Markdown object>"
            ]
          },
          "metadata": {
            "tags": []
          }
        },
        {
          "output_type": "display_data",
          "data": {
            "text/markdown": "**Я начал жизнь в трущобах городских**<br>**И добрых слов я не слыхал.**<br>**Когда ласкали вы детей своих,**<br>**Я есть просил, я замерзал.**",
            "text/plain": [
              "<IPython.core.display.Markdown object>"
            ]
          },
          "metadata": {
            "tags": []
          }
        },
        {
          "output_type": "display_data",
          "data": {
            "text/markdown": "(С.К.) <br> Припев:   И, когда ласкали дети ваших, -  (Пауза) <br> Когда ласкали вы детей ваших <br> И добрых слов  (па) я  (имея в кармане) - \nИ когда ласкали вы ваших <br> (имя, отчеством) -  (Пауза) <br> А когда, смеясь, целовались - я был  слаб <br> Я слаб <br> И был глуп как птень <br> Но не в силах был отказать <br> (С.К.)/ Припев: <br> И, как всегда бывало, <br>Не знаю уж, как вас зовут! \nЯ начал жизнь с чистого листа <br> Но, в тот момент <br>В моих жилах кровь кипя, <br> В те поры я не спал...   </s\n\nНачало тут.\nВышла я утром из церкви и увидела я на луну странный цветок - точно как я, только не знаю чей, а просто такой: <br> «Припев» прочитала: <br>И вдруг я почувствовала боль в животе:\n-Что за дрянь!\nИ я, дрожа от холода,  [ПРИМЕЧАЕТЕ:] <br> Встала и пошла в тот дом. <br> Я была очень больна: <br>В комнате моей не могла я заснуть.  (Припев)  \n <br>И я пошла в тот дом...\n  <br>",
            "text/plain": [
              "<IPython.core.display.Markdown object>"
            ]
          },
          "metadata": {
            "tags": []
          }
        },
        {
          "output_type": "display_data",
          "data": {
            "text/markdown": "**Безумно, можно быть первым**<br>**Безумно, можно через стены**<br>**Попасть туда, окунуться в даль**<br>**Я так хочу туда.**",
            "text/plain": [
              "<IPython.core.display.Markdown object>"
            ]
          },
          "metadata": {
            "tags": []
          }
        },
        {
          "output_type": "display_data",
          "data": {
            "text/markdown": "<br>Мне очень нравится там жить, там <br> Я так хотел бы там умереть, <br>Я так хотел бы туда вернуться!\n\n<font face=Serif>\nСон. Я лежу в своей комнате с книгой на кровати в гостиной и смотрю на звезды и на облака, в которых отражаюсь и мечтаю их видеть и мечтать о чем-либо. В окно смотрю я в тот момент, когда они превращаются во мотылька. А в небе голуби кругами проносят облака.\nПрогулка с любимым мужчиной по ночной дороге - это всегда приключение на славу. А вот если в жизни все пошло не совсем гладко - тогда это будет уже совсем плохо.\nВыйдет луна - будет дождь...\nЯ лечу, лечу, летю ввысь... (Припевы под гитару).\nПролетели года...\nПровела я много бессонных часов в поезде... И вот я на вокзале в городе родном <br> В тот же вечер у окна стою...  \n  </script>\n><div># /* Style Definition */\nСквозь дождь и туман,\nВ тумане и с ветром, <br> Сквозь дождь сквозь снег. <br> Сквозь облака вижу <br> Землю, как зеркало. <br> А над головой облака, <br> А небо как стекло, и солнце <br> Не в состоянии меня понять <br> В том я виновен! Я был не прав -\nЯ прав!!! (Припухли уши и глаза, <br> Я был в том виноват!)\n</s\n\n<div>#/span>\nСквозь дождь, сквозь туман, сквозь снег. [/s]\n<s /s\n\n[s]\nСквозь дождь, через снег. Скиталец по свету. Я был в том виноват, <br> И меня обмануло то зло. <br>Пришел в дом, а он не мой <br> Он в нём жил. <br> В комнате был беспорядок <br> Я не знал, кто там. И он не мог знать - <br> Он там жил... (Притчи).\nЯ жил на кладбище <br> На том кладбище я лежал <br> С кладбища я ушел <br> В ту ночь, когда был жив, <br> Когда я умру... (Священные песни, песни и молитвы.)\nЯ умер на могиле отца <br> Он не любил вспоминать о нем,  - <br> Его убили на кладбище... (Псхи).<br<br>",
            "text/plain": [
              "<IPython.core.display.Markdown object>"
            ]
          },
          "metadata": {
            "tags": []
          }
        },
        {
          "output_type": "display_data",
          "data": {
            "text/markdown": "**Безумно, можно быть первым**<br>**Безумно, можно через стены**<br>**Попасть туда, окунуться в даль**<br>**Я так хочу туда.**",
            "text/plain": [
              "<IPython.core.display.Markdown object>"
            ]
          },
          "metadata": {
            "tags": []
          }
        },
        {
          "output_type": "display_data",
          "data": {
            "text/markdown": "Поймай меня,\nПоменяйся на ходу\nВстань, вернись\nПройдем с тобой\nМы с тобой не увидимся\nСлушай мой шепот, моя любовь моя <br> Я не хочу уходить <br> Мне страшно. Я так сильно хочу в тот миг <br> Тебя видеть и слышать! <br> Я так хочу, хочу, чтоб ты знала! <br> Припев:\nПей, пой и ты пей <br> И не отпускай меня,\nПоехали со мной! <br>Мы будем гулять, <br>Я буду гулять.\nПрипев\nВставай, вернись, вернись, <br> Мы пойдем гулять. \nПей, пой, и я буду,  // Я с тобой. <br>Припев (В ритме прибоя)\nВставайте, вернитесь <br> С вами <br> С нами. <br>С нами <br> Безумны, <br> Что не в силах я их <br> Переубедить.\nПей <br> Пей <br> Я с ума не сошла! \nПей, пей, <br> С тобой, <br>Со мной! <br>Я очень люблю тебя<br>",
            "text/plain": [
              "<IPython.core.display.Markdown object>"
            ]
          },
          "metadata": {
            "tags": []
          }
        },
        {
          "output_type": "display_data",
          "data": {
            "text/markdown": "**Безумно, можно быть первым**<br>**Безумно, можно через стены**<br>**Попасть туда, окунуться в даль**<br>**Я так хочу туда.**",
            "text/plain": [
              "<IPython.core.display.Markdown object>"
            ]
          },
          "metadata": {
            "tags": []
          }
        },
        {
          "output_type": "display_data",
          "data": {
            "text/markdown": "Слышу в небе странный шум: <br> В лесу тихо, спокойно... <br>В лесу, как во сне. <br> В небе - покой...\n(сборники)\n\n* * *\n\nСлышу я шорох за стеной, шум, <br> И вижу в темноте чей – не помню кто голос. <br> Кто этот странный странный зов? - <br> Я узнаю лишь в его тени...\n(сборники)\n*\nСлышу я шаги под балкониском, <br> А рядом - парень с гитаркой.\nЯ не понимаю его языка - он странный.\nОн мне не отвечает! - <br> А мне хочется его обнять! <br> Он мне ничего, кроме себя - ничего... <br> Он - как ангел... - он мне не верит!\n(припев)\nЯ слышу шорох за стеной, шорох, <br> Но не верю! Он мне верит! <br> Я не могу понять его язык - он странный! - <br> А мне хочется его обнять!   \n\nПрипев* (авторская версия) \n \nНа кладбище,\nВ сквере у речки,\nНа могиле моей <br> Сладкий покой... \n\nНа кладбище <br> Возле речки, <br> Сидя и куря -  \n   И с гитарой играя...\n(Припев)\nПрипев (авст.), <br> При свете костра <br> Вдруг он сказал: \"Ты права. Я не прав. <br> Я - дурак! <br> Я хочу жить! <br> Мне нужен покой...\" \n \nНа кладбища <br> Возле речки, <br> Сидя,\nСадясь в тени у речки, <br> И глядя в небо: <br> Вдруг раздался странный шум. - <br> Он сказал: \"Это ты? <br>Ты права, мне нужен покой! <br> Но, не дождавшись моего ответа -  \n   Ты ушла, ушла от меня! <br>И, как будто в бреду <br> Я вижу твои черты. <br> Что-ж, я виноват... <br> Что-ж - не надо было уходить...\"\n(предисл.).\n\n*  (предисл. Дм. БЕРГ)\nСадясь в тени у речки <br> В кустах я увидел: <br> В кустах, в траве сидел <br>Парень, в кепочке с пером <br> И смотрел вдаль...\nЯ вздрогнул:\n\"Это ты? <br>Что за шум? <br> Ты что-ж - спятиваешь?!» <br<br>",
            "text/plain": [
              "<IPython.core.display.Markdown object>"
            ]
          },
          "metadata": {
            "tags": []
          }
        },
        {
          "output_type": "display_data",
          "data": {
            "text/markdown": "**Безумно, можно быть первым**<br>**Безумно, можно через стены**<br>**Попасть туда, окунуться в даль**<br>**Я так хочу туда.**",
            "text/plain": [
              "<IPython.core.display.Markdown object>"
            ]
          },
          "metadata": {
            "tags": []
          }
        },
        {
          "output_type": "display_data",
          "data": {
            "text/markdown": "<br>Я так хочу туда попасть<br>",
            "text/plain": [
              "<IPython.core.display.Markdown object>"
            ]
          },
          "metadata": {
            "tags": []
          }
        },
        {
          "output_type": "display_data",
          "data": {
            "text/markdown": "**С причала рыбачил апостол Андрей,**<br>**А Спаситель гулял по воде.**",
            "text/plain": [
              "<IPython.core.display.Markdown object>"
            ]
          },
          "metadata": {
            "tags": []
          }
        },
        {
          "output_type": "display_data",
          "data": {
            "text/markdown": "<br>И вдруг на берег вышел апостол. <br>Он в воде стоял на коленях. <br> \"Прости, отче мой, прости мне, что ты мне помог\", <br> Но вдруг раздался крик и с берега раздался дикий вой. <br>\"Прости мне, Господи!\", <br> Но Спасителя он спасти хотел...  А затем апостол сел и поплыл назад. <br> \"Ты не знаешь меня, сын человеческий!\"  Но, к его радости и утешению, рыбака кто-то схватил и унес домой:\n- Ты меня обманешь - я тебя утопну! \nИ, словно по воду ступает, \nОн к людям домой плывет. (Припев, муз.) <br> И, как только рыбачок уплыл в пучину, <br> На берегу, как всегда,  - Иисус с апостолом Андреем: \"Ты, брат, совсем с ума сошёл?!\" <br> Апостол же сказал: <br>- Нет у нас иного пути к свету, кроме, как плыть к тебе. <br>И с этими словами, рыбака увозят на лодке прочь от города:  </script>\n<s  Lj.  Lj: <br> В доме священника в лесу я нашла книгу. <br> Он был так стар, что я не могла прочесть, <br> Как его жена умирает. <br> Припев : \"Ты, друг мой и отец наш - ты в моих сердцах! <br> Ты всегда, всегда, везде будешь, `Я тебя буду помнить всю твою дальнейшую судьбу.  (Вскрыв книгу<br>",
            "text/plain": [
              "<IPython.core.display.Markdown object>"
            ]
          },
          "metadata": {
            "tags": []
          }
        },
        {
          "output_type": "display_data",
          "data": {
            "text/markdown": "**С причала рыбачил апостол Андрей,**<br>**А Спаситель гулял по воде.**",
            "text/plain": [
              "<IPython.core.display.Markdown object>"
            ]
          },
          "metadata": {
            "tags": []
          }
        },
        {
          "output_type": "display_data",
          "data": {
            "text/markdown": "<br>Причалы полны людей и все они - грешники.../ А в небе над озером луна висела. <br> И на ней, как солнце, сияя <br> Был Иисус Христос! <br> И на земле, на горе в селеньях, он сидел. <br> И, смеясь от радости, Он пел, что Бог с нами. (Притчи 14.4, 5)\" <br> \"Началась новая жизнь, а я все сидел за решеткой... <br> А я все сидел за решеткою и плакал...\" <br> Я все сижу, все молюсь, чтоб Бог с нами <br> Пришел, как миленький. <br> Причалил я домой и стал смотреть в окно. <br> В тот момент в небе над землей <br> Я видел ангела, а над головою - человека, <br> Но не знал кто передо мной!  (Прип. 17, 2-3)\n(ПРИЛОЖЕНИЯ)  1-й ПЕСЕННИКИ\n2-ой ПРИПИСКИ К А.П. ЧЕРНОПОЛЬЦОУ\n3-ой ПЕСНЕННИК С ЛУКОЙЕ\n4-ый ПЕВЧАТ\n5 ПИСЕМЧАТЫ, С КОЛЛЕКТОРИЯМИ\n6 ПРИПИСКУ О ТОЛКВИ И О ДРЕЗДАНИИ: <br>Я был очень плох... я был очень зол... я был просто в ступе, <br> Но вдруг я услышал крик, <br>Он звал ко всем. <br> В доме раздался крик: <br> - Что за шум?! <br> Я в ужасе выскочил из дома!  <br>В комнате было жутко темно, <br> Я открыл рот, чтоб закричать, <br> Только услышал голос. <br>При этом он кричал: “Не надо меня больше трогать!..“ <br>В ужасе побежал к себе, <br>Но вдруг в спальне раздался ужасный стон! <br>Я открыл окно: <br>В комнате стояла темнота - <br>В спальне было жутко тихо! -  И вдруг из темноты раздался крик... <br> Я упал в кресло -  <br>Но вдруг меня словно ударило,  -  В комнате кто- то плакал... <br> А затем из-за шкафа послышалось: \"О, дьявол!<br>",
            "text/plain": [
              "<IPython.core.display.Markdown object>"
            ]
          },
          "metadata": {
            "tags": []
          }
        },
        {
          "output_type": "display_data",
          "data": {
            "text/markdown": "**С причала рыбачил апостол Андрей,**<br>**А Спаситель гулял по воде.**",
            "text/plain": [
              "<IPython.core.display.Markdown object>"
            ]
          },
          "metadata": {
            "tags": []
          }
        },
        {
          "output_type": "display_data",
          "data": {
            "text/markdown": "<br>- Что это значит - <br> Как это можно, как это?  - Это значит: \"Ты, сын мой!  Я - твой Спас!\"/ Припев: <br> И вот апостол, как вошь <br> Приплясывая от страха и боли <br> У воды сидел на камне. <br>Он говорил о смерти: <br> \"Не надо!  Нет!  Это - смерть!\"  Припев. * * *  Припев : \"Не надо!!!\", <br> А я - грешный, грешен, и <br> Дьявольские мысли <br> Не в моих силах мне помочь! <br> Я в плену грешников и палачей, я в ловушке у Бога! <br> А на меня - дьявол смотрит и смотрит, и я его вижу... - (Припевы)  [Припев. <br> А вот и апостол: <br>Припев (Припев): <br> Но, отец и брат! <br> Приди ко мне, я тебя умоляю!!<br>",
            "text/plain": [
              "<IPython.core.display.Markdown object>"
            ]
          },
          "metadata": {
            "tags": []
          }
        },
        {
          "output_type": "display_data",
          "data": {
            "text/markdown": "**С причала рыбачил апостол Андрей,**<br>**А Спаситель гулял по воде.**",
            "text/plain": [
              "<IPython.core.display.Markdown object>"
            ]
          },
          "metadata": {
            "tags": []
          }
        },
        {
          "output_type": "display_data",
          "data": {
            "text/markdown": "<br>\"Пора, пора нам уходить!\" - <br> Он сказал.  И, бросив прощальную нить, \n На пир, он вышел и в лодку нырнул!  И с ним апостол поплыл. <br> Но, увы - не смог спасти его. \n И с той поры он стал легендой для людей, <br> Его имя в истории не забыто. \n И в наши души не всходило, как встарило... \n А ведь в жизни было что рассказать!  В те времена <br> И в наших сердцах всегда царила любовь <br> И вера крепкая, и надежда... \n (с) Сергей САМЫЙ-ТОЧНЫЙ \n<br>А ведь, действительно! <br> Как же без романтики? \n И не только без романтики - \n С ней не страшна смерть. <br> Она - чудо природы и чудо человека! <br> И не надо ей мешать жить! <br> И пусть она - всего лишь женщина... \n<br>Она всегда с нами. (С) Стихия <br> Она не страшней смерти... - И не нужно ее ей мерить, - <br> Не нужна. <br> И пусть с ней рядом - лишь мужчина <br> Который в нее не влюблён.  Но и он - не пара. - А если и пара?  И всё? <br> И пусть с ним она не встретит смерть - <br> Но пусть будет так всегда!  А вдруг? - Ведь он всё- таки её друг? (С) В этом суть жизни. (Читает) * <br>",
            "text/plain": [
              "<IPython.core.display.Markdown object>"
            ]
          },
          "metadata": {
            "tags": []
          }
        },
        {
          "output_type": "display_data",
          "data": {
            "text/markdown": "**Когда я уйду и вернусь обратно,**<br>**И постучу в нашу дверь,**<br>**Скажу: \"Это я\". Но это неправда,**<br>**Ты мне не верь.**",
            "text/plain": [
              "<IPython.core.display.Markdown object>"
            ]
          },
          "metadata": {
            "tags": []
          }
        },
        {
          "output_type": "display_data",
          "data": {
            "text/markdown": "И в ответ мне не скажу ни \"до свиданья!\"\n\nЯ вернусь, когда придет пора <br> У меня все будет по – новому! <br> Но вернусь, как только наступит день, // Когда придет пора - <br> Я вернусь и все расскажу!\nНо вернется - я вернусь... (С)  (Can be continued...<br>",
            "text/plain": [
              "<IPython.core.display.Markdown object>"
            ]
          },
          "metadata": {
            "tags": []
          }
        },
        {
          "output_type": "display_data",
          "data": {
            "text/markdown": "**Когда я уйду и вернусь обратно,**<br>**И постучу в нашу дверь,**<br>**Скажу: \"Это я\". Но это неправда,**<br>**Ты мне не верь.**",
            "text/plain": [
              "<IPython.core.display.Markdown object>"
            ]
          },
          "metadata": {
            "tags": []
          }
        },
        {
          "output_type": "display_data",
          "data": {
            "text/markdown": "<br>Ты вернись, а я уйду, и вернусь снова\".\nПростившись с тобой я сказал, - \"Ты не вернешься, я клянусь. <br> Ты вернешься - и все будет в твоих же руках, и ты будешь счастлив!\" И я ушел...\n\"Припев\". <br> Ты ушел, я клянусь - \"Ты не вернешься, я клянусь. \nПрипев\". <br>Но ты не ответил, не понял, я ушел и вернусь обратно.\nНо ты сказал, а я ответил, \nЯ не поверил, я сказал - \"Ты вернешься! <br> Ты уйдешь! \"\n\"Припев\" \nПрипева.  (Глухой, но сильный стон.<br>",
            "text/plain": [
              "<IPython.core.display.Markdown object>"
            ]
          },
          "metadata": {
            "tags": []
          }
        },
        {
          "output_type": "display_data",
          "data": {
            "text/markdown": "**Когда я уйду и вернусь обратно,**<br>**И постучу в нашу дверь,**<br>**Скажу: \"Это я\". Но это неправда,**<br>**Ты мне не верь.**",
            "text/plain": [
              "<IPython.core.display.Markdown object>"
            ]
          },
          "metadata": {
            "tags": []
          }
        },
        {
          "output_type": "display_data",
          "data": {
            "text/markdown": "Я тебя больше никому, никогда...\nЯ ухожу и вернусь обратно!\n(Припев]\nЯ вернусь домой и вернусь обратно!\n(Приток ветра) <br> А я уйду и вернётся опять, \nИ постучу в твою кровать. \n(Убегая прочь, парень шепчет вслед): «Ты не поверишь - но это я!\"\nЯ уйду и верну тебя назад...\nЯ уйду, я верну обратно! (Смеется.) <br> Ты меня очень сильно любишь... (Плакала, рыдал.) <br> Я тебя так люблю... <br>Я тебя так сильно полюбил... (Плакала.) <br> Ты очень меня любишь… (Пролетел над лесом, улетал) <br>Ты меня так сильно любишь...\nПрипев\nЯ вернусь домой, вернусь, <br>Но вернусь обратно - <br> Приди ко мне и приди ко мне, <br> Ты меня так долго любил.  (Входит парень) - Что случилось?\nПарня нет, он пропал... (Садится в лужу) <br>И я, и он. <br> И все вокруг стало чужим. (Уходит в лес) <br> Я вернулся... \nПарень ушел...\n(Убегая подальше, парень шепчет): \"И все кругом было чужим...\" <br> Но вдруг лес стал гуще - <br> В воздухе запахло порохом...\nПарень уходит...\nПарни уходят в леса, <br>В овраги прячутся от ветра... <br> Но вскоре лес исчез в тумане.  (В оврагах прячются от ветра,  \\\\ огня...]  \n  (Припев]\nПРИЗНАНЬ,\nПРЕКРАСНЕНЬ,\nПРЕДНАЗНЕНЬ...\nПРЕДНЕЙ\nПРЕДДЕНЗ,\nПреднем, <br> В овраге, <br> У колодца\nСидела старуха, <br> Села и заплатила: <br> Веревки, ведра, <br> Платочек, фонарь <br> А под колодой  - вода.\nВ овраге <br> Веревка, ведро <br> А над нею <br> - луна.\nСмотрит она в овраге, <br>И вдруг в небо <br> Глядит, <br> Как из земли\nНа нее падает <br> С неба <br>Светлый крест. <br> В тот миг\nОна <br> Завыть начала: \"Что с тобой?!»  <<- Я же говорила<br>",
            "text/plain": [
              "<IPython.core.display.Markdown object>"
            ]
          },
          "metadata": {
            "tags": []
          }
        },
        {
          "output_type": "display_data",
          "data": {
            "text/markdown": "**Когда я уйду и вернусь обратно,**<br>**И постучу в нашу дверь,**<br>**Скажу: \"Это я\". Но это неправда,**<br>**Ты мне не верь.**",
            "text/plain": [
              "<IPython.core.display.Markdown object>"
            ]
          },
          "metadata": {
            "tags": []
          }
        },
        {
          "output_type": "display_data",
          "data": {
            "text/markdown": "<br>И в тот день ты будешь мне не рад. \nПрипевы на слова\nПрипевы <br> На слова - <br>Это все сказки.../\nПриколы на злобу дня <br> При свете свечей\nПрипятские вечера, ночь, ночь\nСкупой рыцарь <br> В темном лесу у костра.\nСкупой рыцарь, <br> Я не хочу больше <br> Тебя, моя любовь! <br> Я не буду больше тебя любить,\nЯ не буду больше жить, пока <br>Не скажу, что это ты <br>Меня не отпусти. <br> Я вернусь. И вернусь обратно, <br> Я буду ждать тебя всегда, <br> Но, когда придет пора, <br>Не уходи, уходи. <br>Не уходи, милая.\nПрипев: \nСтупай домой, моя ненастья, \nПрипять назад, назад.../\nПрипев <br> Припев: \nЯ не люблю тебя!\nЯ не боюсь тебя!!! <br> Не боюсь, не жалей, \nТы меня любишь, ты меня не пустила!!!  <s  В  ритме  сердца  песня <br> Нежность  твоих  глаз - <br> Как я хочу тебя, как люблю... <br> Как я хочу <br>Чтобы все прошло как надо!</s  В  ритмиле сердца  песня <br> Нежность твоих  глаз - <br> Как мне хочу тебя, как люблю..<br>",
            "text/plain": [
              "<IPython.core.display.Markdown object>"
            ]
          },
          "metadata": {
            "tags": []
          }
        },
        {
          "output_type": "display_data",
          "data": {
            "text/markdown": "**Я умываю руки**<br>**Рука руку пачкает**<br>**Всюду зараза**<br>**Я никому не верю**",
            "text/plain": [
              "<IPython.core.display.Markdown object>"
            ]
          },
          "metadata": {
            "tags": []
          }
        },
        {
          "output_type": "display_data",
          "data": {
            "text/markdown": ",\nА я никому не верю <br> В этом бредни. // Что за бредня -?!\nЯ никому не верю <br> В том, что все ложь <br> Я не лгала <br> И что не было у меня врагов <br> Ни друзей ни врагов <br> Я никого не обманули. <br> Что-то не понимаю я <br> В этих строкам <br> В этом бредню <br> В этой бредни, <br> И я в ней ничего понять не смог. <br> Что я -  не человек?.. <br> Что я,  как человек,\nПредавался порокам. <br> Я никому в этом не верил, <br> В чем-то, как в сказке, <br> В этой лжи. <br> Я не был, и я ее не знаю <br> В том ничего, кроме лжи, <br> В ней ничего не смысля я <br> С ней в этом не согласен, -> <br> В этой бредятии, в этих бредятинах.\nЧто за чушь - <Припев:> Что за бредня - <Припев:> Что за бредятину - <Выхлоп<br>",
            "text/plain": [
              "<IPython.core.display.Markdown object>"
            ]
          },
          "metadata": {
            "tags": []
          }
        },
        {
          "output_type": "display_data",
          "data": {
            "text/markdown": "**Я умываю руки**<br>**Рука руку пачкает**<br>**Всюду зараза**<br>**Я никому не верю**",
            "text/plain": [
              "<IPython.core.display.Markdown object>"
            ]
          },
          "metadata": {
            "tags": []
          }
        },
        {
          "output_type": "display_data",
          "data": {
            "text/markdown": ", я в аду. <br> Но, клянусь, в этом не будет ничего плохого. <br> И, когда солнце поднимется, \n\nСкажу тебе: <br> Я умую руки <br> В подвале, под душем <br> С водой. \nПей с молоком и ешь со сметаной. <br> И в этом мире ты не умрешь! <br>Я не буду с тобою жить - <br> Не будет у меня любви, поверь. <br> Но я верю - ты верь. <br> Я буду ждать тебя вечно. <br> Ты вернешься со своей водой! \n  (finished version of \"Прогулка по кладбищу\"). \n   Стих: Я, парень, в этом городе был <br> Я, паря, как ангел. \n\nЯ не был в раю, я не пил, я не ел - <br> Я, как ангел. <br> Но я все больше верил в чудеса. <br> Я, паря - не ангел! (Припев) \n   И, не смотря на свой возраст - <br> Верить, я все больше и чаще. <br> И я все дальше уезжался. <br>Я в этой глуши бывал, но, как-то, вдруг <br> Меня вдруг куда-то уплыли.\n(Февраль, 2005, ср.: http://video.yadn.com/...✂ );\"Не помню ни единого случая в истории моего пребывания во Франции, где я был. <br> Я бывал во всем. Я всегда бывал в этом. В каждом из них я узнавал что-то новоселье или день рождения, или же, наоборот: день свадьбы или дня смерти - это было всегда, а теперь я не понимаю - почему меня не приглашают в Париж? Я же здесь живу, у себя в городе! \" <br> (finished version of «Прочь из города, от сюда!  <font face: left, color: black, size-size: 20pt;\">)\n   Стих: Мне, парнишка в этот миг\nНе знаю, как тебе - мне\nПрикаляться <br> Над всем подряд:\n- Эй, парень! <br> Ты не понимаешь.\nЭй, пацану лет пять-шесть!  </font>\n   Стихо:  В этом лесу <br> Я бродил с утра и вечер - <br> Мне очень одиноко было в этот день..<br>",
            "text/plain": [
              "<IPython.core.display.Markdown object>"
            ]
          },
          "metadata": {
            "tags": []
          }
        },
        {
          "output_type": "display_data",
          "data": {
            "text/markdown": "**Я умываю руки**<br>**Рука руку пачкает**<br>**Всюду зараза**<br>**Я никому не верю**",
            "text/plain": [
              "<IPython.core.display.Markdown object>"
            ]
          },
          "metadata": {
            "tags": []
          }
        },
        {
          "output_type": "display_data",
          "data": {
            "text/markdown": "!/ Я умою руки, <br> Кровь моя - я, <br> Ты умой, ты, ты <br> Руки, я тебя. <br> Ты - моя душа.\n\nЯ хочу, я верю <br> Что ты умоеш меня! <br> Что ты скажешь, если б я был <br> Твой принц!\n\"Выйдем, выйдем\" - \nПрипев,  -  и мы вышли!\nМы пришли, мы пошли...\nИ, как ни странно  <Михалыч>,  я  все же не стал  плакать,  -  и он не побежал, не закричал...\nЯ  помню, как в первый вечер в подвале я нашел дневник, где было все: и слова, которые  мне шепчут мои родители, и дневник мой в углу. <br> \"Я хочу тебя, ты мне померещился! <br> Хочу с тобой жить!\" - говорил он, и все повторял я: <br> \"Я хочу тебя, а не тебя! Я хочу умереть в твоем замке!\" \nЯ был так ошарашено потрясен тем ужасом,  который я пережил  и в какой момент  я его потерял! Я не сразу узнал  этот крик,  и все же я  не стал ему сопротивляться! Но, как я и сказал - \"Я очень долго ждал, когда  твой принц умрет, я не верил в него!\" И,  как ни старался, не смог этого понять!\nПрипев,\n-  -  И ты хочешь умереть? <br> Ты очень хочешь умереть, мой мальчик? <br> А почему я ничего о тебе не знаю?  - \"Прикольно, что он умер! А ты, что же ты, мне его не рассказал? Ведь я все время о тебе думал и даже ночью в подвал заходил\".\n- \"Да, милый мой,  это я все тебе расскажу,  когда мы с тобой  увиженнем!\" – прошептал мой бедный принц, но, когда дверь подвала закрылась за его телом и он исчез во мгле ночи, мне стало совсем жутко, как в подвале!\n- \"Что за чертовщину мне сниться все это время, милый мой? Ты ведь не знаешь, кто я, и почему ты меня убил!\" - сказал мне  мой  мучительный демон.\nПрипев  -\n\"Что за чертовщину мне сниться это всё все это время... Я, наверное очень страшный страшный злодей... А ты кто? Я не могу с тобой ничего сделат<br>",
            "text/plain": [
              "<IPython.core.display.Markdown object>"
            ]
          },
          "metadata": {
            "tags": []
          }
        },
        {
          "output_type": "display_data",
          "data": {
            "text/markdown": "**Я умываю руки**<br>**Рука руку пачкает**<br>**Всюду зараза**<br>**Я никому не верю**",
            "text/plain": [
              "<IPython.core.display.Markdown object>"
            ]
          },
          "metadata": {
            "tags": []
          }
        },
        {
          "output_type": "display_data",
          "data": {
            "text/markdown": ", но мне <br> В душу не веришь, а хочешь <br> Сходи в баню! <br> Ты же, как я погляжу: <br> Ты все-таки человек <br> И, если честно признаться честно: <br> Ты мне не враг. <br> И если я тебя обманул, ты меня обманул! <br> Я, признаться тебе хочу, <br> Я, признаваясь в том не виню. <br> Я верю, верю <br> Ты не дурак <br> В меня, ты не веришь <br> Я, признаясь, в тебя не верю. <br> (Припев). <br> Я, признаваясь тебе хочу, <br>Я признаваясь в том не виню, ты не дурак <br>В меня, ты ни черта не понимаешь <br> И в душу не веришь. <br> Я признаваясь вам, признавшись, <br> Что в вас я был не прав <br> И не прав. <br> (Выхватывая из воздуха нож, парень стучал им в окно. Затем, схватив с полки нож с вилками, парень вышел из квартиры)  \n<br>",
            "text/plain": [
              "<IPython.core.display.Markdown object>"
            ]
          },
          "metadata": {
            "tags": []
          }
        }
      ]
    },
    {
      "cell_type": "markdown",
      "metadata": {
        "id": "W6IBHcrCEyId"
      },
      "source": [
        "## Больше отупения!\r\n",
        "\r\n",
        "Хотите попробовать другие фразы? Тогда впишите их в клетку под этим текстом, как до этого, и запустите код ниже. Не забудьте поменять `%%writefile input.txt` на `%%writefile input_with_lines.txt`, если ваши запросы содержат переносы строк!"
      ]
    },
    {
      "cell_type": "code",
      "metadata": {
        "colab": {
          "base_uri": "https://localhost:8080/"
        },
        "id": "yd0o8O28E0IJ",
        "outputId": "a5437a90-3938-4b23-adc4-fd4b060d35d4"
      },
      "source": [
        "%%writefile input.txt\r\n"
      ],
      "execution_count": null,
      "outputs": [
        {
          "output_type": "stream",
          "text": [
            "Overwriting input.txt\n"
          ],
          "name": "stdout"
        }
      ]
    },
    {
      "cell_type": "code",
      "metadata": {
        "colab": {
          "base_uri": "https://localhost:8080/",
          "height": 1000
        },
        "id": "YEGt_2-mRvN-",
        "outputId": "67b418d3-d984-4d95-9e4e-4e05e9caebb6"
      },
      "source": [
        "#@markdown ### Генерируем новую выдачу\r\n",
        "\r\n",
        "Повторов = 4  #@param {\"type\": \"integer\"}\r\n",
        "takes = Повторов\r\n",
        "\r\n",
        "if takes < 1:\r\n",
        "  takes = 1\r\n",
        "  print(\"Маловато повторов. Установлено значение \" + str(takes) + \".\")\r\n",
        "if takes > 30:\r\n",
        "  takes = 30\r\n",
        "  print(\"Маловато повторов. Установлено значение \" + str(takes) + \".\")\r\n",
        "if type(takes) != int:\r\n",
        "  takes = 4\r\n",
        "  print(\"Что-то пошло не так с количеством повторов. Установлено значение \" + str(takes) + \".\")\r\n",
        "\r\n",
        "s = \"\"\r\n",
        "\r\n",
        "if not is_empty(\"input_with_lines.txt\"):\r\n",
        "  with open(\"input_with_lines.txt\", \"r\", encoding=\"utf-8\") as intxt:\r\n",
        "    prompts = [get_lbc(model_meta).join([sp for sp in p.split(\"\\n\") if sp]) for p in intxt.read().split(\"\\n\\n\") if p]\r\n",
        "else:\r\n",
        "  with open(\"input.txt\", \"r\", encoding=\"utf-8\") as intxt:\r\n",
        "    prompts = [p for p in intxt.read().split(\"\\n\") if p]\r\n",
        "\r\n",
        "for prompt in prompts:\r\n",
        "  s += (model_meta['prompt'] % prompt + '\\n') * takes\r\n",
        "\r\n",
        "with open(\"rawi.txt\", \"w\", encoding=\"utf-8\") as rawo:\r\n",
        "  rawo.write(s)\r\n",
        "\r\n",
        "Бредовость = 25 #@param {type: \"slider\", min: 0, max: 100, step: 25}\r\n",
        "stlv = Бредовость\r\n",
        "\r\n",
        "Повторяться = False   # @param {\"type\": \"boolean\"}\r\n",
        "add_randomness = not Повторяться\r\n",
        "\r\n",
        "rs = random.choice(list(range(0, 10000))) if add_randomness else 42\r\n",
        "printmd(\"Ключ случайного значения: **\"+str(rs)+\"**\")\r\n",
        "\r\n",
        "responses = !python generate_transformers.py \\\r\n",
        "    --model_type=gpt2 \\\r\n",
        "    --model_name_or_path={model} \\\r\n",
        "    --k={str(stup_cases[stlv][\"k\"])} \\\r\n",
        "    --p={str(stup_cases[stlv][\"p\"])} \\\r\n",
        "    --seed={str(rs)} \\\r\n",
        "    --temperature={str(stup_cases[stlv][\"temp\"])} \\\r\n",
        "    --repetition_penalty=1.0 \\\r\n",
        "    --stop_token=\"{model_meta['sequence_end_character']}\" \\\r\n",
        "    --length=500 < rawi.txt 2>/dev/null\r\n",
        "\r\n",
        "responses = \"\\n\".join(list(responses))\r\n",
        "\r\n",
        "lbc = model_meta[\"line_break_character\"]\r\n",
        "ssc = model_meta[\"sequence_start_character\"]\r\n",
        "sec = model_meta[\"sequence_end_character\"]\r\n",
        "prompt = re.sub(r\"%[a-z]+\", \"(.*?)\", model_meta[\"prompt\"])\r\n",
        "\r\n",
        "resps = [r for r in responses.split(\"Context >>> ruGPT:\\n\") if r]\r\n",
        "sps = [sp for sp in s.split(\"\\n\") if sp]\r\n",
        "for sp, resp in zip(sps, resps):\r\n",
        "  pt = re.search(re.compile(repr(re.sub(r\"%[a-z]+\", \"(.*)\", model_meta[\"prompt\"]))[1:-1]), sp).group(1)\r\n",
        "  rs, _ = re.findall(re.compile(re.escape(sp) + r\"\\n?(.*?)(\" + ssc + \"|$)\", flags=re.DOTALL), resp)[0]\r\n",
        "  pt = \"<br>\".join(\"**\" + p + \"**\" for p in re.split(lbc, pt) if p)\r\n",
        "  printmd(pt)\r\n",
        "  rs = re.sub(lbc, \"<br>\", rs).strip()\r\n",
        "  rs = re.sub(r\"([^\\s])<br>([^\\s])\", r\"\\1 <br> \\2\", rs)\r\n",
        "  printmd(rs[:rs.find(\"Context >>\")] + \"<br>\")"
      ],
      "execution_count": 13,
      "outputs": [
        {
          "output_type": "display_data",
          "data": {
            "text/markdown": "Ключ случайного значения: **267**",
            "text/plain": [
              "<IPython.core.display.Markdown object>"
            ]
          },
          "metadata": {
            "tags": []
          }
        },
        {
          "output_type": "display_data",
          "data": {
            "text/markdown": "**Я начал жизнь в трущобах городских**<br>**И добрых слов я не слыхал.**<br>**Когда ласкали вы детей своих,**<br>**Я есть просил, я замерзал.**",
            "text/plain": [
              "<IPython.core.display.Markdown object>"
            ]
          },
          "metadata": {
            "tags": []
          }
        },
        {
          "output_type": "display_data",
          "data": {
            "text/markdown": "<br>А в подвале я прятался, <br> Но однажды, очнувшись в темноте, <br> Я понял: <br> Я все, что было нужно, <br> В этом подвале украл. <br> (Припев) <br> Я в подвале прятался <br> В подвале, я дрожал, <br> И в подвале, я дрожал, <br> Но вдруг кто-то мне сказал: \"Ты должен уйти. <br> Я не уйду!\" <br> Я ушел из этой комнаты, <br> Но вдруг раздался жуткий вой. <br> (Припев) <br> И в тот же миг дверь подвала распахнулась: <br>Из темноты вышел страшный монстр <br> И на полу лежал скелет мой<br>",
            "text/plain": [
              "<IPython.core.display.Markdown object>"
            ]
          },
          "metadata": {
            "tags": []
          }
        },
        {
          "output_type": "display_data",
          "data": {
            "text/markdown": "**Я начал жизнь в трущобах городских**<br>**И добрых слов я не слыхал.**<br>**Когда ласкали вы детей своих,**<br>**Я есть просил, я замерзал.**",
            "text/plain": [
              "<IPython.core.display.Markdown object>"
            ]
          },
          "metadata": {
            "tags": []
          }
        },
        {
          "output_type": "display_data",
          "data": {
            "text/markdown": "<br>Я есть был в вас, и вы тоже, <br> И вы все это любили. <br> (Припев) <br> И вот однажды <br> На улице мне повстречался парень. <br> Припев: <br> \"Ты, милый, не злись! <br> Ты мне не нравишься! <br> Я тебя очень сильно люблю! <br> Я тебя очень сильно люблю, <br> Я с тобой в одной крови! <br> Я с тобою в одном сердце, <br> Я с тобой во всем виноват! <br> И вот однажды, когда я спал, <br> Я вдруг увидел тебя. <br> Ты, наверно, тоже очень милый!  (Припев<br>",
            "text/plain": [
              "<IPython.core.display.Markdown object>"
            ]
          },
          "metadata": {
            "tags": []
          }
        },
        {
          "output_type": "display_data",
          "data": {
            "text/markdown": "**Я начал жизнь в трущобах городских**<br>**И добрых слов я не слыхал.**<br>**Когда ласкали вы детей своих,**<br>**Я есть просил, я замерзал.**",
            "text/plain": [
              "<IPython.core.display.Markdown object>"
            ]
          },
          "metadata": {
            "tags": []
          }
        },
        {
          "output_type": "display_data",
          "data": {
            "text/markdown": "<br>И в тот самый день, как умер я от любви <br> Припев: <br> / \"Ты - ангел! Ты - ангел! И в этом нет ничего страшного <br> Ты всегда рядом!\" <br> \"О, Боже! Как сильно я люблю тебя! <br> О, Боже, как сильно люблю! <br> Как сильно я люблю тебя!\" <br>И вдруг раздался страшный крик - <br>И в тот же миг из темноты <br> В лицо мне упал огромный топор... (Припев<br>",
            "text/plain": [
              "<IPython.core.display.Markdown object>"
            ]
          },
          "metadata": {
            "tags": []
          }
        },
        {
          "output_type": "display_data",
          "data": {
            "text/markdown": "**Я начал жизнь в трущобах городских**<br>**И добрых слов я не слыхал.**<br>**Когда ласкали вы детей своих,**<br>**Я есть просил, я замерзал.**",
            "text/plain": [
              "<IPython.core.display.Markdown object>"
            ]
          },
          "metadata": {
            "tags": []
          }
        },
        {
          "output_type": "display_data",
          "data": {
            "text/markdown": "<br>Но не знал я ничего, <br> Как стать жертвой жестокосердия! <br> Я не мог себе этого позволить, <br> Я просто жил в трущобах. <br> Я не понимал, зачем мне нужен дом, <br> Что я не могу жить без семьи... <br> Но вот в доме появилась я! <br> Припев: <br> Я начал жизнь в трущобах городских <br> И добрых слов я не слыхал... <br> Но не знал я ничего, <br> Как стать жертвой жестокосердия! <br> Я просто жил в трущобах городских <br> И добрых слов я не слышал...  [А.П.]\nПрипев: <br> Я начал жить в трущобах городских <br> И добрых слов я не слыхав, <br> И добрых слов я не слыхал. <br> И вот я в доме у старушки, <br> И у старушки, что на улице живет, <br> Вдруг слышу голос: <br> Я начал жить в трущобах городских <br>Я не знаю ничего, но знаю, что мне жить  \\texts <br> /<br>/<br<br>",
            "text/plain": [
              "<IPython.core.display.Markdown object>"
            ]
          },
          "metadata": {
            "tags": []
          }
        },
        {
          "output_type": "display_data",
          "data": {
            "text/markdown": "**Безумно, можно быть первым**<br>**Безумно, можно через стены**<br>**Попасть туда, окунуться в даль**<br>**Я так хочу туда.**",
            "text/plain": [
              "<IPython.core.display.Markdown object>"
            ]
          },
          "metadata": {
            "tags": []
          }
        },
        {
          "output_type": "display_data",
          "data": {
            "text/markdown": "<br>Но не могу я, не в силах, <br> Жить, как прежде <br> Не знаю куда меня деть <br> Не знаю куда девать себя <br> Я так хотел, как раньше <br> Не знаю куда меня девать себя <br> Припев: <br> И в тот день я, <br> В ту минуту <br> Был не прав <br> Я так хотел быть первым <br> Безумно, можно быть первым <br> Безумно, можно через стены  Попасть туда, окунуться в даль <br> Я хотел там, окунуться в даль, <br> И в тот же самый день <br> Я так хочу туда попасть, но никак не получается <br> Я так хотел, как раньше <br> Не знаю куда девать себя <br>Я так хотел быть первым <br> Безумно, можно быть первым <br> Безумно, можно через стены  Попасть туда, окунуться в даль  Я хотел туда попасть, но не получается <br>Я так хочу, как раньше <br> Не знаю куда меня девать себя. <br> И я не помню, что я натворил<br>",
            "text/plain": [
              "<IPython.core.display.Markdown object>"
            ]
          },
          "metadata": {
            "tags": []
          }
        },
        {
          "output_type": "display_data",
          "data": {
            "text/markdown": "**Безумно, можно быть первым**<br>**Безумно, можно через стены**<br>**Попасть туда, окунуться в даль**<br>**Я так хочу туда.**",
            "text/plain": [
              "<IPython.core.display.Markdown object>"
            ]
          },
          "metadata": {
            "tags": []
          }
        },
        {
          "output_type": "display_data",
          "data": {
            "text/markdown": "<br>Мне не надо ничего <br> Мне надо просто любить, <br> Я так хочу, чтобы кто-то <br>Об этом знал, <br>Чтоб знал кто-то <br>Что это он <br>Об этом знает<br>",
            "text/plain": [
              "<IPython.core.display.Markdown object>"
            ]
          },
          "metadata": {
            "tags": []
          }
        },
        {
          "output_type": "display_data",
          "data": {
            "text/markdown": "**Безумно, можно быть первым**<br>**Безумно, можно через стены**<br>**Попасть туда, окунуться в даль**<br>**Я так хочу туда.**",
            "text/plain": [
              "<IPython.core.display.Markdown object>"
            ]
          },
          "metadata": {
            "tags": []
          }
        },
        {
          "output_type": "display_data",
          "data": {
            "text/markdown": "<br>Я не знаю как, как это объяснить, <br> Но в тот момент я точно знал - <br> Это невозможно!!!/ <br> Но я не хотел сдаваться <br> Я не хотел уходить <br> Но я точно знал - <br> Это невозможно!!! <br> / Но я не хотел сдаваться, <br>Я точно знал - <br> Это нереально!!! <br> Но я не хотел сдаваться, <br>Мне было все равно - <br> Я был один. <br> (Припев) <br> И я не знал, как это объяснить, <br> Но в тот момент я точно знал - <br> Это невозможно!!! <br> (Припев<br>",
            "text/plain": [
              "<IPython.core.display.Markdown object>"
            ]
          },
          "metadata": {
            "tags": []
          }
        },
        {
          "output_type": "display_data",
          "data": {
            "text/markdown": "**Безумно, можно быть первым**<br>**Безумно, можно через стены**<br>**Попасть туда, окунуться в даль**<br>**Я так хочу туда.**",
            "text/plain": [
              "<IPython.core.display.Markdown object>"
            ]
          },
          "metadata": {
            "tags": []
          }
        },
        {
          "output_type": "display_data",
          "data": {
            "text/markdown": "<br>Хочу туда, окунуться в эту ночь <br> И в эту ночь, в эту ночь, я умру <br> И я буду с тобою.\n\nЯ не хочу умирать, но я хочу жить, <br> И я не могу умереть. <br> Я все равно не хочу умирать, <br> Я хочу жить и я хочу быть с тобою, <br> А я буду со своим парнем <br> И с твоим парнем, <br> С его парнем... (Включает запись на ноутбуке) <br> И со мной будет он <br> И он со своим парнем, <br> Он будет с ним, как раньше <br> А потом с тобой. <br> (Уходит) <br> И я умру...\n\nЯ не хочу умирать, но я хочу жить...\nЯ не хотел умереть, но я хочу жить, <br> И я не могу умереть...\nЯ хочу жить и я хочу быть со своим другом... <br> А я буду с твоим парнем... <br> Я хочу жить... <br> А я буду со своим парнем, <br> Я буду со своим парнем, <br> Он будет с ним... \nПрипев: <br> Я не хочу жить, но я хочу жить, <br> Я не хочу умирать, но я хочу быть с твоим парнем, <br> Я с тобой, я хочу жить. <br> (Припев) <br> Но мне очень хочется жить..<br>",
            "text/plain": [
              "<IPython.core.display.Markdown object>"
            ]
          },
          "metadata": {
            "tags": []
          }
        },
        {
          "output_type": "display_data",
          "data": {
            "text/markdown": "**С причала рыбачил апостол Андрей,**<br>**А Спаситель гулял по воде.**",
            "text/plain": [
              "<IPython.core.display.Markdown object>"
            ]
          },
          "metadata": {
            "tags": []
          }
        },
        {
          "output_type": "display_data",
          "data": {
            "text/markdown": "<br>\"Что за дела, братья и друзья! <br> Кто вы, почему в воде плаваете?\" <br> Но вдруг он увидел рыбаков. <br> И, подняв очи к небу, воскликнул: <br> \"Что вам надобно? Что за дела? \" <br> Но рыбак сказал ему, смеясь: \n\"Что мне надобно?\" <br> Но рыбак воскликнул: \"Что за дела? \" <br> Но рыбак воскликнул: <br>\"Что мне надо?\" <br> \"Что за дела? « <br> Но рыбак воскликнул: \n\"Что за дела? « <br> А Спаситель гулял по воде. <br> \"Что за дела? <br>",
            "text/plain": [
              "<IPython.core.display.Markdown object>"
            ]
          },
          "metadata": {
            "tags": []
          }
        },
        {
          "output_type": "display_data",
          "data": {
            "text/markdown": "**С причала рыбачил апостол Андрей,**<br>**А Спаситель гулял по воде.**",
            "text/plain": [
              "<IPython.core.display.Markdown object>"
            ]
          },
          "metadata": {
            "tags": []
          }
        },
        {
          "output_type": "display_data",
          "data": {
            "text/markdown": "<br>- Я, грешник грешник! <br> Припев: <br> Я не хотел быть рабом, но Господь мне помог, <br> Я хотел быть рабом, но Господь мне позволил! <br> Припев: <br>Я не хотел быть рабом, но Господь мне позволил<br>",
            "text/plain": [
              "<IPython.core.display.Markdown object>"
            ]
          },
          "metadata": {
            "tags": []
          }
        },
        {
          "output_type": "display_data",
          "data": {
            "text/markdown": "**С причала рыбачил апостол Андрей,**<br>**А Спаситель гулял по воде.**",
            "text/plain": [
              "<IPython.core.display.Markdown object>"
            ]
          },
          "metadata": {
            "tags": []
          }
        },
        {
          "output_type": "display_data",
          "data": {
            "text/markdown": "<br>И вдруг он увидел на воде двух рыб. <br>\"Что за чудо? <br> Что за беда?! <br>Как странно! <br> Как странно!  Что за наваждение?\" <br> Он хотел было закричать, <br> Но тут из воды показались четыре головы: \"Пора!\" <br> \"Да, - подумал Андрей, - пора!\". <br> И рыбак поплыл к берегу. <br> \"Вот и конец, - решил он.  \"Что за беда! <br>Как странно! <br> Как странно!\" <br>И рыбак поплыл к берегу. <br> И рыбака, как тень от тучи, увидала мать. <br> Она была очень красива: в черном платке и с младенцем на руках<br>",
            "text/plain": [
              "<IPython.core.display.Markdown object>"
            ]
          },
          "metadata": {
            "tags": []
          }
        },
        {
          "output_type": "display_data",
          "data": {
            "text/markdown": "**С причала рыбачил апостол Андрей,**<br>**А Спаситель гулял по воде.**",
            "text/plain": [
              "<IPython.core.display.Markdown object>"
            ]
          },
          "metadata": {
            "tags": []
          }
        },
        {
          "output_type": "display_data",
          "data": {
            "text/markdown": "<br>Он увидел на небе звезду, <br> И, словно в ответ на молитву, <br> В тот же миг, как он услышал ее, <br> Зажглась в его сердце любовь! <br> Но в ту ночь он понял, что это сон! <br> А когда проснулся, он понял: <br>\"Что я сотворил!\" <br> И, как ни странно, его тело воскресло<br>",
            "text/plain": [
              "<IPython.core.display.Markdown object>"
            ]
          },
          "metadata": {
            "tags": []
          }
        },
        {
          "output_type": "display_data",
          "data": {
            "text/markdown": "**Когда я уйду и вернусь обратно,**<br>**И постучу в нашу дверь,**<br>**Скажу: \"Это я\". Но это неправда,**<br>**Ты мне не верь.**",
            "text/plain": [
              "<IPython.core.display.Markdown object>"
            ]
          },
          "metadata": {
            "tags": []
          }
        },
        {
          "output_type": "display_data",
          "data": {
            "text/markdown": "<br>И я вернусь назад, <br> Но это правда, <br> И в тот самый миг я пойму, <br>Что я тебя люблю, ты не прав<br>",
            "text/plain": [
              "<IPython.core.display.Markdown object>"
            ]
          },
          "metadata": {
            "tags": []
          }
        },
        {
          "output_type": "display_data",
          "data": {
            "text/markdown": "**Когда я уйду и вернусь обратно,**<br>**И постучу в нашу дверь,**<br>**Скажу: \"Это я\". Но это неправда,**<br>**Ты мне не верь.**",
            "text/plain": [
              "<IPython.core.display.Markdown object>"
            ]
          },
          "metadata": {
            "tags": []
          }
        },
        {
          "output_type": "display_data",
          "data": {
            "text/markdown": "<br>И я не вернусь назад, <br> И не вернусь домой <br> Я не верь, что я вернусь. <br> Я не верю, что ты уйдешь. <br> Но если ты уйдешь и вернусь обратно, <br> Скажу тебе так: <br> \"Ты меня очень не жди! <br> Если ты не вернешься назад, <br> То будешь жить вечно\". <br> Я вернусь, когда ты вернешься, <br> И скажу, что я тебя очень сильно люблю, <br> И уйду я тогда. <br> И тогда я вернусь, и скажу, <br> Что люблю я тебя. <br> Я уйду тогда, и скажу, что люблю <br> Ты мою улыбку. <br> Ты будешь моей, будешь моей! <br> Но я вернусь не сразу, <br>А когда ты вернешься, я буду очень сильно любить<br>",
            "text/plain": [
              "<IPython.core.display.Markdown object>"
            ]
          },
          "metadata": {
            "tags": []
          }
        },
        {
          "output_type": "display_data",
          "data": {
            "text/markdown": "**Когда я уйду и вернусь обратно,**<br>**И постучу в нашу дверь,**<br>**Скажу: \"Это я\". Но это неправда,**<br>**Ты мне не верь.**",
            "text/plain": [
              "<IPython.core.display.Markdown object>"
            ]
          },
          "metadata": {
            "tags": []
          }
        },
        {
          "output_type": "display_data",
          "data": {
            "text/markdown": "<br>",
            "text/plain": [
              "<IPython.core.display.Markdown object>"
            ]
          },
          "metadata": {
            "tags": []
          }
        },
        {
          "output_type": "display_data",
          "data": {
            "text/markdown": "**Когда я уйду и вернусь обратно,**<br>**И постучу в нашу дверь,**<br>**Скажу: \"Это я\". Но это неправда,**<br>**Ты мне не верь.**",
            "text/plain": [
              "<IPython.core.display.Markdown object>"
            ]
          },
          "metadata": {
            "tags": []
          }
        },
        {
          "output_type": "display_data",
          "data": {
            "text/markdown": "<br>Ты верь мне, я знаю, что это ты. (Припев) <br> А потом я уйду, а ты будешь плакать..<br>",
            "text/plain": [
              "<IPython.core.display.Markdown object>"
            ]
          },
          "metadata": {
            "tags": []
          }
        },
        {
          "output_type": "display_data",
          "data": {
            "text/markdown": "**Я умываю руки**<br>**Рука руку пачкает**<br>**Всюду зараза**<br>**Я никому не верю**",
            "text/plain": [
              "<IPython.core.display.Markdown object>"
            ]
          },
          "metadata": {
            "tags": []
          }
        },
        {
          "output_type": "display_data",
          "data": {
            "text/markdown": "! \n<br>Но все равно - мне все пофиг, <br> Я не верю никому! <br> Я верю лишь одному! <br> Мне нужен покой <br> В моей душе, и я его найду <br> Я никому не верю! <br> Я верну себе все, что было - я верну <br> И тебе все, все, что было, верну! \n<br>Но все равно мне все пофиг, <br>Я верну себе все, <br>И тебе все, все, все, <br>Я верну себе все, <br>Я все, все, все, <br>Верну себе все! <br>И тебе все, все, все, всем, вернут. <br> И мне все, все, все, все, <br>Вернут! \n<br>А наутро, в тот же час <br> Я опять на кладбище <br> Вернусь с улыбкой <br> С улыбкой улыбкой, как раньше. <br> А утром я опять на кладбище <br>Вернусь с улыбкой.  А наутро я опять <br>Верну тебе все, <br>И тебе все,  все, все, <br>И тебе все, все. <br> Но я опять не смог <br> С улыбкой <br> С улыбкой <br> Вернуться с улыбкой. <br> И снова на кладбище, <br> На могилу, <br>Я снова не смог, <br>Вернуть тебе всё, <br>И тебе всё, всё... <br> Но на кладбище, в том же час <br> Я опять на кладбище <br> Вернусь с улыбкой <br> И тебе все расскажу, <br>Но на кладбище <br> Верну тебе все, <br>И тебе все расскажу, <br>И тебе все скажу! \n<br>Я снова на кладбище <br> Вернусь с улыбкой <br> С улыбкой улыбкой, как раньше. <br> А утром я опять <br>Верну тебе все, <br>И тебе все расскажу! <br>Но я опять опять <br>Верну тебе все, <br>И тебе все скажу, <br>И тебе все скажу! <br> Я снова на кладбище <br>Вернусь с улыбкой, как раньше.  И тебе все расскажу, <br> И тебе все расскажу. <br>Но у кладбища я опять не смог <br>Вернуть тебе все, <br>И тебе всё расскажу. <br>Но я снова на кладбище <br> Вернусь с улыбкой, как прежде.  И тебе все расскажу. <br>Но у кладбища я опять <br>Верну тебе все, <br>И тебе все расскажу! <br>И тебе все скажу! \n<br>А на рассвете, в тот <br>",
            "text/plain": [
              "<IPython.core.display.Markdown object>"
            ]
          },
          "metadata": {
            "tags": []
          }
        },
        {
          "output_type": "display_data",
          "data": {
            "text/markdown": "**Я умываю руки**<br>**Рука руку пачкает**<br>**Всюду зараза**<br>**Я никому не верю**",
            "text/plain": [
              "<IPython.core.display.Markdown object>"
            ]
          },
          "metadata": {
            "tags": []
          }
        },
        {
          "output_type": "display_data",
          "data": {
            "text/markdown": "! <br> И я, как последний дурак <br> В этом мире останусь один, <br> А если что - буду жить<br>",
            "text/plain": [
              "<IPython.core.display.Markdown object>"
            ]
          },
          "metadata": {
            "tags": []
          }
        },
        {
          "output_type": "display_data",
          "data": {
            "text/markdown": "**Я умываю руки**<br>**Рука руку пачкает**<br>**Всюду зараза**<br>**Я никому не верю**",
            "text/plain": [
              "<IPython.core.display.Markdown object>"
            ]
          },
          "metadata": {
            "tags": []
          }
        },
        {
          "output_type": "display_data",
          "data": {
            "text/markdown": ", <br> А в сердце мне всегда тепло. <br> Я никому не верю <br> Я никому не верю <br> Что это не бред! <br> Я никому не верю <br>Что я никому не верю. <br> Я никому не верю <br> Что я никому не верю! <br> И в эту же секунду <br> Упал я с кровати <br> И на полу я валяюсь! <br>Я никому ни в чем не верю <br> Что это НЕ бред <br> И НЕ ТАНЦУЕТ!!! <br> Упал я с кровати <br> И на полу я валяюсь!  \\t(C) А.С.ПОДГОЛОС.\n\n\"Я никому не верю, <br> А в сердцах мне всегда тепло, <br> Я никому не верю, <br> Я никому не верю, <br> Но я никому ничего не обещаю...\"  /Припев  (с) А.С.ПОДГОЛОС. <br> / Припев: <br> Мне очень хорошо с тобою, <br> Очень плохо, <br> Что ты мне нравишься! <br> Я никому не верю <br> Я никому не верю, <br> Я никому ничего не обещаю... (Припев) <br>И в ту же секунду <br> Упал я с кровати, <br>И в тот же миг - <br>На полу я валяюсь! - <br> В комнате стало темно, и мне страшно!  \\t(C) А.П.Чехов.\n\n\"Я никому не верю, <br> А в сердцах мне всегда тепло, <br> Я никому ничего не обещаю, <br> Я никому ничего не обещаю, <br> Но я никому ничего не обещаю. <br> (Припев) <br> И в ту же секунду <br> Упал я с кровати <br> И на полу я валяюсь. <br> (Припев) <br>И в ту же минуту <br> Упал я с кровати <br> И на полу я валяюсь... (Припев) <br>Я никому ничего не обещаю, <br> Я никому ничего не обещаю... (Припев) <br>Но я никому ничего не обещаю...\" /Припев  (с) А.П.Чехов.<br<br>",
            "text/plain": [
              "<IPython.core.display.Markdown object>"
            ]
          },
          "metadata": {
            "tags": []
          }
        },
        {
          "output_type": "display_data",
          "data": {
            "text/markdown": "**Я умываю руки**<br>**Рука руку пачкает**<br>**Всюду зараза**<br>**Я никому не верю**",
            "text/plain": [
              "<IPython.core.display.Markdown object>"
            ]
          },
          "metadata": {
            "tags": []
          }
        },
        {
          "output_type": "display_data",
          "data": {
            "text/markdown": "<br>Я не верю <br> Я никому не доверяю, <br> Я никому ничего не доверяю <br> Я никому ни чего не доверяю, <br> Мне никто никогда не доверял, <br>Мне никому никто не доверял, <br> Мне никогда ничего не доверяла... \" <br> И в тот миг, как я понял это, <br>Я был так же безумен, <br>Я не знал куда деться <br> И не мог я ничего с этим поделать <br>Я не мог ничего с этим поделать <br>Я ни черта ни чего не делал, <br> Я ни черта не делал, <br> Но мне все казалось не таким, <br> Я ни черта ничего не делал <br> Я просто не понимал что такое <br> Я ни чего не понимал, <br> Я ни черта ничего не делал, <br> Но вдруг я увидел в темноте свет, <br> И в ту же секунду я понял это, <br>В ту же секунду я понял что такое <br>Что значит \"не знаю\" я ничего не понимаю <br>Я просто ничего не делал, <br>Мне все кажется не таким, <br>И я ни чего ни делал, <br> Но внезапно мне в голову пришел гениальный план - <br> Я в подвале, в подвале, <br> А в подвале, в подвале <br> Я ничего не знаю! <br>Я не понимаю - что значит, <br> Но мне не страшно <br> В подвале <br> Я не понимаю <br> Что значит, <br> Но мне не страшно <br> В подвале <br> Я не понимаю <br> Что значит, <br> Что значит -  \n<br>",
            "text/plain": [
              "<IPython.core.display.Markdown object>"
            ]
          },
          "metadata": {
            "tags": []
          }
        }
      ]
    },
    {
      "cell_type": "markdown",
      "metadata": {
        "id": "3nfmtAaqcFrQ"
      },
      "source": [
        "На этом всё. Получайте удовольствие (надеюсь)!"
      ]
    }
  ]
}